{
 "cells": [
  {
   "cell_type": "markdown",
   "id": "8fdc0282-e0c7-4399-ae1e-35c8862df679",
   "metadata": {},
   "source": [
    "# Lecture 6 - Exceptions and Recap\n",
    "\n",
    "This week we covered exceptions - including what they are, how try/except works, and how to define your own - and recapped data types, functions, recursion, object-oriented programming and namespaces. This is your last session covering the fundamentals of Python before Petra takes over to cover various data science-related libraries, so if you need any help please ask!\n",
    "\n",
    "In this workshops you are going to solve a series of excercises that more or less requires usage of all the concepts studied so far. \n",
    "\n",
    "Do not skip any excercise, as each depends on having completed the previous ones! \n",
    "\n",
    "- [Exercise 1: Create a simple library management system with OOP](#Exercise-1)\n",
    "- [Exercise 2: Enable search functionalities with recursion](#Exercise-2)\n",
    "- [Exercise 3: Make it robust with exception handling](#Exercise-3)\n",
    "- [Exercise 4: Include private user accounts with appropriate use of encapsulation and namespacing](#Exercise-4)"
   ]
  },
  {
   "cell_type": "markdown",
   "id": "7bf0022e",
   "metadata": {},
   "source": [
    "\n",
    "## Exercise 1: \n",
    "## Create a simple library management system with OOP\n",
    "\n",
    "Object-Oriented Programming is a programming paradigm revolving around the usage of **classes** and **objects**, as well as the key concepts (known as pillars) **inheritance**, **encapsulation**, and **polymorphism**.\n",
    "\n",
    "In the lecture recap we covered basic class declarations including **initialisers** and **instance attributes** and practical examples of **inheritance** (through making parent and child classes and comparing their functionalities), **encapsulation** (through preventing access to instance attributes through privatisation and creating getters/setters) and **polymorphism** (accessing the same methods in different objects to produce different results).\n",
    "\n",
    "In this exercise, you'll create the foundation of our library management system using Object-Oriented Programming principles.\n",
    "\n",
    "### Requirements:\n",
    "1. Create a `Book` class with the following attributes:\n",
    "   - title\n",
    "   - author\n",
    "   - ISBN\n",
    "   - publication_year\n",
    "   - available (boolean)\n",
    "\n",
    "2. Create a `Library` class that will:\n",
    "   - Store a collection of books\n",
    "   - Allow adding new books\n",
    "   - Allow checking out books\n",
    "   - Allow returning books\n",
    "   - Provides a method `dump()` that returns the entire collection as a dictionary \n",
    "\n",
    "Try implementing these classes below:"
   ]
  },
  {
   "cell_type": "code",
   "execution_count": null,
   "id": "da40fbe2",
   "metadata": {},
   "outputs": [],
   "source": [
    "# YOUR CODE HERE - Look at example usage below to figure out the details of implementation such as how to name the methods and what arguments do they require"
   ]
  },
  {
   "cell_type": "markdown",
   "id": "f259d618",
   "metadata": {},
   "source": [
    "### Example usage:"
   ]
  },
  {
   "cell_type": "code",
   "execution_count": null,
   "id": "e88fdf43",
   "metadata": {},
   "outputs": [],
   "source": [
    "# Test your implementation with this code\n",
    "book1 = Book(\"The Hobbit\", \"J.R.R. Tolkien\", \"978-0547928227\", 1937)\n",
    "book2 = Book(\"1984\", \"George Orwell\", \"978-0451524935\", 1949)\n",
    "\n",
    "library = Library()\n",
    "library.add_book(book1)\n",
    "library.add_book(book2)\n",
    "\n",
    "library.checkout_book(\"978-0547928227\")  # Should mark The Hobbit as unavailable\n",
    "library.return_book(\"978-0547928227\")    # Should mark The Hobbit as available again\n",
    "\n",
    "print(library.dump())\n",
    "# this should return something like:\n",
    "# {\"books\": [\n",
    "#      {\"name\": \"The Hobbit\", \"author\": \"J.R.R. Tolkien\", \"ISBN\": \"978-0547928227\", \"publication_year\": 1937},\n",
    "#      {\"name\": \"1984\", \"author\": \"George Orwell\", \"ISBN\": \"978-0451524935\", \"publication_year\": 1949}\n",
    "# ]}"
   ]
  },
  {
   "cell_type": "markdown",
   "id": "5bb71ed8",
   "metadata": {},
   "source": [
    "## Exercise 2:\n",
    "## Enable search functionalities with recursion\n",
    "\n",
    "Now that we have our basic library system, let's implement some advanced search functionality using recursion.\n",
    "\n",
    "### Requirements:\n",
    "1. Extend your Book class into a `BookWithCategory` class to include a category attribute.\n",
    "\n",
    "2. Extend the Library class into a `LibraryWithSearch` class which implements a recursive search method that can:\n",
    "   - Search through nested categories of books\n",
    "   - Return all matches in a given category and its subcategories"
   ]
  },
  {
   "cell_type": "code",
   "execution_count": null,
   "id": "71c0724a",
   "metadata": {},
   "outputs": [],
   "source": [
    "# Complete the code here\n",
    "class Category:\n",
    "    def __init__(self, name, parent=None):\n",
    "        self.name = name\n",
    "        self.parent = parent\n",
    "        self.subcategories = []\n",
    "        if parent:\n",
    "            parent.subcategories.append(self)\n",
    "    \n",
    "    def __str__(self):\n",
    "        return self.name\n",
    "\n",
    "\n",
    "class BookWithCategory(Book):\n",
    "    ## TODO\n",
    "\n",
    "\n",
    "class LibraryWithSearch(Library):\n",
    "    ## TODO"
   ]
  },
  {
   "cell_type": "markdown",
   "id": "73d0e128",
   "metadata": {},
   "source": [
    "### Example usage:"
   ]
  },
  {
   "cell_type": "code",
   "execution_count": null,
   "id": "7ffd2ba1",
   "metadata": {},
   "outputs": [],
   "source": [
    "# Test your implementation\n",
    "fiction = Category(\"Fiction\")\n",
    "fantasy = Category(\"Fantasy\", parent=fiction)\n",
    "scifi = Category(\"Science Fiction\", parent=fiction)\n",
    "romance = Category(\"Romance\")\n",
    "\n",
    "book1 = BookWithCategory(\"The Hobbit\", \"J.R.R. Tolkien\", \"978-0547928227\", 1937, category=fantasy)\n",
    "book2 = BookWithCategory(\"1984\", \"George Orwell\", \"978-0451524935\", 1949, category=scifi)\n",
    "book3 = BookWithCategory(\"Pride and Prejudice\", \"Jane Austen\", \"978-1503290563\", 1813)\n",
    "\n",
    "library = LibraryWithSearch()\n",
    "library.add_book(book1)\n",
    "library.add_book(book2)\n",
    "library.add_book(book3)\n",
    "\n",
    "# Should find all books in fiction and its subcategories\n",
    "results = library.search_books(category=\"Fiction\", recursive=True)"
   ]
  },
  {
   "cell_type": "markdown",
   "id": "b928ad64",
   "metadata": {},
   "source": [
    "## Exercise 3:\n",
    "## Make it robust with exception handling\n",
    "\n",
    "Let's make our library system more robust by implementing proper exception handling.\n",
    "\n",
    "### Requirements:\n",
    "1. Create custom exceptions for common errors:\n",
    "   - `BookNotFoundError`\n",
    "   - `BookAlreadyExistsError`\n",
    "   - `BookNotAvailableError`\n",
    "\n",
    "2. Implement appropriate try/except blocks in your Library class methods"
   ]
  },
  {
   "cell_type": "code",
   "execution_count": null,
   "id": "eb7d673b",
   "metadata": {},
   "outputs": [],
   "source": [
    "## ADD CUSTOM EXCEPTIONS HERE\n",
    "\n",
    "\n",
    "## Complete below\n",
    "class RobustLibrary(LibraryWithSearch):\n",
    "    # TODO"
   ]
  },
  {
   "cell_type": "markdown",
   "id": "cf114af5",
   "metadata": {},
   "source": [
    "### Example usage:"
   ]
  },
  {
   "cell_type": "code",
   "execution_count": null,
   "id": "64533390",
   "metadata": {},
   "outputs": [],
   "source": [
    "# Test your implementation\n",
    "library = RobustLibrary()\n",
    "library.add_book(book1)\n",
    "library.add_book(book2)\n",
    "\n",
    "try:\n",
    "    library.checkout_book(\"non-existent-isbn\")\n",
    "except BookNotFoundError as e:\n",
    "    print(f\"Error: {e}\")\n",
    "\n",
    "try:\n",
    "    library.add_book(book1)  # Try adding the same book twice\n",
    "except BookAlreadyExistsError as e:\n",
    "    print(f\"Error: {e}\")"
   ]
  },
  {
   "cell_type": "markdown",
   "id": "16fdb445",
   "metadata": {},
   "source": [
    "## Exercise 4: \n",
    "## Include private user accounts with appropriate use of encapsulation and namespacing\n",
    "\n",
    "Finally, let's add user account functionality with proper encapsulation and namespace management.\n",
    "\n",
    "### Requirements:\n",
    "1. Create a `User` class with:\n",
    "   - Private attributes for username and password\n",
    "   - Method to authenticate\n",
    "   - History of checked out books\n",
    "\n",
    "2. Modify the Library class to:\n",
    "   - Require user authentication for checkout/return\n",
    "   - Maintain private records of user activities"
   ]
  },
  {
   "cell_type": "code",
   "execution_count": null,
   "id": "61a80b5b",
   "metadata": {},
   "outputs": [],
   "source": [
    "class AuthenticationError(Exception):\n",
    "    \"\"\"Raised when authentication fails\"\"\"\n",
    "    pass\n",
    "\n",
    "## Complete the code below looking at example usage for details.\n",
    "\n",
    "class User:\n",
    "    # TODO\n",
    "\n",
    "    def authenticate(self, password):\n",
    "        # This method checks that the password is correct\n",
    "        # TODO\n",
    "\n",
    "\n",
    "class SecureLibrary(RobustLibrary):\n",
    "    # TODO"
   ]
  },
  {
   "cell_type": "markdown",
   "id": "131875dc",
   "metadata": {},
   "source": [
    "### Example usage:"
   ]
  },
  {
   "cell_type": "code",
   "execution_count": null,
   "id": "2ab1e57c",
   "metadata": {},
   "outputs": [],
   "source": [
    "# Test your implementation\n",
    "user = User(\"john_doe\", \"password123\")\n",
    "library = SecureLibrary()\n",
    "\n",
    "library.register_user(user)\n",
    "\n",
    "# Try checking out a book with authentication\n",
    "try:\n",
    "    library.checkout_book(\"978-0547928227\", user=\"john_doe\", password=\"password123\")\n",
    "except AuthenticationError as e:\n",
    "    print(f\"Error: {e}\")\n",
    "\n",
    "\n",
    "try:\n",
    "    library.checkout_book(\"978-0547928227\", user=\"john_doe\", password=\"wrong-password\")\n",
    "except AuthenticationError as e:\n",
    "    print(f\"Error: {e}\")\n",
    "\n",
    "\n",
    "try:\n",
    "    library.checkout_book(\"978-0547928227\", user=\"Hanna\", password=\"\")\n",
    "except AuthenticationError as e:\n",
    "    print(f\"Error: {e}\")"
   ]
  }
 ],
 "metadata": {
  "kernelspec": {
   "display_name": "Python 3 (ipykernel)",
   "language": "python",
   "name": "python3"
  },
  "language_info": {
   "codemirror_mode": {
    "name": "ipython",
    "version": 3
   },
   "file_extension": ".py",
   "mimetype": "text/x-python",
   "name": "python",
   "nbconvert_exporter": "python",
   "pygments_lexer": "ipython3",
   "version": "3.11.3"
  }
 },
 "nbformat": 4,
 "nbformat_minor": 5
}
