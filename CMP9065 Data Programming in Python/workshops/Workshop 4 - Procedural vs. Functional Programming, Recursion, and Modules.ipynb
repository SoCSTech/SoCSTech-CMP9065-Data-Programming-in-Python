{
 "cells": [
  {
   "cell_type": "markdown",
   "id": "8fdc0282-e0c7-4399-ae1e-35c8862df679",
   "metadata": {},
   "source": [
    "# Workshop 4 - Procedural vs. Functional Programming, Recursion, and Modules\n",
    "\n",
    "Welcome to week four! Today we'll be briefly recapping list comprehension, list slicing, and functions, then introducing some new concepts, namely looking at the differences between procedural and functional programming, introducing recursion, and demonstrating module imports - including what they are, what they're for, and plenty of usage examples.\n",
    "\n",
    "- [Recap](#Recap)\n",
    "- [Procedural vs. Functional Programming](#Procedural-vs.-Functional-Programming)\n",
    "- [Recursion](#Recursion)"
   ]
  },
  {
   "cell_type": "markdown",
   "id": "8832cbbd-139b-44c9-9260-eae1f443591e",
   "metadata": {},
   "source": [
    "## Recap\n",
    "Last week, we covered list comprehension and list slicing, as well as functions (including how they're defined, what they're for, and how to return values from them) and the *map()* function.\n",
    "\n",
    "Let's quickly recap those - can you write either a list comprehension, a list slicing call, or a function (choose which is most appropriate) to perform the task in each comment?"
   ]
  },
  {
   "cell_type": "code",
   "execution_count": null,
   "id": "cefc922e-e01a-49a0-a427-d64d21d6a90e",
   "metadata": {},
   "outputs": [],
   "source": [
    "# declaring baseline list - do not delete!\n",
    "vals = [1, 2, 3, 4, 5]\n",
    "\n",
    "# using list comprehension\n",
    "# create a list new_vals that contains [3, 6, 9, 12, 15]\n"
   ]
  },
  {
   "cell_type": "code",
   "execution_count": null,
   "id": "ffd320db-f84f-448c-9a6a-78fb97da779d",
   "metadata": {},
   "outputs": [],
   "source": [
    "# using list slicing\n",
    "# create a list mid_vals that contains [2, 3, 4] \n"
   ]
  },
  {
   "cell_type": "code",
   "execution_count": null,
   "id": "da7c5cb3-c14d-440c-a346-534f366423fe",
   "metadata": {},
   "outputs": [],
   "source": [
    "# using list slicing\n",
    "# create a list rev_vals that contains [5, 4, 3, 2, 1]\n"
   ]
  },
  {
   "cell_type": "code",
   "execution_count": null,
   "id": "32e1db73-6e1b-427a-bd9b-bfe71c5680cd",
   "metadata": {},
   "outputs": [],
   "source": [
    "# using both list comprehension and list slicing\n",
    "# create a list final_vals that contains [25, 20, 15, 10, 5]\n"
   ]
  },
  {
   "cell_type": "code",
   "execution_count": null,
   "id": "177b7f5e-e559-45bb-8528-d4feb01490ce",
   "metadata": {},
   "outputs": [],
   "source": [
    "# define a function get_middle that, given a list, returns the list but without the first and last values\n"
   ]
  },
  {
   "cell_type": "code",
   "execution_count": null,
   "id": "ab815f23-19f1-4c60-8658-a37f803745dc",
   "metadata": {},
   "outputs": [],
   "source": [
    "# declaring baseline lists - do not delete!\n",
    "vals1 = [1, 2, 3, 4, 5]\n",
    "vals2 = [3, 6, 9, 12, 15]\n",
    "\n",
    "# define a function raise_val that, given two integers x and y, returns x to the power of y\n",
    "\n",
    "\n",
    "# using explicit list conversion and the map function\n",
    "# create a list raised_vals that contains the values in vals1 to the power of the values in vals2\n"
   ]
  },
  {
   "cell_type": "markdown",
   "id": "abd43683-5a93-479a-b7c9-1f207ff8eb8d",
   "metadata": {},
   "source": [
    "## Procedural vs. Functional Programming\n",
    "\n",
    "The lecture for this week covered procedural vs functional programming, two key programming paradigms that, along with object-oriented programming - serve as decent reminders of what \"rules\" should be followed to write solid code. As this topic was primarily theoretical and didn't involve much coding, your time would be best served by simply ensuring you understand the key aspects of both paradigms.\n",
    "\n",
    "---\n",
    "\n",
    "The key aspects of procedural programming are:"
   ]
  },
  {
   "cell_type": "markdown",
   "id": "26695d2a-f33d-4ad6-a12a-20ba2b13b706",
   "metadata": {},
   "source": [
    "***Predefined functions*** are functions that are accessible by the developer either through an external library (and imported, in the case of Python), or internally as part of the language. The above examples are in-built Python functions you should be familiar with - more on importing libraries (and their functions) later in this lecture (this is especially important to understand for the latter half of the module content)."
   ]
  },
  {
   "cell_type": "markdown",
   "id": "18301f4a-5243-4fdc-9529-2ef239e2111e",
   "metadata": {},
   "source": [
    "***Local variables*** you should be intimately familiar with at this point, but these refer to declared variables that are scope-limited to the block of code in which they are defined (in the above example, the function cannot know what x is without being passed it as an argument). This allows functions (like in the cell above) to work on their own copy of a variable without affecting the global state; modifying x inside the function does not modify x outside the function.\n",
    "\n",
    "***Global variables*** are a new concept for the module content so far; unlike local variables, global variables can be accessed anywhere in the program (they have a global scope) - these are usually defined outside of the main function, but can be initialized from inside any local scope.\n",
    "\n",
    "Note: it is generally not recommended to use global variables where local variables can be used; you should aim to write the most \"maintainable\" code possible - that is, you need to find a balance between making things accessible while also preventing accidental collisions/modifications (more on this when we discuss public vs. private class variables when we cover object-oriented programming).  \n",
    "\n",
    "To summarise, generally a stricter namespace is better than a more lax namespace.\n",
    "\n",
    "***Modularity*** refers to separating code/program functionality into individual groups/modules, each of which has exclusive responsibility of a certain task. The above code cell demonstrates a simple example, but you can imagine extending this concept to far more complex projects, with separate scripts for separate responsibilities (e.g. a script for handling users, a script for handling the database, a script for handling the UI, etc) each of which are split into functions which also all have their own exclusive responsibilities (e.g. adding a user, removing a user, checking user info, etc).\n",
    "\n",
    "This is a feature of both procedural and functional programming. \n",
    "\n",
    "---\n",
    "\n",
    "The key aspects of functional programming are:\n",
    "\n",
    "***Pure functions*** are functions that fulfil the four requirements of *returning the same output for a given set of inputs*, having *referential transparency*, having *no side effects*, and *only using the parameters they are passed*. Refer to the lecture for examples.\n",
    "\n",
    "***Immutable data*** is data that cannot be changed once initialized (the opposite being mutable data, data that can be changed once initialized). In functional programming, it's best practice to try to only use immutable data; every time you want to modify a variable, you store the new value as a new variable instead of modifying the original.\n",
    "\n",
    "***Avoiding shared states*** refers to the guideline that variables should not be updated from multiple places or relied on in multiple places; variables and objects should be restricted to their own scope, which aids in managing and debugging code.\n",
    "\n",
    "***First-class and higher-order functions*** are functions that can be used like any other variable (similar to referential transparency); first class functions can be used as an argument for a function, returning as a value from a function, stored in data structures, assigned as a value to variables, used as a value in statements, etc. A higher-order function is a function that can take other functions as arguments or return other functions as a result - this is a key aspect of functional programming.\n",
    "\n",
    "***Recursion*** is the concept of a function that calls itself to solve an iterative task. More on this in the next section, as in the lecture."
   ]
  },
  {
   "cell_type": "markdown",
   "id": "49ec1aa3",
   "metadata": {},
   "source": [
    "**Task 1**: write some code following the procedural programming paradigm that computes the sum of the elements of a list "
   ]
  },
  {
   "cell_type": "code",
   "execution_count": null,
   "id": "c011a7e9",
   "metadata": {},
   "outputs": [],
   "source": []
  },
  {
   "cell_type": "markdown",
   "id": "599cd492",
   "metadata": {},
   "source": [
    "**Task 2**: write some code following the functional programming paradigm that computes the sum of the elements of a list "
   ]
  },
  {
   "cell_type": "code",
   "execution_count": null,
   "id": "0ce47d77",
   "metadata": {},
   "outputs": [],
   "source": [
    "# hint: you can use recursion \n"
   ]
  },
  {
   "cell_type": "markdown",
   "id": "ac79e737-4483-4210-ba53-3d978294b96e",
   "metadata": {},
   "source": [
    "## Recursion\n",
    "\n",
    "Recursion is a common concept attributed to functional programming, primarily used as an alternative implementation method for while loops or for loops. When a function is ***recursive***, that function calls itself repeatedly until a condition (much like the condition used to initiate a while loop) no longer evaluates to True. This is a very effective and useful concept in select circumstances.\n",
    "\n",
    "Implement a recursive function rec_double that, given an integer x, prints and returns x * 2 until x > 50."
   ]
  },
  {
   "cell_type": "code",
   "execution_count": 14,
   "id": "307fa78b-1f39-4ce0-8b76-f3eb8bec2875",
   "metadata": {},
   "outputs": [],
   "source": [
    "# hint: remember to put your conditional check inside the recursive function!\n"
   ]
  },
  {
   "cell_type": "markdown",
   "id": "97c8efe6-ece7-4066-8728-c79b6d708f40",
   "metadata": {},
   "source": [
    "Just like that! This is, of course, a very simple example, but it's easy to see how this can be applied to more complex use-cases. Let's try one!\n",
    "\n",
    "Let's try to make it a little more complex. Similar to the prior task...\n",
    "\n",
    "Implement a recursive function rec_double that, given integers x and y, prints and returns x * 2 until x > y."
   ]
  },
  {
   "cell_type": "code",
   "execution_count": null,
   "id": "8cfe297e-d88f-4eaa-8d90-c4ab0e7f69ce",
   "metadata": {},
   "outputs": [],
   "source": [
    "# hint: remember to put your conditional check inside the recursive function!\n"
   ]
  },
  {
   "cell_type": "markdown",
   "id": "1a3f22be-2b15-4fe0-ad5d-1512843a627f",
   "metadata": {},
   "source": [
    "Nicely done! Let's make it slightly more advanced once again.\n",
    "\n",
    "Implement a recursive function rev_str that, given a string x, returns a reversed version.  \n",
    "You are not allowed to use any string operations other than concatenation (string + string)."
   ]
  },
  {
   "cell_type": "code",
   "execution_count": 15,
   "id": "588b343c-656d-45a4-8081-2c0539f15f1b",
   "metadata": {},
   "outputs": [],
   "source": [
    "# hint: remember to put your conditional check inside the recursive function!\n",
    "# hint: remember that you can use indexing on strings just like you do on lists!\n"
   ]
  },
  {
   "cell_type": "markdown",
   "id": "c4277461-80d0-4ae4-9626-70e821fac54e",
   "metadata": {},
   "source": [
    "Let's try one more, learning from what was shown in the lecture.  \n",
    "\n",
    "Implement a recursive function fib that, given an integer x, returns that value at that position in the fibonacci sequence.  \n",
    "Then, define a function fib_seq that, given an integer, uses list comprehension with a range() function call to return a list of the fibonacci sequence up to x digits."
   ]
  },
  {
   "cell_type": "code",
   "execution_count": null,
   "id": "c406005b-5ce3-45f4-b19f-6b127390cd0d",
   "metadata": {},
   "outputs": [],
   "source": [
    "# declare a recursive \"fib\" function\n",
    "\n",
    "\n",
    "# define fib_seq() function\n"
   ]
  }
 ],
 "metadata": {
  "kernelspec": {
   "display_name": "Python 3 (ipykernel)",
   "language": "python",
   "name": "python3"
  },
  "language_info": {
   "codemirror_mode": {
    "name": "ipython",
    "version": 3
   },
   "file_extension": ".py",
   "mimetype": "text/x-python",
   "name": "python",
   "nbconvert_exporter": "python",
   "pygments_lexer": "ipython3",
   "version": "3.11.3"
  }
 },
 "nbformat": 4,
 "nbformat_minor": 5
}
