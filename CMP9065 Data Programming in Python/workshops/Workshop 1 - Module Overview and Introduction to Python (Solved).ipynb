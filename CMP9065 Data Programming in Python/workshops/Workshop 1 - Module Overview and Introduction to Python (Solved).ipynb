{
 "cells": [
  {
   "cell_type": "markdown",
   "id": "8fdc0282-e0c7-4399-ae1e-35c8862df679",
   "metadata": {},
   "source": [
    "# Workshop 1 - Module Overview and Introduction to Python\n",
    "\n",
    "Welcome to Data Programming in Python! This module will introduce you to the Python programming language - from variables and if statements to statistical testing and graph plotting - with the aim of preparing you for the other modules on the course and handling data in a work setting. **No need to be shy - if you need help, just ask for it!**\n",
    "\n",
    "- [Jupyter Notebook](#Jupyter-Notebook)\n",
    "- [Variables](#Variables)\n",
    "    - [Data Types and Operators](#Data-Types-and-Operators)\n",
    "        - [Basic Data Types](#Basic-Data-Types)\n",
    "        - [Collection Data Types](#Collection-Data-Types)"
   ]
  },
  {
   "cell_type": "markdown",
   "id": "8832cbbd-139b-44c9-9260-eae1f443591e",
   "metadata": {},
   "source": [
    "## Jupyter Notebook\n",
    "First - since we'll be using it for both the lectures and workshops - let's take a quick look at how Jupyter Notebook works.\n",
    "\n",
    "A Jupyter Notebook is made up of \"cells\". There are two primary types of cells you need to know about.\n",
    "\n",
    "The cell you are currently reading from is called a markdown cell, it contains text written in a syntax called markdown that - when the cell is ran - produces formatted text (including headers, table of contents, etc). Try double clicking this cell (or any other markdown cell) to see the raw un-rendered cell contents. Feel free to experiment with the cell's contents!\n",
    "\n",
    "The following cell is a \"code cell\", with the cell highlighted the code within - which is Python code - can be executed using shift+enter or by selecting Run -> Run Selected Cell on the top menu bar."
   ]
  },
  {
   "cell_type": "code",
   "execution_count": null,
   "id": "401f497c-67cd-47e8-af0c-04f6fb90e2a9",
   "metadata": {},
   "outputs": [],
   "source": [
    "# This is a code cell.\n",
    "\n",
    "1 + 2"
   ]
  },
  {
   "cell_type": "markdown",
   "id": "d4704e9a-0eaf-4e80-97bd-90c24c92b7c9",
   "metadata": {},
   "source": [
    "As you can see, when the cell is executed, the output of the code appears below the cell (if there is a valid output). The line prefixed with a hash symbol (#) is not executed as, in Python, this is a comment line used for labeling your code. In your assignments, you can use it to reference any snippets used!\n",
    "\n",
    "You can also see a simple addition of two values being executed (1 + 2) and the result being displayed, but we don't \"save\" these values in any way for later use. In the cell above, modify the arithmetic statement - maybe try using multiplication or division instead. What happens if you try to divide by zero?\n",
    "\n",
    "Very often, you'll want to store a value for use later in the code. This is where variables come in handy!"
   ]
  },
  {
   "cell_type": "markdown",
   "id": "abd43683-5a93-479a-b7c9-1f207ff8eb8d",
   "metadata": {},
   "source": [
    "## Variables\n",
    "\n",
    "A variable is a piece of computer memory containing some information which has been assigned a symbolic name as part of your code.\n",
    "\n",
    "Here's an example:\n"
   ]
  },
  {
   "cell_type": "code",
   "execution_count": null,
   "id": "7f24c21b-96bf-4022-a570-84ad90e938dc",
   "metadata": {},
   "outputs": [],
   "source": [
    "add_sum = 1 + 2"
   ]
  },
  {
   "cell_type": "markdown",
   "id": "26695d2a-f33d-4ad6-a12a-20ba2b13b706",
   "metadata": {},
   "source": [
    "Here we've declared a variable, with the symbolic name \"add_sum\", that contains the value of 1 + 2.\n",
    "\n",
    "When declaring a variable, you should ensure that the symbolic name is representative of what the assigned value represents. You should try to adhere to the [PEP8 style guide](https://peps.python.org/pep-0008/#function-and-variable-names) when declaring your variables (they should be lowercase, with words separated by underscores as necessary to improve readability).\n",
    "\n",
    "Try creating a variable in the code cell above that stores the result of some calculation using more values - maybe try to involve other arithmetic operators (multiply, divide, subtract)!"
   ]
  },
  {
   "cell_type": "code",
   "execution_count": null,
   "id": "a343c6dd-a29c-4971-83d8-c8bcdf274bee",
   "metadata": {},
   "outputs": [],
   "source": [
    "dog_name = 'Woofers'\n",
    "owner_name = 'Steven'\n",
    "years_adopted = 4"
   ]
  },
  {
   "cell_type": "markdown",
   "id": "18301f4a-5243-4fdc-9529-2ef239e2111e",
   "metadata": {},
   "source": [
    "Here's some more variables. You'll notice that, when we ran the code cells, no output values were displayed. We are only declaring variables and assigning values to them, as covered in the lecture; we need to call a variable to see its value."
   ]
  },
  {
   "cell_type": "code",
   "execution_count": null,
   "id": "c5efab9a-1e52-45fa-9da8-7fdd269e3abc",
   "metadata": {},
   "outputs": [],
   "source": [
    "add_sum"
   ]
  },
  {
   "cell_type": "code",
   "execution_count": null,
   "id": "83faef36-a6a6-480a-85dd-38719b39eb9e",
   "metadata": {},
   "outputs": [],
   "source": [
    "dog_name"
   ]
  },
  {
   "cell_type": "code",
   "execution_count": null,
   "id": "924c01e3-80a0-47c7-a45f-2eb946e5a6e2",
   "metadata": {},
   "outputs": [],
   "source": [
    "owner_name"
   ]
  },
  {
   "cell_type": "code",
   "execution_count": null,
   "id": "bab03cd5-b71f-4b04-bfdb-9f488f9b1325",
   "metadata": {},
   "outputs": [],
   "source": [
    "years_adopted"
   ]
  },
  {
   "cell_type": "markdown",
   "id": "876f2ea1-720f-4968-aa46-7491690290a5",
   "metadata": {},
   "source": [
    "There we go. The above was an example using numbers, but what else exists in Python and what else can we assign to variables?"
   ]
  },
  {
   "cell_type": "markdown",
   "id": "ac79e737-4483-4210-ba53-3d978294b96e",
   "metadata": {},
   "source": [
    "### Data Types and Operators\n",
    "\n",
    "Python is both a ***strongly typed*** and a ***dynamically typed*** programming language. This makes Python very approachable for newer programmers.\n",
    "\n",
    "***Strongly typed*** refers to the requirement that variables have a type, and that type affects how operations on this variables are performed. Some languages do not check that variables have a type, Python does, but you won't need to worry about this. We will cover data types and operations shortly.\n",
    "\n",
    "***Dynamically typed*** means that data types do not need to be explicitly stated when declaring variables, they are determined from context at runtime."
   ]
  },
  {
   "cell_type": "code",
   "execution_count": null,
   "id": "307fa78b-1f39-4ce0-8b76-f3eb8bec2875",
   "metadata": {},
   "outputs": [],
   "source": [
    "# in some programming languages, you would need to specify a type when declaring a variable\n",
    "# here is an integer declaration in C#/C++\n",
    "# int dogAge = 6;\n",
    "dogAge = 6"
   ]
  },
  {
   "cell_type": "markdown",
   "id": "a1a8800a-cffb-4fa6-9078-73b10a4b2c29",
   "metadata": {},
   "source": [
    "If you run the above code cell, you'll notice there's an error! Try modifying the code so that it declares an integer variable in valid Python code! Ensure the symbolic name is changed to reflect Python standards.\n",
    "\n",
    "Python also features operators that allow us to perform five main types of operations.\n",
    "\n",
    "***Arithmetic Operators***\n",
    "\n",
    "| Operator | Name           | Example |\n",
    "|:--------:|:--------------:|:-------:|\n",
    "| +        | Addition       | x + y   |\n",
    "| -        | Subtraction    | x - y   |\n",
    "| *        | Multiplication | x * y   |\n",
    "| /        | Division       | x / y   |\n",
    "| %        | Modulus        | x % y   |\n",
    "\n",
    "***Assignment Operators***\n",
    "\n",
    "| Operator | Example | Equivalent |\n",
    "|:--------:|:-------:|:----------:|\n",
    "|     =    |  x = 5  |     N/A    |\n",
    "|    +=    |  x += 5 |  x = x + 5 |\n",
    "|    -=    |  x -= 5 |  x = x - 5 |\n",
    "|    *=    |  x *= 5 |  x = x * 5 |\n",
    "|    /=    |  x /= 5 |  x = x\n",
    "\n",
    "***Comparison Operators***\n",
    "\n",
    "| Operator |           Name           | Example |\n",
    "|:--------:|:------------------------:|:-------:|\n",
    "|    ==    |         Equal to         |  x == y |\n",
    "|    !=    |       Not equal to       |  x != y |\n",
    "|     >    |       Greater than       |  x > y  |\n",
    "|     <    |         Less than        |  x < y  |\n",
    "|    >=    | Greater than or equal to |  x >= y |\n",
    "|    <=    |   Less than or equal to  |  x\n",
    "\n",
    "***Logical Operators***\n",
    "\n",
    "| Operator |                      Description                     |     Example     |\n",
    "|:--------:|:----------------------------------------------------:|:---------------:|\n",
    "|    and   |     Evaluates to True if both statements are True    | x < 5 and x > 3 |\n",
    "|    or    | Evaluates to True if one or both statements are True | x < 5 or x == 7 |\n",
    "|    not   |      Evaluates to True if the statement is False     |    not(x < 5)\n",
    "\n",
    "***Membership Operators***\n",
    "| Operator |                              Description                             |   Example  |\n",
    "|:--------:|:--------------------------------------------------------------------:|:----------:|\n",
    "|    in    |     Evaluates to True if a sequence contains the specified value     |   x in y   |\n",
    "|  not in  | Evaluates to True if a sequence does not contain the specified value | x not in y |"
   ]
  },
  {
   "cell_type": "markdown",
   "id": "a20964f0-1e18-486e-bb13-ae45cdd51b82",
   "metadata": {},
   "source": [
    "Don't worry about remembering all of these, they'll start to come naturally with practice, and we'll go through them in the following section!\n",
    "\n",
    "So now we know that we can use these operators to perform operations on various data types, but what data types exist for us to use in Python? There are quite a few, so let's break it down into groups."
   ]
  },
  {
   "cell_type": "markdown",
   "id": "54f2ea55-e386-42be-884a-d596b545de72",
   "metadata": {},
   "source": [
    "#### Basic Data Types\n",
    "\n",
    "Python can be thought of having two categories of data types, a set of basic data types and a set of collection data types.\n",
    "\n",
    "The four basic types are ***integers***, ***floats***, ***strings***, and ***booleans***.\n",
    "\n",
    "***Integers*** are used to represent whole numbers and, as you might imagine, can be used to represent a wide variety of things."
   ]
  },
  {
   "cell_type": "code",
   "execution_count": null,
   "id": "8e19b343-72d0-46e2-b975-2b7b2828eb79",
   "metadata": {},
   "outputs": [],
   "source": [
    "age = 23\n",
    "songs = 173\n",
    "upvotes = 493\n",
    "heart_rate = 74"
   ]
  },
  {
   "cell_type": "markdown",
   "id": "b9e83ab8-85b3-4f2a-a956-ed1536923c98",
   "metadata": {},
   "source": [
    "Let's look at how integers interact with the operators we covered. "
   ]
  },
  {
   "cell_type": "code",
   "execution_count": null,
   "id": "8d8db9a6-3a10-4661-99b3-5ccfeaeb6205",
   "metadata": {},
   "outputs": [],
   "source": [
    "# arithmetic (addition, subtraction, multiplication, division)\n",
    "print(age + songs)\n",
    "print(age - songs)\n",
    "print(age * songs)\n",
    "print(age / songs)\n",
    "\n",
    "# assignment (=, +=, -+, *=, /=)\n",
    "new_int = 30\n",
    "print(new_int)\n",
    "new_int += 5\n",
    "print(new_int)\n",
    "new_int -= 5\n",
    "print(new_int)\n",
    "new_int *= 5\n",
    "print(new_int)\n",
    "new_int /= 5\n",
    "print(new_int)\n",
    "\n",
    "# comparison (==, !=, >, <, >=, <=)\n",
    "print(new_int == heart_rate)\n",
    "print(new_int != heart_rate)\n",
    "print(new_int > heart_rate)\n",
    "print(new_int < heart_rate)\n",
    "print(new_int >= heart_rate)\n",
    "print(new_int <= heart_rate)\n",
    "\n",
    "# logical (and, or)\n",
    "print(age > 18 and songs > 150)\n",
    "print(songs > 150 or upvotes > 500)\n",
    "\n",
    "# membership (in, not in)\n",
    "print(age in [16, 18, 21, 23])\n",
    "print(heart_rate not in [40, 50, 60, 70, 80, 90, 100])"
   ]
  },
  {
   "cell_type": "markdown",
   "id": "e986a6b3-5717-48bd-8b61-256fb7d66a79",
   "metadata": {},
   "source": [
    "***Floats*** are used to represent decimal (or floating-point) numbers."
   ]
  },
  {
   "cell_type": "code",
   "execution_count": null,
   "id": "81721b6a-e58d-4176-a4a9-66f01806a53c",
   "metadata": {},
   "outputs": [],
   "source": [
    "avg_age = 24.8\n",
    "coord_x = 38.693\n",
    "cube_vol = 87.4548\n",
    "temperature = 98.6"
   ]
  },
  {
   "cell_type": "markdown",
   "id": "23896122-f147-43da-8648-41accf2a9c74",
   "metadata": {},
   "source": [
    "Let's look at how floats interact with the operators we covered. In the code cell below, write one statement for each type of operator discussed above (use the code comment for ease). Which operators are not compatible with floats? Make note of them with a comment (you can also place comments on the same line as code, so long as the comment is after the code)."
   ]
  },
  {
   "cell_type": "code",
   "execution_count": null,
   "id": "97e006bb-76b9-4c99-96b3-1c7f99394896",
   "metadata": {},
   "outputs": [],
   "source": [
    "# arithmetic (addition, subtraction, multiplication, division)\n",
    "print(avg_age + coord_x)\n",
    "print(avg_age - coord_x)\n",
    "print(avg_age * coord_x)\n",
    "print(avg_age / coord_x)\n",
    "\n",
    "# assignment (=, +=, -+, *=, /=)\n",
    "new_age = 30.0\n",
    "print(new_age)\n",
    "new_age += 5.0\n",
    "print(new_age)\n",
    "new_age -= 5.0\n",
    "print(new_age)\n",
    "new_age *= 5.0\n",
    "print(new_age)\n",
    "new_age /= 5.0\n",
    "print(new_age)\n",
    "\n",
    "# comparison (==, !=, >, <, >=, <=)\n",
    "print(new_age == avg_age)\n",
    "print(new_age != avg_age)\n",
    "print(new_age > avg_age)\n",
    "print(new_age < avg_age)\n",
    "print(new_age >= avg_age)\n",
    "print(new_age <= avg_age)\n",
    "\n",
    "# logical (and, or)\n",
    "print(avg_age > 18 and new_age > 18)\n",
    "print(avg_age > 18 or new_age > 18)\n",
    "\n",
    "# membership (in, not in)\n",
    "print(avg_age in [16, 18, 21, 25])\n",
    "print(avg_age not in [16, 18, 21, 25])"
   ]
  },
  {
   "cell_type": "markdown",
   "id": "ac9d236a-e597-4b2e-b3f6-f3e51546dee7",
   "metadata": {},
   "source": [
    "***Strings*** are used to represent text and can be thought of as a sequence of characters. Some programming languages have a data type specifically for individual characters, Python does not."
   ]
  },
  {
   "cell_type": "code",
   "execution_count": 59,
   "id": "e6f36db0-015b-4ec3-ba52-13a9fe527526",
   "metadata": {},
   "outputs": [],
   "source": [
    "name = 'Steven'\n",
    "full_name = 'Steven Smith'"
   ]
  },
  {
   "cell_type": "markdown",
   "id": "1a52e54b-6670-446f-bac5-4e61066e1a7d",
   "metadata": {},
   "source": [
    "Let's look at how strings interact with the operators we covered. In the code cell below, write one statement for each type of operator discussed above (use the code comment for ease). Which operators are not compatible with strings? Make note of them with a comment (you can also place comments on the same line as code, so long as the comment is after the code)."
   ]
  },
  {
   "cell_type": "code",
   "execution_count": null,
   "id": "48397e6e-4bc8-4a7a-9a19-54ebf855134e",
   "metadata": {},
   "outputs": [],
   "source": [
    "# arithmetic (addition, subtraction, multiplication, division)\n",
    "name + full_name\n",
    "# name - full_name # subtraction is not supported\n",
    "name * 2\n",
    "# name / 2 # division is not supported\n",
    "\n",
    "# assignment (=, +=, -+, *=, /=)\n",
    "new_name = 'Eddie'\n",
    "new_name += ' Smith'\n",
    "# new_name -= ' Smith' # -= is not supported\n",
    "# new_name /= ' Smith' # /= is not supported\n",
    "\n",
    "# comparison (==, !=, >, <, >=, <=)\n",
    "name == 'Steven'\n",
    "name != 'Eddie'\n",
    "# name > 5 # > not supported\n",
    "# name < 5 # < not supported\n",
    "# name >= 5 # >= not supported\n",
    "# name <= 5 # <= not supported\n",
    "\n",
    "# membership (in, not in)\n",
    "'Ste' in name\n",
    "'Ed' not in name"
   ]
  },
  {
   "cell_type": "markdown",
   "id": "8cd35b99-5bb3-41a3-87fd-cca3e819662e",
   "metadata": {},
   "source": [
    "**Booleans** are used when we want to represent a binary outcome, in other words an outcome that has two possible results. These are often used, for example, to represent true/false or yes/no."
   ]
  },
  {
   "cell_type": "code",
   "execution_count": 89,
   "id": "2379791e-ffbd-4251-8379-f30e392ee04b",
   "metadata": {},
   "outputs": [],
   "source": [
    "is_adult = True\n",
    "is_cold = False"
   ]
  },
  {
   "cell_type": "markdown",
   "id": "87fe1ac4-6492-4b06-bc7a-cfad702cca0a",
   "metadata": {},
   "source": [
    "Let's look at how booleans interact with the operators we covered. In the code cell below, write one statement for each type of operator discussed above (use the code comment for ease). Which operators are not compatible with booleans? Make note of them with a comment (you can also place comments on the same line as code, so long as the comment is after the code)."
   ]
  },
  {
   "cell_type": "code",
   "execution_count": null,
   "id": "d3e9c087-d363-4ab1-b7f3-4a499b7b035d",
   "metadata": {},
   "outputs": [],
   "source": [
    "# note: boolean values are evaluated as integers, so a surprising number of these work!\n",
    "# arithmetic (addition, subtraction, multiplication, division)\n",
    "is_adult + is_cold\n",
    "is_adult - is_cold\n",
    "is_adult * 2\n",
    "is_adult / 2\n",
    "\n",
    "# assignment (=, +=, -+, *=, /=)\n",
    "is_available = True\n",
    "is_available += 1\n",
    "is_available -= 1\n",
    "is_available *= 2\n",
    "is_available /= 2\n",
    "\n",
    "# comparison (==, !=, >, <, >=, <=)\n",
    "is_adult == is_cold\n",
    "is_adult != is_cold\n",
    "is_adult > 1\n",
    "is_adult < 1\n",
    "is_adult >= 1\n",
    "is_adult <= 1\n",
    "\n",
    "# membership (in, not in)\n",
    "# is_adult in is_cold # in is not supported\n",
    "# is_adult not in is_cold # not in is not supported"
   ]
  },
  {
   "cell_type": "markdown",
   "id": "0c630b4a-6629-4bcb-bc64-997e369e6248",
   "metadata": {},
   "source": [
    "#### Collection Data Types\n",
    "\n",
    "There are also four data types that are used to hold ***collections*** of other values/variables. Other than syntax, their differences lie in three metrics: whether the collections is ***ordered***; whether the collection ***allows duplicates***; and whether the collection is ***changeable***.\n",
    "\n",
    "***Tuples*** are the first of the four data types for storing collections. Tuples are ***ordered*** and ***allow duplicates*** but are ***not changeable***."
   ]
  },
  {
   "cell_type": "code",
   "execution_count": 68,
   "id": "5785bedc-4f35-470e-8feb-3b3fb1d9f78f",
   "metadata": {},
   "outputs": [],
   "source": [
    "fruit = ('Apple', 'Banana', 'Cherry')\n",
    "stuff = ('Banana', 4.3, 19, True)\n",
    "more_stuff = ('Cherry', 6.4, 852, False, 'Cherry')"
   ]
  },
  {
   "cell_type": "markdown",
   "id": "a9e7828b-8d10-4ae3-963b-d7b4836ece33",
   "metadata": {},
   "source": [
    "Let's look at how tuples interact with the operators we covered.\n",
    "\n",
    "In the code cell below, declare a tuple variable (try to declare a tuple with various data types contained within, bonus points if your tuple contains another collection data type!), then write one statement for each type of operator discussed above (use the code comment for ease). Which operators are not compatible with tuples? Make note of them with a comment (you can also place comments on the same line as code, so long as the comment is after the code)."
   ]
  },
  {
   "cell_type": "code",
   "execution_count": null,
   "id": "6872b9e9-e976-4f49-a92a-55eed2640a8f",
   "metadata": {},
   "outputs": [],
   "source": [
    "# declare a tuple, bonus points if your tuple contains another collection data type!\n",
    "items = ('dog', 0.34, 14, True)\n",
    "\n",
    "# arithmetic (addition, subtraction, multiplication, division)\n",
    "fruit + items\n",
    "# fruit - item # subtraction is not supported\n",
    "fruit * 2\n",
    "# fruit / 2 # division is not supported\n",
    "\n",
    "# assignment (=, +=, -+, *=, /=)\n",
    "more_items = {'cat', 0.66, 86, False}\n",
    "# more_items += 'dog' # += is not supported\n",
    "# more_items -= 'cat' # -= is not supported\n",
    "# more_items *= 2 # *= is not supported\n",
    "# more_items /= 2 # /= is not supported\n",
    "\n",
    "# comparison (==, !=, >, <, >=, <=)\n",
    "items == ('dog', 0.34, 14, True)\n",
    "items != ('dog', 0.34, 14, True)\n",
    "# items > 5 # > is not supported\n",
    "# items < 5 # < is not supported\n",
    "# items >= 5 # >= is not supported\n",
    "# items <= 5 # <= is not supported\n",
    "\n",
    "# membership (in, not in)\n",
    "'dog' in items\n",
    "'cat' not in items"
   ]
  },
  {
   "cell_type": "markdown",
   "id": "55c6f7cc-14de-4143-acde-1a5b5cecf204",
   "metadata": {},
   "source": [
    "***Lists*** are the second of the four data types for storing collections. Lists are ***ordered***, ***allow duplicates*** and are ***changeable***."
   ]
  },
  {
   "cell_type": "code",
   "execution_count": 19,
   "id": "ae2434cb-9d6d-4a76-9a6e-5544d48d804b",
   "metadata": {},
   "outputs": [],
   "source": [
    "fruit = ['Apple', 'Banana', 'Cherry']\n",
    "stuff = ['Banana', 4.3, 19, True]\n",
    "more_stuff = ['Cherry', 67.4, 852, False, 'Cherry']"
   ]
  },
  {
   "cell_type": "markdown",
   "id": "63ab5d65-a8b4-4b15-a4fa-a8942e767137",
   "metadata": {},
   "source": [
    "Let's look at how lists interact with the operators we covered.\n",
    "\n",
    "In the code cell below, declare a list variable (try to declare a list with various data types contained within, bonus points if your list contains another collection data type!), then write one statement for each type of operator discussed above (use the code comment for ease). Which operators are not compatible with lists? Make note of them with a comment (you can also place comments on the same line as code, so long as the comment is after the code)."
   ]
  },
  {
   "cell_type": "code",
   "execution_count": null,
   "id": "e4a7a2df-74fa-4b80-b4d9-501b5a0059f5",
   "metadata": {},
   "outputs": [],
   "source": [
    "# declare a list, bonus points if your list contains another collection data type!\n",
    "items = ['dog', 0.34, 14, True]\n",
    "\n",
    "# arithmetic (addition, subtraction, multiplication, division)\n",
    "items + ['cat']\n",
    "# items - 'dog' # subtraction is not important\n",
    "items * 2\n",
    "# items / 2 # division is not important\n",
    "\n",
    "# assignment (=, +=, -+, *=, /=)\n",
    "more_items = ['cat', 0.66, 86, False]\n",
    "more_items += ['dog']\n",
    "# more_items -= ['cat'] # -= is not supported\n",
    "more_items *= 2\n",
    "# more_items /= 2 # /= is not supported\n",
    "\n",
    "# comparison (==, !=, >, <, >=, <=)\n",
    "items == more_items\n",
    "items != more_items\n",
    "items > more_items\n",
    "items < more_items\n",
    "items >= more_items\n",
    "items <= more_items\n",
    "\n",
    "# membership (in, not in)\n",
    "'dog' in items\n",
    "'cat' not in items"
   ]
  },
  {
   "cell_type": "markdown",
   "id": "f6fd9682-2222-4891-97ce-84268723f65e",
   "metadata": {},
   "source": [
    "***Sets*** are the third of the four data types for storing collections. Sets are ***not ordered***. ***don't allow duplicates***, and ***not changeable***."
   ]
  },
  {
   "cell_type": "code",
   "execution_count": 2,
   "id": "574706c4-9df3-44b9-9a0f-84fbfa10229f",
   "metadata": {},
   "outputs": [],
   "source": [
    "fruit = {'Apple', 'Banana', 'Cherry'}\n",
    "stuff = {'Banana', 4.3, 19, True}"
   ]
  },
  {
   "cell_type": "markdown",
   "id": "8c0836c9-ce72-4346-971b-8d2eb51656c3",
   "metadata": {},
   "source": [
    "Let's look at how sets interact with the operators we covered.\n",
    "\n",
    "In the code cell below, declare a set variable (try to declare a set with various data types contained within, bonus points if your set contains another collection data type!), then write one statement for each type of operator discussed above (use the code comment for ease). Which operators are not compatible with sets? Make note of them with a comment (you can also place comments on the same line as code, so long as the comment is after the code)."
   ]
  },
  {
   "cell_type": "code",
   "execution_count": null,
   "id": "34cc4fdc-ca33-40a2-93cc-4d8c681ca5f7",
   "metadata": {},
   "outputs": [],
   "source": [
    "# declare a set, bonus points if your set contains another collection data type!\n",
    "items = {'dog', 0.34, 14, True}\n",
    "\n",
    "# arithmetic (addition, subtraction, multiplication, division)\n",
    "# fruit + items # addition is not supported\n",
    "fruit - items\n",
    "# fruit * items # multiplication is not supported\n",
    "# fruit / items # division is not supported\n",
    "\n",
    "# assignment (=, +=, -+, *=, /=)\n",
    "more_items = {'cat', 0.66, 86, False}\n",
    "# more_items += 'dog' # += is not supported\n",
    "# more_items -= 'cat' # -= is not supported\n",
    "# more_items *= 2 # *= is not supported\n",
    "# more_items /= 2 # /= is not supported\n",
    "\n",
    "# comparison (==, !=, >, <, >=, <=)\n",
    "items == {'dog', 0.34, 14, True}\n",
    "items != {'dog', 0.34, 14, True}\n",
    "# items > 5 # > is not supported\n",
    "# items < 5 # < is not supported\n",
    "# items >= 5 # >= is not supported\n",
    "# items <= 5 # <= is not supported\n",
    "\n",
    "# membership (in, not in)\n",
    "'dog' in items\n",
    "'cat' not in items"
   ]
  },
  {
   "cell_type": "markdown",
   "id": "3d7e6b00-d9d6-499f-af3f-ddb888f737dd",
   "metadata": {},
   "source": [
    "***Dictionaries*** are the fourth of the four data types for storing collections. Dictionaries are ***ordered***, don't ***allow duplicates***, but are ***changeable***.\n",
    "\n",
    "*Dictionaries historically were not ordered, but this was changed in Python 3.7.*"
   ]
  },
  {
   "cell_type": "code",
   "execution_count": null,
   "id": "aa890128-6e80-474c-a2a0-07cb185247f2",
   "metadata": {},
   "outputs": [],
   "source": [
    "prices = {'Apple': 0.85, 'Cherry': 1.25}\n",
    "more_stuff['Cherry'] = 0.95"
   ]
  },
  {
   "cell_type": "markdown",
   "id": "1945cbfd-eff7-437d-b5b7-8b5fcd958708",
   "metadata": {},
   "source": [
    "Let's look at how dictionaries interact with the operators we covered.\n",
    "\n",
    "In the code cell below, declare a dictionary variable (try to declare a dictionary with various data types contained within, bonus points if your dictionary contains another collection data type!), then write one statement for each type of operator discussed above (use the code comment for ease). Which operators are not compatible with dictionaries? Make note of them with a comment (you can also place comments on the same line as code, so long as the comment is after the code)."
   ]
  },
  {
   "cell_type": "code",
   "execution_count": null,
   "id": "a46c294e-8bab-4e04-be4d-4fbecc485019",
   "metadata": {},
   "outputs": [],
   "source": [
    "# declare a dictionary, bonus points if your dictionary contains another collection data type!\n",
    "dict = {'list': ['cheese', 1.4, 23], 'num': 42, 'bool': True}\n",
    "\n",
    "# arithmetic (addition, subtraction, multiplication, division)\n",
    "# dict + prices # addition is not supported\n",
    "# dict - prices # subtraction is not supported\n",
    "# dict * prices # multiplication is not supported\n",
    "# dict / prices # division is not supported\n",
    "\n",
    "# assignment (=, +=, -+, *=, /=)\n",
    "# dict += 'hi' # += is not supported\n",
    "# dict -= 'hi' # -= is not supported\n",
    "# dict *= 'hi' # *= is not supported\n",
    "# dict /= 'hi' # /= is not supported\n",
    "\n",
    "# comparison (==, !=, >, <, >=, <=)\n",
    "print(dict == prices)\n",
    "print(dict != prices)\n",
    "# print(dict > prices) # > is not supported\n",
    "# print(dict < prices) # < is not supported\n",
    "# print(dict >= prices) # >= is not supported\n",
    "# print(dict <= prices) # <= is not supported\n",
    "\n",
    "# membership (in, not in)\n",
    "print('list' in dict)\n",
    "print('potato' not in dict)"
   ]
  },
  {
   "cell_type": "markdown",
   "id": "cc00ee03-4d2b-4e69-8bba-408632138f47",
   "metadata": {},
   "source": [
    "For your final task - in the code cell below - try to combine the knowledge you've gained so far to create a small piece of code that creates three variables representing the current temperature, whether it is sunny or not, and yesterday's probability of raining. Your code need to determine what is the probability of raininig today based on his data. If it is sunny, the probability of rain is fixed at 5%. In case it is not sunny, today's probability sees and increase of 20% compared to yesterday if the temperature is higher than 20 C and a decrease of 45% if the temperature is smaller or equal than 20 C.\n",
    "Provide appropriate comments to your code (you can also add inline comments)."
   ]
  },
  {
   "cell_type": "code",
   "execution_count": null,
   "id": "4994d504-12c4-413b-a153-197850eecc3a",
   "metadata": {},
   "outputs": [],
   "source": [
    "## CASE 1 ##\n",
    "# Create your variables\n",
    "current_temperature = 21\n",
    "sunny = True\n",
    "yesterday_p_rain = 50\n",
    "\n",
    "# Determine today's probabilty of rain\n",
    "today_p_rain = 5 # 5% chance of rain"
   ]
  },
  {
   "cell_type": "code",
   "execution_count": null,
   "id": "eadd8135",
   "metadata": {},
   "outputs": [],
   "source": [
    "## CASE 2 ##\n",
    "current_temperature = 21\n",
    "sunny = False\n",
    "yesterday_p_rain = 50\n",
    "\n",
    "# Determine today's probabilty of rain\n",
    "today_p_rain = yesterday_p_rain + (yesterday_p_rain * 0.2) # increase by 20%"
   ]
  },
  {
   "cell_type": "code",
   "execution_count": null,
   "id": "05fbac82",
   "metadata": {},
   "outputs": [],
   "source": [
    "## CASE 3 ##\n",
    "current_temperature = 19\n",
    "sunny = False\n",
    "yesterday_p_rain = 50\n",
    "\n",
    "# Determine today's probabilty of rain\n",
    "today_p_rain = yesterday_p_rain - (yesterday_p_rain * 0.45) # decrease by 45%"
   ]
  },
  {
   "cell_type": "code",
   "execution_count": 16,
   "id": "240dee48",
   "metadata": {},
   "outputs": [
    {
     "name": "stdout",
     "output_type": "stream",
     "text": [
      "Result: 24.0\n",
      "Result: 24.0\n"
     ]
    }
   ],
   "source": [
    "## Putting all together ##\n",
    "current_temperature = 21\n",
    "sunny = False\n",
    "yesterday_p_rain = 20\n",
    "\n",
    "# Part 1: Determine whether the temperature is higher than 20 degrees\n",
    "temp_higher = (current_temperature > 20)\n",
    "\n",
    "# Part 2: Determine today's probabilty of rain in case temp_higher is True or False\n",
    "today_p_rain_true = yesterday_p_rain + (yesterday_p_rain * 0.2)\n",
    "today_p_rain_false = yesterday_p_rain - (yesterday_p_rain * 0.45)\n",
    "\n",
    "# Part 3: Combine everything \n",
    "today_p_rain = sunny * 5 + (1 - sunny) * (temp_higher * today_p_rain_true + (not temp_higher) * today_p_rain_false) # remember that True evaluates to 1 and False to 0\n",
    "\n",
    "print(\"Result:\", today_p_rain)\n",
    "\n",
    "\n",
    "# We can also combine all the parts into a single expression\n",
    "today_p_rain = sunny * 5 + (1 - sunny) * ((current_temperature > 20) * (yesterday_p_rain + (yesterday_p_rain * 0.2)) + (current_temperature <= 20) * (yesterday_p_rain - (yesterday_p_rain * 0.45)))\n",
    "# NOTE: the above code is a bit complex and practically rarely used, but it shows how you can combine different data types and operators to create a complex expression.\n",
    "\n",
    "print(\"Result:\", today_p_rain)\n"
   ]
  },
  {
   "cell_type": "markdown",
   "id": "ac4867e6",
   "metadata": {},
   "source": [
    "**Bonus task**: modify the previous code into the code cell below so that the data - temperature, whether it's sunny or not, the probabilities of rain - is stored as a dictionary rather than individual variables and you perform the operations using this collection."
   ]
  },
  {
   "cell_type": "code",
   "execution_count": 19,
   "id": "8845cee4",
   "metadata": {},
   "outputs": [
    {
     "name": "stdout",
     "output_type": "stream",
     "text": [
      "Result: 24.0\n"
     ]
    }
   ],
   "source": [
    "# Create a dictionary for the variables\n",
    "data = {\n",
    "    'current_temperature': 21,\n",
    "    'sunny': False,\n",
    "    'yesterday_p_rain': 20\n",
    "}\n",
    "\n",
    "# Part 1: Determine whether the temperature is higher than 20 degrees\n",
    "temp_higher = (data['current_temperature'] > 20)\n",
    "\n",
    "# Part 2: Determine today's probabilty of rain in case temp_higher is True or False\n",
    "today_p_rain_true = data['yesterday_p_rain'] + (data['yesterday_p_rain'] * 0.2)\n",
    "today_p_rain_false = data['yesterday_p_rain'] - (data['yesterday_p_rain'] * 0.45)\n",
    "\n",
    "# Part 3: Combine everything \n",
    "data['today_p_rain'] = data['sunny'] * 5 + (1 - data['sunny']) * (temp_higher * today_p_rain_true + (not temp_higher) * today_p_rain_false)\n",
    "\n",
    "print(\"Result:\", data['today_p_rain'])"
   ]
  }
 ],
 "metadata": {
  "kernelspec": {
   "display_name": "Python 3 (ipykernel)",
   "language": "python",
   "name": "python3"
  },
  "language_info": {
   "codemirror_mode": {
    "name": "ipython",
    "version": 3
   },
   "file_extension": ".py",
   "mimetype": "text/x-python",
   "name": "python",
   "nbconvert_exporter": "python",
   "pygments_lexer": "ipython3",
   "version": "3.10.12"
  }
 },
 "nbformat": 4,
 "nbformat_minor": 5
}
