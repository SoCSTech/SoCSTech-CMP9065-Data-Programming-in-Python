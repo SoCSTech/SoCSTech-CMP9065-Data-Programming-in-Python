{
 "cells": [
  {
   "cell_type": "markdown",
   "id": "8fdc0282-e0c7-4399-ae1e-35c8862df679",
   "metadata": {},
   "source": [
    "# Workshop 3 - List Comprehension, List Slicing, Functions, and Map\n",
    "\n",
    "# 332161\n",
    "\n",
    "Welcome to week three! Today we'll be briefly recapping loops and if statements from last week, then looking a little deeper at lists and their usage, particularly list comprehension and list slicing, and then covering functions - including what they are, what they're for, and plenty of usage examples.\n",
    "\n",
    "- [Lists](#Lists)\n",
    "    - [List Comprehension](#List-Comprehension)\n",
    "    - [List Slicing](#List-Slicing)\n",
    "- [Functions](#Functions)\n",
    "- [Map](#Map)"
   ]
  },
  {
   "cell_type": "markdown",
   "id": "abd43683-5a93-479a-b7c9-1f207ff8eb8d",
   "metadata": {},
   "source": [
    "## Lists\n",
    "\n",
    "As discussed in the lecture, there are various methods of interacting with lists that we hadn't covered in previous lectures which are very useful in a wide manner of contexts. Namely list comprehension and list slicing.\n",
    "\n",
    "### List Comprehension\n",
    "\n",
    "At this point, you should be intimately familiar with the for loop syntax:"
   ]
  },
  {
   "cell_type": "code",
   "execution_count": null,
   "id": "7f24c21b-96bf-4022-a570-84ad90e938dc",
   "metadata": {},
   "outputs": [],
   "source": [
    "for x in y:\n",
    "    # do something"
   ]
  },
  {
   "cell_type": "markdown",
   "id": "26695d2a-f33d-4ad6-a12a-20ba2b13b706",
   "metadata": {},
   "source": [
    "Sometimes, however, we will want to construct a new list based on existing data. We *can* just use a loop and append() for this, as shown in the lecture, but this takes quite a few lines of code and doesn't allow us to declare the list within a statement. That's where list comprehension comes in!\n",
    "\n",
    "The code cell below already contains a list *old_vals*.  \n",
    "Using list comprehension, declare a variable *new_vals* that contains the square of the items in *old_vals*."
   ]
  },
  {
   "cell_type": "code",
   "execution_count": null,
   "id": "a343c6dd-a29c-4971-83d8-c8bcdf274bee",
   "metadata": {},
   "outputs": [],
   "source": [
    "# hint: x ** y is equivalent to \"x to the power of y\"\n",
    "old_vals = [1, 2, 3, 4, 5]"
   ]
  },
  {
   "cell_type": "markdown",
   "id": "18301f4a-5243-4fdc-9529-2ef239e2111e",
   "metadata": {},
   "source": [
    "However, this can take quite a few lines of code - as you can see - and this declaration style is not useful when you want to declare a list as part of a statement without having to assign it to a variable.\n",
    "\n",
    "Luckily, we have list comprehension! Let's compare the assignment from the previous code cell with the list comprehension equivalent:"
   ]
  },
  {
   "cell_type": "code",
   "execution_count": null,
   "id": "c5efab9a-1e52-45fa-9da8-7fdd269e3abc",
   "metadata": {},
   "outputs": [],
   "source": [
    "new_vals = [i * 2 for i in old_vals]\n",
    "new_vals"
   ]
  },
  {
   "cell_type": "markdown",
   "id": "876f2ea1-720f-4968-aa46-7491690290a5",
   "metadata": {},
   "source": [
    "As you can see, with list comprehension we can create a list in a single line. One of the main benefits of this is that we can use lists generated using list comprehension in calculations/statements without having to create a variable for the list beforehand.\n",
    "\n",
    "In the code cell below, use the *old_vals* list from the prior cell in the situations outlined by the code comments:  \n",
    "e.g. use list comprehension in a for loop, with an \"in\" statement, with *range()*, and with a condition  \n",
    "hint: these are all covered in the lecture!"
   ]
  },
  {
   "cell_type": "code",
   "execution_count": null,
   "id": "a1107af9-0b75-44dd-9e18-cc89e90ed9d3",
   "metadata": {},
   "outputs": [],
   "source": [
    "# in for loop\n",
    "for i in [i * 2 for i in old_vals]:\n",
    "    print(i)\n",
    "\n",
    "# in \"in\" statement\n",
    "print(2 in [i * 2 for i in old_vals])\n",
    "\n",
    "# use with range()\n",
    "print([i * 2 for i in range(5)])\n",
    "\n",
    "# use with conditional \"in\", check for vowels!\n",
    "sentence = 'the rocket came back from mars'\n",
    "print([i in sentence for i in ['a', 'e', 'i', 'o', 'u']])"
   ]
  },
  {
   "cell_type": "markdown",
   "id": "447d688e-629b-481a-a4eb-a6a91407025a",
   "metadata": {},
   "source": [
    "As you can see, list comprehension is extremely versatile. We will go through more examples of this in the following sections.\n",
    "\n",
    "### List Slicing\n",
    "\n",
    "Sometimes you want to select only certain values from a list, we can use list slicing for this:"
   ]
  },
  {
   "cell_type": "code",
   "execution_count": null,
   "id": "fa239f3a-7fe7-4be6-8158-deae32411fd8",
   "metadata": {},
   "outputs": [],
   "source": [
    "# classic list slicing\n",
    "new_vals[1:3]"
   ]
  },
  {
   "cell_type": "markdown",
   "id": "809fd506-f9e6-4668-bade-457819a74fc0",
   "metadata": {},
   "source": [
    "As you can see, the syntax is similar to list indexing, except we can specify two positional values separated by a colon to signify start and end positions. All values between those two positions are returned. The first position is inclusive, the second position is exclusive.\n",
    "\n",
    "The following code cell contains another list declaration.  \n",
    "Using list slicing, create another list containing only the 3 center values:"
   ]
  },
  {
   "cell_type": "code",
   "execution_count": null,
   "id": "28c140e0-1c8f-431c-a200-96f901c8e885",
   "metadata": {},
   "outputs": [],
   "source": [
    "vals = [0, 2, 4, 6, 8]"
   ]
  },
  {
   "cell_type": "markdown",
   "id": "3cfdf10f-fde5-419c-adc8-c1c2577fe9c3",
   "metadata": {},
   "source": [
    "You'll have noticed from the lecture that when we use a negative value for the third option, our output values are reversed. This is called a stride value, and affects how the values are \"counted\".\n",
    "\n",
    "You may also have noticed in the lecture that we don't get all of the values if we use an end position of 0, the last value isn't included! This is because syntactically we can provide no value and Python will know we mean \"from the start\" (if we miss out the start position) or \"to the end\" (if we miss out the end position).\n",
    "\n",
    "Using list slicing with a negative stride value on the list from the last code cell, create a new list with the values [8, 4, 0]:"
   ]
  },
  {
   "cell_type": "code",
   "execution_count": null,
   "id": "286789e0-aef1-4b6d-8e08-f8aa75c54fe6",
   "metadata": {},
   "outputs": [],
   "source": [
    "# remember, the third slice parameter dictates how the values are traversed\n",
    "vals[::-2]"
   ]
  },
  {
   "cell_type": "markdown",
   "id": "b7725c5a-86c0-4905-8dab-57d4333c0b00",
   "metadata": {},
   "source": [
    "List slicing can be very practical. For example, let's say you have a dataset with 10,000 samples but you only want to work a subset of 100 while you develop your code, list slicing makes that very easy!"
   ]
  },
  {
   "cell_type": "markdown",
   "id": "ac79e737-4483-4210-ba53-3d978294b96e",
   "metadata": {},
   "source": [
    "## Functions\n",
    "\n",
    "Quite often in programming, you will be writing a block of code that you know you will want to re-use many times throughout your project. Whenever you have a block of code like this - that you are likely to need to use elsewhere again - it makes sense to write that code in a function.\n",
    "\n",
    "A function, like a variable, is a declarative statement. With a variable, we are assigning a symbolic name to a value. With a function, we are assigning a symbolic name to a block of code; when the functions symbolic name is called, the associated code will be ran.\n",
    "\n",
    "In the following code cell, declare a function *add_vals* which takes two integers as arguments and prints their sum:  \n",
    "Hint: be sure to call the variable after to see your results!"
   ]
  },
  {
   "cell_type": "code",
   "execution_count": null,
   "id": "307fa78b-1f39-4ce0-8b76-f3eb8bec2875",
   "metadata": {},
   "outputs": [],
   "source": [
    "# declare a simple addition function\n",
    "def add(x, y):\n",
    "    return x + y\n",
    "    \n",
    "# call the function\n",
    "add(2, 3)"
   ]
  },
  {
   "cell_type": "markdown",
   "id": "a20964f0-1e18-486e-bb13-ae45cdd51b82",
   "metadata": {},
   "source": [
    "We don't have to restrict the passed arguments to integers, we can use collections too!\n",
    "\n",
    "In the following code cell, declare a list of random integer values (choose these yourself). Declare a function *add_vals* which takes a list (the one you just created) and returns the average of all of the values:  \n",
    "Hint: you should return the value, not print it - be sure to call the function after."
   ]
  },
  {
   "cell_type": "code",
   "execution_count": null,
   "id": "607099d8-fd34-4779-a309-2b5f4d121b59",
   "metadata": {},
   "outputs": [],
   "source": [
    "# declare your list\n",
    "new_vals = [1, 2, 3, 4, 5]\n",
    "\n",
    "# declare a function that takes a list and returns the average\n",
    "def lst_avg(lst):\n",
    "    total = 0\n",
    "    for i in lst:\n",
    "        total += i\n",
    "\n",
    "    return total / len(lst)\n",
    "    \n",
    "# call the function\n",
    "lst_avg(new_vals)"
   ]
  },
  {
   "cell_type": "markdown",
   "id": "795edfa8-bd6d-4b45-9605-ac33523c9bf7",
   "metadata": {},
   "source": [
    "Functions can also call other functions, and even call themselves. More on that when we cover recursion in a later lecture."
   ]
  },
  {
   "cell_type": "markdown",
   "id": "54f2ea55-e386-42be-884a-d596b545de72",
   "metadata": {},
   "source": [
    "## Map\n",
    "\n",
    "Sometimes you will want to run a block of code for every value in a collection.\n",
    "\n",
    "Let's say we have two simple collections:"
   ]
  },
  {
   "cell_type": "code",
   "execution_count": null,
   "id": "8e19b343-72d0-46e2-b975-2b7b2828eb79",
   "metadata": {},
   "outputs": [],
   "source": [
    "some_vals = [i for i in range(1, 6)]\n",
    "more_vals = [i * 2 for i in range(1, 6)]"
   ]
  },
  {
   "cell_type": "markdown",
   "id": "7abfe228-266a-4e2c-8047-733d25792238",
   "metadata": {},
   "source": [
    "And for every value in these collection, we want to run a simple division process, dividing the first value by the first value, the second value by the second value, and so on.\n",
    "\n",
    "Declare a function that takes two integers and provides the result of dividing the first by the second.  \n",
    "After this, using the map function, create a map object that contains the results of running that function on every pair of values in the two lists created in the prior code cell:"
   ]
  },
  {
   "cell_type": "code",
   "execution_count": null,
   "id": "6d09d6d5-18e3-4a4f-bdd6-6c5dbdaa7b45",
   "metadata": {},
   "outputs": [],
   "source": [
    "# declare a division function\n",
    "def dvsn(x, y):\n",
    "    return x / y\n",
    "    \n",
    "# use the map function on both lists\n",
    "result = map(dvsn, some_vals, more_vals)"
   ]
  },
  {
   "cell_type": "markdown",
   "id": "8469fb46-c944-4104-b587-9cce962c0aec",
   "metadata": {},
   "source": [
    "Great, but this gives us a map object as a result. How can we access the values?\n",
    "\n",
    "You may remember using int(), float(), and str() to explicitly convert values. We can do this with list too.  \n",
    "In the code cell below, grab our final results by converting the map object from the last code cell into a list:"
   ]
  },
  {
   "cell_type": "code",
   "execution_count": null,
   "id": "34f0f976-2adf-4331-a456-bd187c9e6da5",
   "metadata": {},
   "outputs": [],
   "source": [
    "# convert the map object to a list\n",
    "list(result)"
   ]
  },
  {
   "cell_type": "markdown",
   "id": "6e2406a2",
   "metadata": {},
   "source": [
    "\n",
    "**Task 1:** Imagine you're working for an e-commerce company. You need to process a list of customer orders to:\n",
    "1. Calculate discounts based on order values\n",
    "2. Format order summaries for email notifications"
   ]
  },
  {
   "cell_type": "code",
   "execution_count": 11,
   "id": "3919b052",
   "metadata": {},
   "outputs": [
    {
     "name": "stdout",
     "output_type": "stream",
     "text": [
      "Orders with discount:  [1001, 1002, 1003, 1005]\n",
      "Orders with 5% discount:  [1001]\n",
      "Orders with 10% discount:  [1002]\n",
      "Orders with 15% discount:  [1003, 1005]\n",
      "Total discounts:  [7.5, 45.075, 134.9985, 180.0]\n"
     ]
    }
   ],
   "source": [
    "# Example order data: each tuple contains (order_id, amount, customer_tier)\n",
    "orders = [\n",
    "    (1001, 150.00, 'bronze'),\n",
    "    (1002, 450.75, 'silver'),\n",
    "    (1003, 899.99, 'gold'),\n",
    "    (1004, 75.50, 'bronze'),\n",
    "    (1005, 1200.00, 'gold')\n",
    "]\n",
    "\n",
    "def calculate_discount(order):\n",
    "    \"\"\"\n",
    "    Calculate discount based on customer tier and order amount:\n",
    "    - bronze: 5% for orders over $100\n",
    "    - silver: 10% for orders over $200\n",
    "    - gold: 15% for orders over $300\n",
    "    \"\"\"\n",
    "    order_id, amount, tier = order\n",
    "    \n",
    "    if tier == 'bronze' and amount > 100:\n",
    "        discount = 0.05\n",
    "    elif tier == 'silver' and amount > 200:\n",
    "        discount = 0.10\n",
    "    elif tier == 'gold' and amount > 300:\n",
    "        discount = 0.15\n",
    "    else:\n",
    "        discount = 0\n",
    "        \n",
    "    return (order_id, amount, amount * discount)\n",
    "\n",
    "# Task 1a: Use map() to calculate discounts for all orders\n",
    "# Your code here\n",
    "discounts = list(map(calculate_discount, orders))\n",
    "\n",
    "# Task 1b: Use list comprehension to create summaries for orders with discounts > $0\n",
    "# Your code here\n",
    "print(\"Orders with discount: \", [t[0] for t in discounts if t[2] > 0])\n",
    "print('Orders with 5% discount: ', [t[0] for t in discounts if t[2] == t[1] * 0.05])\n",
    "print('Orders with 10% discount: ', [t[0] for t in discounts if t[2] == t[1] * 0.1])\n",
    "print('Orders with 15% discount: ', [t[0] for t in discounts if t[2] == t[1] * 0.15])\n",
    "print(\"Total discount values: \", [t[2] for t in discounts if t[2] > 0])\n"
   ]
  },
  {
   "cell_type": "markdown",
   "id": "8a1a383e",
   "metadata": {},
   "source": [
    "**Task 2:** You're working with weather station data and need to process temperature readings to identify unusual patterns."
   ]
  },
  {
   "cell_type": "code",
   "execution_count": 16,
   "id": "60fbd372",
   "metadata": {},
   "outputs": [
    {
     "name": "stdout",
     "output_type": "stream",
     "text": [
      "<class 'list'> 24\n",
      "[(29.780297564866032, True, 8.820570908859132), (16.340270552150464, True, -5.178581471450684), (16.40781712129228, True, -5.076581220667254), (16.818702010491517, False, -4.231650742554834), (26.308081508991073, True, 5.420326904919953), (25.577063684269294, False, 4.2569978472027366), (15.513436054341764, True, -6.25959239473482), (25.3896770923553, False, 3.724155623682435), (29.944995860664857, True, 8.20412103952513), (24.620927723624703, False, 2.874463442204508), (17.50269007204724, False, -4.053842954949033), (27.479029616294955, True, 6.176771927908305), (21.842195748529573, False, 0.006683128423937035), (23.70909009458259, False, 1.8555789703739691), (16.637969486105934, True, -5.059305514521725), (27.631528027224032, True, 6.33079269672082), (24.031338000363004, False, 2.2067696931219096), (25.875315265883938, False, 3.874966925220985), (21.343074848514405, False, -1.0609798158328445), (16.450630788564595, True, -5.856396119981138), (17.998018170861315, False, -4.276111437545342), (20.0338638917708, False, -2.1324349314240436), (28.948565428740917, True, 6.987438158989864), (24.129951148357836, False, 1.687143382595636), (21.341578549769753, False, -0.8555619804920909), (18.66365316585273, False, -3.750935538218645), (27.77040709564372, True, 5.257738563547974), (20.4560374672989, False, -2.5327921554556383), (29.373892526480223, True, 6.639499601190561), (23.03940639912554, False, 0.13993395895714755), (15.62183324866086, True, -7.604855293454655), (21.590973587620045, False, -1.211026091726147), (24.893015559637675, False, 2.454234239989084), (20.62936838672532, False, -1.821242838836877), (27.778006328222492, True, 5.191452567239505), (22.01834883964313, False, -0.5812039088149632), (27.768052129150828, True, 5.160840550644316), (28.130173944359463, True, 5.346485755654335), (15.073628265020178, True, -8.209720987087278), (23.607277961810627, False, 0.8699243515381205), (29.190858842112245, True, 6.471942624820279), (27.683475219188374, False, 4.820404933364738), (23.809570750318805, False, 0.6708308831615213), (20.89470772571848, False, -2.5639860528194234), (15.76664457500276, True, -7.817992227659369), (16.20407062942297, True, -7.1950348985970685), (21.785203319421417, False, -1.059793739063057), (22.180868937061245, False, -0.5621825636433861), (23.233045333709114, False, 0.45350294660050494), (27.504246876863586, False, 4.526035265065566), (15.244101525170416, True, -7.722537903202381), (29.290107163650447, True, 6.550073645804979), (17.06975612189909, True, -5.666634554084215), (29.47486645653788, True, 6.998025792607901), (20.125080666701365, False, -2.954065788875443), (21.25194555361678, False, -1.7634664271374767), (16.377367219611905, True, -6.4797373695762275), (28.8477486646508, True, 6.1755136914241255), (29.019048303896053, True, 6.300302794302926), (17.625776924440267, True, -5.397346822729073), (25.738830560652985, False, 3.15667530064497), (16.18737644846172, True, -6.2908073600807946), (22.26271143604099, False, -0.26389620656419766), (25.08876380465086, False, 2.6206155762095698), (21.902717608990223, False, -0.3870786613005741), (24.49933622857433, False, 2.4608772456834522), (25.061891949197232, False, 2.99344316290394), (16.608034687711474, True, -5.641596021341762), (20.019411404868208, False, -2.2668014829984493), (19.4908620688403, False, -2.961235200567458), (21.730827476861798, False, -0.6215158251293893), (23.797834567401736, False, 1.4650582854192251), (29.53542199797451, True, 7.178089662353187), (21.977238345543746, False, -0.4684059518650123), (24.910806779658778, False, 2.1724174031033563), (27.65057714588807, True, 5.102592133854028), (20.055792239099958, False, -2.952228469629258), (23.383629426403658, False, 0.785133683650006), (26.468189401206466, False, 3.7280176254222788), (29.820497563572324, True, 6.8535325770233655), (23.788050171837412, False, 0.23660125729017523), (18.66890260803296, False, -4.662559415522395), (18.713045861384867, False, -4.168409827567743), (26.37042563726923, False, 3.4416973858407687), (20.78707504136354, False, -2.169113865569976), (20.557990176399084, False, -2.5981856258779885), (15.236242424563342, True, -7.845815062077124), (21.627754524455362, False, -1.0259324673986896), (15.954838519960326, True, -6.686893555174823), (18.43958488154714, False, -3.8306472932134845), (29.833512324337995, True, 7.851206543823025), (17.335023298282664, True, -5.222303249042152), (17.31775271843261, True, -5.1228613025189205), (17.39244396194433, False, -4.953687043772085), (28.8319686681197, True, 6.674463032617087), (27.779800317231867, True, 5.403419286045864), (22.38772091580974, False, 0.08767126204732989), (24.879667123073446, False, 2.561770401038604), (20.917657147344343, False, -1.3988856765780966), (16.73989548098895, True, -5.283911690822894), (26.316111202780043, False, 4.436473455233898), (26.654345291607996, False, 4.647208336393312), (16.13422590011986, True, -5.8810047894601105), (23.967773274214977, False, 2.547597874350334), (25.22188748978717, False, 3.7938980419930672), (21.770653496307393, False, 0.05775166235006424), (18.68171339156497, False, -3.1641279047802975), (27.051961217366284, True, 5.540411757790768), (17.786081527958533, False, -3.997854287095361), (19.45671371229914, False, -2.2067043354312545), (17.994724380678655, False, -3.8521924186924252), (16.10893481647109, True, -5.580024150561869), (23.70084973089537, False, 2.0051909248836814), (29.13168845565185, True, 7.207279004016321), (24.158369584125033, False, 2.2644742137367295), (27.14920043614999, False, 4.958637835942454), (24.958948668205828, False, 2.3409318194018844), (21.608143041246628, False, -1.3388522730469496), (16.096712012956118, True, -6.536203926256018), (27.68507514461983, True, 5.560119566463161), (17.39489313389083, False, -4.96038219334454), (26.463181276263967, False, 4.433330905080016), (29.317435701532773, True, 7.046475585613184), (21.492568911119125, False, -1.325240779606716), (29.370631012618148, True, 6.762540551964523), (26.55569341301512, False, 3.8295035731871394), (28.315340147496983, True, 5.136043024499642), (28.71578950326635, True, 5.347467733604574), (20.33745939105355, False, -3.1827711618029717), (15.656564438427083, True, -7.801353327244488), (22.495859850515878, False, -0.8305296998018719), (19.01207653482682, False, -4.116221651714824), (18.37737711973382, False, -4.804225197541232), (19.332574113673253, False, -3.8021005256641764), (19.824175438740312, False, -3.3686665802925333), (23.890855398326025, False, 0.536481178324955), (26.52897120661559, False, 3.166335870639273), (17.16676198128443, True, -6.082711735168573), (24.89877174304424, False, 1.9532809658451775), (20.791169390839062, False, -2.0564766605727947), (21.48718283705825, False, -1.1792554196854859), (18.117370503365592, False, -4.5438086140656075), (20.940213399650126, False, -1.8088204347553969), (29.42542394009954, True, 6.969644964170964), (24.114564191671583, False, 1.135718658951319), (24.114564191671583, False, 0), (24.114564191671583, False, 0), (24.114564191671583, False, 0), (24.114564191671583, False, 0), (24.114564191671583, False, 0), (24.114564191671583, False, 0), (24.114564191671583, False, 0), (24.114564191671583, False, 0), (24.114564191671583, False, 0), (24.114564191671583, False, 0), (24.114564191671583, False, 0), (24.114564191671583, False, 0), (24.114564191671583, False, 0), (24.114564191671583, False, 0), (24.114564191671583, False, 0), (24.114564191671583, False, 0), (24.114564191671583, False, 0), (24.114564191671583, False, 0), (24.114564191671583, False, 0), (24.114564191671583, False, 0), (24.114564191671583, False, 0), (24.114564191671583, False, 0), (24.114564191671583, False, 0)]\n",
      "Number of anomalies detected: 55\n",
      "Anomaly differences from the average: [8.820570908859132, -5.178581471450684, -5.076581220667254, 5.420326904919953, -6.25959239473482, 8.20412103952513, 6.176771927908305, -5.059305514521725, 6.33079269672082, -5.856396119981138, 6.987438158989864, 5.257738563547974, 6.639499601190561, -7.604855293454655, 5.191452567239505, 5.160840550644316, 5.346485755654335, -8.209720987087278, 6.471942624820279, -7.817992227659369, -7.1950348985970685, -7.722537903202381, 6.550073645804979, -5.666634554084215, 6.998025792607901, -6.4797373695762275, 6.1755136914241255, 6.300302794302926, -5.397346822729073, -6.2908073600807946, -5.641596021341762, 7.178089662353187, 5.102592133854028, 6.8535325770233655, -7.845815062077124, -6.686893555174823, 7.851206543823025, -5.222303249042152, -5.1228613025189205, 6.674463032617087, 5.403419286045864, -5.283911690822894, -5.8810047894601105, 5.540411757790768, -5.580024150561869, 7.207279004016321, -6.536203926256018, 5.560119566463161, 7.046475585613184, 6.762540551964523, 5.136043024499642, 5.347467733604574, -7.801353327244488, -6.082711735168573, 6.969644964170964]\n"
     ]
    }
   ],
   "source": [
    "# Sample temperature data: hourly readings for a week (168 hours)\n",
    "import random # this imports the random library for sampling random numbers\n",
    "temp_readings = [random.uniform(15.0, 30.0) for _ in range(168)]\n",
    "\n",
    "def detect_temperature_anomaly(temperatures, window_size=24):\n",
    "    \"\"\"\n",
    "    Analyze a window of temperature readings and detect if the current temperature\n",
    "    is significantly different from the window average\n",
    "    Returns: (original_temp, is_anomaly, difference_from_average)\n",
    "    \"\"\"\n",
    "    if len(temperatures) < window_size:\n",
    "        return (temperatures[-1], False, 0)\n",
    "        \n",
    "    window = temperatures[-window_size:]\n",
    "    current_temp = window[-1]\n",
    "    window_avg = sum(window[:-1]) / (window_size - 1)\n",
    "    \n",
    "    # Consider it an anomaly if temp is 5 degrees above/below average\n",
    "    is_anomaly = abs(current_temp - window_avg) > 5\n",
    "    \n",
    "    return (current_temp, is_anomaly, current_temp - window_avg)\n",
    "\n",
    "# Task 2a: Use list slicing to create 24-hour windows of data\n",
    "# Then use map() to detect anomalies in each window\n",
    "# Your code here\n",
    "windows = [temp_readings[i:i+24] for i in range(0, 168)] # the windows are overlapping in this case, use range(0, 168, 24) for non-overlapping windows\n",
    "# check that the items in windows are list of length 24\n",
    "print(type(windows[0]), len(windows[0]))\n",
    "\n",
    "anomalies = list(map(detect_temperature_anomaly, windows))\n",
    "\n",
    "# print(anomalies)\n",
    "\n",
    "# Task 2b: Use list comprehension to create reports for anomalies only\n",
    "# Your code here\n",
    "print(\"Number of anomalies detected:\", len([item for item in anomalies if item[1]]))\n",
    "print(\"Anomaly differences from the average:\", [item[2] for item in anomalies if item[1]])"
   ]
  },
  {
   "cell_type": "code",
   "execution_count": null,
   "id": "3f92e962",
   "metadata": {},
   "outputs": [],
   "source": []
  }
 ],
 "metadata": {
  "kernelspec": {
   "display_name": "Python 3 (ipykernel)",
   "language": "python",
   "name": "python3"
  },
  "language_info": {
   "codemirror_mode": {
    "name": "ipython",
    "version": 3
   },
   "file_extension": ".py",
   "mimetype": "text/x-python",
   "name": "python",
   "nbconvert_exporter": "python",
   "pygments_lexer": "ipython3",
   "version": "3.12.6"
  }
 },
 "nbformat": 4,
 "nbformat_minor": 5
}
