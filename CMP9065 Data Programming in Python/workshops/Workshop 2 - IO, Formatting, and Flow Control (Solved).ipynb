{
 "cells": [
  {
   "cell_type": "markdown",
   "id": "8fdc0282-e0c7-4399-ae1e-35c8862df679",
   "metadata": {},
   "source": [
    "# Workshop 2 - I/O, Formatting, and Flow Control\n",
    "\n",
    "Welcome to week two! Today we'll be looking at I/O, Formatting, and Flow Control - including what they are, what they're used for, and plenty of practical examples of their use.\n",
    "\n",
    "- [I/O](#I/O)\n",
    "    - [Reading Inputs](#Reading-Inputs)\n",
    "    - [File Objects](#File-Objects)\n",
    "    - [Useful Methods](#Useful-Methods)\n",
    "- [Formatting & Flow Control](#Formatting-&-Flow-Control)\n",
    "    - [Formatting](#Formatting)\n",
    "    - [Loops](#Loops)\n",
    "    - [Statements](#Statements)"
   ]
  },
  {
   "cell_type": "markdown",
   "id": "8832cbbd-139b-44c9-9260-eae1f443591e",
   "metadata": {},
   "source": [
    "## I/O\n",
    "I/O - shorthand for ***Input/Output*** - refers to the action of taking inputs or producing outputs in Python.\n",
    "\n",
    "In terms of inputs, I/O covers implementations as simple as having a user select an option or provide some input text, to as complex as providing multiple different files (e.g. spreadsheets, images, videos, etc). In terms of outputs, I/O covers implementations as simple as providing a boolean result for a given statement, to providing complex graphical or file outputs.\n",
    "\n",
    "We will be walking through reading a variety of different types of input, providing various types of outputs, and showing off a handful of useful methods for working with I/O in your own code."
   ]
  },
  {
   "cell_type": "markdown",
   "id": "abd43683-5a93-479a-b7c9-1f207ff8eb8d",
   "metadata": {},
   "source": [
    "## Reading Inputs\n",
    "\n",
    "One of the most simple ways we can read user input in Python is using the input() function.\n",
    "                          \n",
    "Using what you learned in this week's lecture, implement a simple program that asks the user for their name and stores that name as a variable."
   ]
  },
  {
   "cell_type": "code",
   "execution_count": 3,
   "id": "7f24c21b-96bf-4022-a570-84ad90e938dc",
   "metadata": {},
   "outputs": [],
   "source": [
    "# hint: use input() to query the user, assigning the output to a variable\n",
    "name = input('What is your name?')"
   ]
  },
  {
   "cell_type": "markdown",
   "id": "26695d2a-f33d-4ad6-a12a-20ba2b13b706",
   "metadata": {},
   "source": [
    "It's important to note that the input() function processed the given response as a string, regardless of what the given input was. With that in mind, expand on your simple program from the previous task with a check for a specific name (maybe use your own name), printing a greeting to the user if they have the correct name."
   ]
  },
  {
   "cell_type": "code",
   "execution_count": null,
   "id": "a343c6dd-a29c-4971-83d8-c8bcdf274bee",
   "metadata": {},
   "outputs": [],
   "source": [
    "# hint: the output of input() is always a string, perform a check for a specific name using the == operator\n",
    "if name == 'James':\n",
    "    print('Hi James!')"
   ]
  },
  {
   "cell_type": "markdown",
   "id": "876f2ea1-720f-4968-aa46-7491690290a5",
   "metadata": {},
   "source": [
    "The above was an example of taking a simple text user input, but what if we want to take a file (or files) as an input?"
   ]
  },
  {
   "cell_type": "markdown",
   "id": "ac79e737-4483-4210-ba53-3d978294b96e",
   "metadata": {},
   "source": [
    "### File Objects\n",
    "\n",
    "***File objects*** are objects (don't worry about what those are, we'll get to it!) that represent a local file - this could be a text file, an excel file, or almost any other type of file. These file objects have several built-in methods for interacting with the file they represent.\n",
    "\n",
    "Download the greetings.txt file from Blackboard (and place it into the same folder as this notebook). Read in the file using the with/as syntax covered in the lecture this week. Print the contents of the file using the .read() method. *If you choose not to use the with/as method and instead just call open(), be sure to .close() the file*."
   ]
  },
  {
   "cell_type": "code",
   "execution_count": 5,
   "id": "307fa78b-1f39-4ce0-8b76-f3eb8bec2875",
   "metadata": {},
   "outputs": [
    {
     "name": "stdout",
     "output_type": "stream",
     "text": [
      "\n"
     ]
    }
   ],
   "source": [
    "# tip: remember the open() modes are \"rawx\"\n",
    "with open('greetings.txt', 'r') as greetings_file:\n",
    "    print(greetings_file.read())"
   ]
  },
  {
   "cell_type": "markdown",
   "id": "a20964f0-1e18-486e-bb13-ae45cdd51b82",
   "metadata": {},
   "source": [
    "We also covered some other built-in methods such as .mode, .name. and read variants like .readline(), but let's look at writing.\n",
    "\n",
    "For the following task, read in the greetings file again and write three more greetings - use a language you're familiar with or just find some online - then read the file in again and print the new contents."
   ]
  },
  {
   "cell_type": "code",
   "execution_count": 7,
   "id": "607099d8-fd34-4779-a309-2b5f4d121b59",
   "metadata": {},
   "outputs": [
    {
     "name": "stdout",
     "output_type": "stream",
     "text": [
      "merhaba\n",
      "namaste\n",
      "\n"
     ]
    }
   ],
   "source": [
    "# tip: remember that you need to keep your open() calls separate, one for writing and then one for reading\n",
    "with open('greetings.txt', 'w') as greetings_file:\n",
    "    greetings_file.write('merhaba\\n')\n",
    "    greetings_file.write('namaste\\n')\n",
    "\n",
    "with open('greetings.txt', 'r') as greetings_file:\n",
    "    print(greetings_file.read())"
   ]
  },
  {
   "cell_type": "markdown",
   "id": "54f2ea55-e386-42be-884a-d596b545de72",
   "metadata": {},
   "source": [
    "# Formatting & Flow Control\n",
    "\n",
    "## Formatting\n",
    "Sometimes (in fact, quite often) we want to control how data is displayed when we output it.\n",
    "\n",
    "Create three variables (either integers or floats) and print a full mathematical sum using them, including the result e.g. the output should be \"3 + 5 + 2 = 10\" not simply \"10\"."
   ]
  },
  {
   "cell_type": "code",
   "execution_count": null,
   "id": "8e19b343-72d0-46e2-b975-2b7b2828eb79",
   "metadata": {},
   "outputs": [],
   "source": [
    "# tip: remember, the built-in string method .format() is your friend\n",
    "a = 3\n",
    "b = 5\n",
    "c = 2\n",
    "print('{} + {} + {} = {}'.format(a, b, c, a + b + c))"
   ]
  },
  {
   "cell_type": "markdown",
   "id": "b9e83ab8-85b3-4f2a-a956-ed1536923c98",
   "metadata": {},
   "source": [
    "## Loops\n",
    "\n",
    "Quite often, we will want to ***perform a certain task iteratively***. We could, of course, just type out the task as many times as we want it to execute, but that's ***very inefficient***, ***harms readability***, and ***cannot account for changed inputs*** (we would have to re-write the code dependent on the size of the input). That's where loops come in!\n",
    "\n",
    "For this task, once again ask the user for their name, then read in the greetings.txt file as before. Using a for loop and string formatting, greet the user by their given name using each greeting in the file.\n",
    "\n",
    "Example:  \n",
    "salut, James!  \n",
    "hola, James!  \n",
    "privet, James!  \n",
    "and so on"
   ]
  },
  {
   "cell_type": "code",
   "execution_count": null,
   "id": "8d8db9a6-3a10-4661-99b3-5ccfeaeb6205",
   "metadata": {},
   "outputs": [],
   "source": [
    "# tip: you will want to use input(), string formatting, and a for loop for your implementation\n",
    "name = input('What is your name?')\n",
    "with open('greetings.txt', 'r') as greetings_file:\n",
    "    for line in greetings_file:\n",
    "        print('{}, {}!'.format(line.strip(), name))"
   ]
  },
  {
   "cell_type": "markdown",
   "id": "e986a6b3-5717-48bd-8b61-256fb7d66a79",
   "metadata": {},
   "source": [
    "In other languages, you will see this type of loop separated into two types, either ***for loops*** or ***foreach loops***. Python refers to the type we just discussed as a ***for loop***, but it actually functions like a ***foreach loop*** as in \"for each x in y\"."
   ]
  },
  {
   "cell_type": "markdown",
   "id": "285b8a3b-a629-4940-82a4-edfe7b595c98",
   "metadata": {},
   "source": [
    "## Statements\n",
    "\n",
    "There are a multitude of useful statements we can use to control the way in which a set of code executes – this is called control flow. We’ve already covered for loops and while loops, which are an option, what else is there?\n",
    "\n",
    "Let's take a look at ***if statements***, bringing together everything we've learned so far.\n",
    "\n",
    "Query the user for their name and age. Assuming the user is in the UK, check if they are of the legal driving age (17 or over). Read in the greetings.txt file and include a greeting (use readline) in a print statement telling the user whether or not they are legally allowed to drive. This code should run indefinitely until a user that is old enough to legally drive enters their information.\n",
    "\n",
    "***Note: It is key that you can understand the logic enough to solve this task, if you need help please ask for it - it's imperative you seek help rather than struggling in silence and allowing yourself to fall behind!***"
   ]
  },
  {
   "cell_type": "code",
   "execution_count": null,
   "id": "e6f36db0-015b-4ec3-ba52-13a9fe527526",
   "metadata": {},
   "outputs": [],
   "source": [
    "# tip: you will need a variable for keeping track of whether or not the current user is old enough\n",
    "# you should use that variable in a while loop to allow the code to constantly re-run if the current\n",
    "# user is not old enough to drive, your input() calls should be inside the loop, and you should use\n",
    "# string formatting within the print statements to include the greeting and name.\n",
    "import random\n",
    "\n",
    "\n",
    "with open('greetings.txt', 'r') as greetings_file:\n",
    "    greetings = greetings_file.readlines()\n",
    "\n",
    "while True:\n",
    "    name = input('What is your name?')\n",
    "    age = int(input('How old are you?'))\n",
    "    # the random.choice is not strickly needed, you can select on greeting deterministically\n",
    "    # string.strip() removes any whitespaces and newlines on the left and right of text\n",
    "    greeting = random.choice(greetings).strip()\n",
    "    if age >= 17:\n",
    "        print('{}, {}! You are old enough to drive!'.format(greeting, name))\n",
    "        break # exit the while loop\n",
    "    else:\n",
    "        print('{}, {}! You are not old enough to drive!'.format(greeting, name))\n",
    "        "
   ]
  },
  {
   "cell_type": "markdown",
   "id": "1a52e54b-6670-446f-bac5-4e61066e1a7d",
   "metadata": {},
   "source": [
    "As a final task, take the last exercise from last week's workshop and solve it using conditional statements and I/O functions:\n",
    "\n",
    "*Create a small piece of code that creates three variables representing the current temperature, whether it is sunny or not, and yesterday's probability of raining. Your code need to determine what is the probability of raininig today based on his data. If it is sunny, the probability of rain is fixed at 5%. In case it is not sunny, today's probability sees and increase of 20% compared to yesterday if the temperature is higher than 20 C and a decrease of 45% if the temperature is smaller or equal than 20 C.* "
   ]
  },
  {
   "cell_type": "code",
   "execution_count": null,
   "id": "bfcce079",
   "metadata": {},
   "outputs": [],
   "source": [
    "# Create a dictionary and ask user to provide input data\n",
    "data = {\n",
    "    'current_temperature': int(input(\"Provide current temperature in C: \")),\n",
    "    'sunny': bool(input(\"Insert 1 if it is currently sunny, 0 otherwise: \")),\n",
    "    'yesterday_p_rain': int(input(\"Provide yesterday's probability of rain as an int (e.g., 20 for %20): \"))\n",
    "}\n",
    "\n",
    "\n",
    "if data['sunny']:\n",
    "    # if it is sunny the probability is fixed at 5%\n",
    "    data['today_p_rain'] = 5\n",
    "elif data['current_temperature'] > 20:\n",
    "    # increase by 20% compared to yesterday\n",
    "    data['today_p_rain'] = data['yesterday_p_rain'] + (data['yesterday_p_rain'] * 0.2)\n",
    "else:\n",
    "    # decrease by 45% compared to yesterday\n",
    "    data['today_p_rain'] = data['yesterday_p_rain'] - (data['yesterday_p_rain'] * 0.45)\n",
    "\n",
    "\n",
    "print(\"Today's probability of rain is {}\".format(data['today_p_rain']))"
   ]
  }
 ],
 "metadata": {
  "kernelspec": {
   "display_name": "Python 3 (ipykernel)",
   "language": "python",
   "name": "python3"
  },
  "language_info": {
   "codemirror_mode": {
    "name": "ipython",
    "version": 3
   },
   "file_extension": ".py",
   "mimetype": "text/x-python",
   "name": "python",
   "nbconvert_exporter": "python",
   "pygments_lexer": "ipython3",
   "version": "3.12.6"
  }
 },
 "nbformat": 4,
 "nbformat_minor": 5
}
