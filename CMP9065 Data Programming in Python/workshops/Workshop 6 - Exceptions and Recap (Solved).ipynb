{
 "cells": [
  {
   "cell_type": "markdown",
   "id": "8fdc0282-e0c7-4399-ae1e-35c8862df679",
   "metadata": {},
   "source": [
    "# Lecture 6 - Exceptions and Recap\n",
    "\n",
    "This week we covered exceptions - including what they are, how try/except works, and how to define your own - and recapped data types, functions, recursion, object-oriented programming and namespaces. This is your last session covering the fundamentals of Python before Petra takes over to cover various data science-related libraries, so if you need any help please ask!\n",
    "\n",
    "In this workshops you are going to solve a series of excercises that more or less requires usage of all the concepts studied so far. \n",
    "\n",
    "Do not skip any excercise, as each depends on having completed the previous ones! \n",
    "\n",
    "- [Exercise 1: Create a simple library management system with OOP](#Exercise-1)\n",
    "- [Exercise 2: Enable search functionalities with recursion](#Exercise-2)\n",
    "- [Exercise 3: Make it robust with exception handling](#Exercise-3)\n",
    "- [Exercise 4: Include private user accounts with appropriate use of encapsulation and namespacing](#Exercise-4)"
   ]
  },
  {
   "cell_type": "markdown",
   "id": "7bf0022e",
   "metadata": {},
   "source": [
    "\n",
    "## Exercise 1: \n",
    "## Create a simple library management system with OOP\n",
    "\n",
    "Object-Oriented Programming is a programming paradigm revolving around the usage of **classes** and **objects**, as well as the key concepts (known as pillars) **inheritance**, **encapsulation**, and **polymorphism**.\n",
    "\n",
    "In the lecture recap we covered basic class declarations including **initialisers** and **instance attributes** and practical examples of **inheritance** (through making parent and child classes and comparing their functionalities), **encapsulation** (through preventing access to instance attributes through privatisation and creating getters/setters) and **polymorphism** (accessing the same methods in different objects to produce different results).\n",
    "\n",
    "In this exercise, you'll create the foundation of our library management system using Object-Oriented Programming principles.\n",
    "\n",
    "### Requirements:\n",
    "1. Create a `Book` class with the following attributes:\n",
    "   - title\n",
    "   - author\n",
    "   - ISBN\n",
    "   - publication_year\n",
    "   - available (boolean)\n",
    "\n",
    "2. Create a `Library` class that will:\n",
    "   - Store a collection of books\n",
    "   - Allow adding new books\n",
    "   - Allow checking out books\n",
    "   - Allow returning books\n",
    "   - Provides a method `dump()` that returns the entire collection as a dictionary \n",
    "\n",
    "Try implementing these classes below:"
   ]
  },
  {
   "cell_type": "code",
   "execution_count": 2,
   "id": "da40fbe2",
   "metadata": {},
   "outputs": [],
   "source": [
    "# YOUR CODE HERE - Look at example usage below to figure out the details of implementation such as how to name the methods and what arguments do they require\n",
    "\n",
    "class Book:\n",
    "    def __init__(self, title, author, isbn, pub_year, available=True):\n",
    "        self.title = title\n",
    "        self.author = author\n",
    "        self.isbn = isbn\n",
    "        self.pub_year = pub_year\n",
    "        self.available = available\n",
    "\n",
    "class Library:\n",
    "    def __init__(self):\n",
    "        self.books = []\n",
    "\n",
    "    def add_book(self, book):\n",
    "        self.books.append(book)\n",
    "\n",
    "    def checkout_book(self, isbn):\n",
    "        for book in self.books:\n",
    "            if book.isbn == isbn:\n",
    "                print(\"Checking out book {}.\".format(book.title))\n",
    "                book.available = False\n",
    "                return book\n",
    "        \n",
    "    def return_book(self, isbn):\n",
    "        for book in self.books:\n",
    "            if book.isbn == isbn and not book.available:\n",
    "                print(\"Returning book {}.\".format(book.title))\n",
    "                book.available = True\n",
    "                return book\n",
    "            \n",
    "    def dump(self):\n",
    "        result = {\"books\": []}\n",
    "        for book in self.books:\n",
    "            result[\"books\"].append({\n",
    "                \"title\": book.title,\n",
    "                \"author\": book.author,\n",
    "                \"isbn\": book.isbn\n",
    "            })\n",
    "        return result\n"
   ]
  },
  {
   "cell_type": "markdown",
   "id": "f259d618",
   "metadata": {},
   "source": [
    "### Example usage:"
   ]
  },
  {
   "cell_type": "code",
   "execution_count": 3,
   "id": "e88fdf43",
   "metadata": {},
   "outputs": [
    {
     "name": "stdout",
     "output_type": "stream",
     "text": [
      "<__main__.Book object at 0x7f4378736210>\n",
      "1984\n",
      "Checking out book The Hobbit.\n",
      "Returning book The Hobbit.\n",
      "{'books': [{'title': 'The Hobbit', 'author': 'J.R.R. Tolkien', 'isbn': '978-0547928227'}, {'title': '1984', 'author': 'George Orwell', 'isbn': '978-0451524935'}]}\n"
     ]
    }
   ],
   "source": [
    "# Test your implementation with this code\n",
    "book1 = Book(\"The Hobbit\", \"J.R.R. Tolkien\", \"978-0547928227\", 1937)\n",
    "book2 = Book(\"1984\", \"George Orwell\", \"978-0451524935\", 1949)\n",
    "\n",
    "print(book1)\n",
    "print(book2.title)\n",
    "\n",
    "library = Library()\n",
    "library.add_book(book1)\n",
    "library.add_book(book2)\n",
    "\n",
    "library.checkout_book(\"978-0547928227\")  # Should mark The Hobbit as unavailable\n",
    "library.return_book(\"978-0547928227\")    # Should mark The Hobbit as available again\n",
    "\n",
    "print(library.dump())\n",
    "# this should return something like:\n",
    "# {\"books\": [\n",
    "#      {\"name\": \"The Hobbit\", \"author\": \"J.R.R. Tolkien\", \"ISBN\": \"978-0547928227\", \"publication_year\": 1937},\n",
    "#      {\"name\": \"1984\", \"author\": \"George Orwell\", \"ISBN\": \"978-0451524935\", \"publication_year\": 1949}\n",
    "# ]}"
   ]
  },
  {
   "cell_type": "code",
   "execution_count": 4,
   "id": "8f0279b7",
   "metadata": {},
   "outputs": [
    {
     "data": {
      "text/plain": [
       "True"
      ]
     },
     "execution_count": 4,
     "metadata": {},
     "output_type": "execute_result"
    }
   ],
   "source": [
    "book1.available"
   ]
  },
  {
   "cell_type": "markdown",
   "id": "5bb71ed8",
   "metadata": {},
   "source": [
    "## Exercise 2:\n",
    "## Enable search functionalities with recursion\n",
    "\n",
    "Now that we have our basic library system, let's implement some advanced search functionality using recursion.\n",
    "\n",
    "### Requirements:\n",
    "1. Extend your Book class into a `BookWithCategory` class to include a category attribute.\n",
    "\n",
    "2. Extend the Library class into a `LibraryWithSearch` class which implements a recursive search method that can:\n",
    "   - Search through nested categories of books\n",
    "   - Return all matches in a given category and its subcategories"
   ]
  },
  {
   "cell_type": "code",
   "execution_count": 19,
   "id": "71c0724a",
   "metadata": {},
   "outputs": [],
   "source": [
    "# Complete the code here\n",
    "class Category:\n",
    "    def __init__(self, name, parent=None):\n",
    "        self.name = name\n",
    "        self.parent = parent\n",
    "        self.subcategories = []\n",
    "        if parent:\n",
    "            parent.subcategories.append(self)\n",
    "    \n",
    "    def __str__(self):\n",
    "        return self.name\n",
    "\n",
    "\n",
    "class BookWithCategory(Book):\n",
    "    def __init__(self, title, author, isbn, publication_year, category=None):\n",
    "        super().__init__(title, author, isbn, publication_year)\n",
    "        self.category = category\n",
    "\n",
    "\n",
    "\n",
    "# NOTE: to implement this recursive search functionality there are many possible ways (as usual!), \n",
    "#       so your solution may look very different and still be perfectly fine!\n",
    "\n",
    "class LibraryWithSearch(Library):\n",
    "    def search_books(self, category, recursive=True):\n",
    "\n",
    "        return self.recursive_search(self.books, category, recursive)\n",
    "    \n",
    "    # This goes through the list of books and check if any matches the category\n",
    "    def recursive_search(self, books, category, recursive):\n",
    "        if not len(books):\n",
    "            return []\n",
    "        # case 1: the book has exactly the same category as specified (not a subclass) \n",
    "        elif books[0].category.name == category:\n",
    "            return [books[0]] + self.recursive_search(books[1:], category, recursive)\n",
    "        # case 2: we do a recursive category search, so we also look for subcategories\n",
    "        elif recursive and self.check_category_match(books[0].category, category):\n",
    "            return [books[0]] + self.recursive_search(books[1:], category, recursive)\n",
    "        # case 3: the book is not of the same category nor we are searching recursively\n",
    "        else:\n",
    "            return self.recursive_search(books[1:], category, recursive)\n",
    "    \n",
    "    # This function recursively checks through the categories parents if there is a match\n",
    "    def check_category_match(self, book_cat, cat_name):\n",
    "        if book_cat.name == cat_name:\n",
    "            return True\n",
    "        elif book_cat.parent is None:\n",
    "            return False\n",
    "        else:\n",
    "            return self.check_category_match(book_cat.parent, cat_name)\n",
    "        \n"
   ]
  },
  {
   "cell_type": "markdown",
   "id": "73d0e128",
   "metadata": {},
   "source": [
    "### Example usage:"
   ]
  },
  {
   "cell_type": "code",
   "execution_count": 27,
   "id": "7ffd2ba1",
   "metadata": {},
   "outputs": [
    {
     "name": "stdout",
     "output_type": "stream",
     "text": [
      "True\n",
      "['The Hobbit', '1984']\n",
      "['The Hobbit', '1984', 'Pride and Prejudice']\n"
     ]
    }
   ],
   "source": [
    "# Test your implementation\n",
    "written = Category(\"Written\")\n",
    "fiction = Category(\"Fiction\", parent=written)\n",
    "fantasy = Category(\"Fantasy\", parent=fiction)\n",
    "scifi = Category(\"Science Fiction\", parent=fiction)\n",
    "romance = Category(\"Romance\", parent=written)\n",
    "\n",
    "book1 = BookWithCategory(\"The Hobbit\", \"J.R.R. Tolkien\", \"978-0547928227\", 1937, category=fantasy)\n",
    "book2 = BookWithCategory(\"1984\", \"George Orwell\", \"978-0451524935\", 1949, category=scifi)\n",
    "book3 = BookWithCategory(\"Pride and Prejudice\", \"Jane Austen\", \"978-1503290563\", 1813, category=romance)\n",
    "\n",
    "library = LibraryWithSearch()\n",
    "library.add_book(book1)\n",
    "library.add_book(book2)\n",
    "library.add_book(book3)\n",
    "\n",
    "print(library.check_category_match(fantasy, \"Written\"))\n",
    "\n",
    "\n",
    "# Should find all books in fiction and its subcategories\n",
    "results = library.search_books(category=\"Fiction\", recursive=True)\n",
    "print([res.title for res in results])\n",
    "\n",
    "# Should find all books in fiction and its subcategories\n",
    "results = library.search_books(category=\"Written\", recursive=True)\n",
    "print([res.title for res in results])"
   ]
  },
  {
   "cell_type": "markdown",
   "id": "b928ad64",
   "metadata": {},
   "source": [
    "## Exercise 3:\n",
    "## Make it robust with exception handling\n",
    "\n",
    "Let's make our library system more robust by implementing proper exception handling.\n",
    "\n",
    "### Requirements:\n",
    "1. Create custom exceptions for common errors:\n",
    "   - `BookNotFoundError`\n",
    "   - `BookAlreadyExistsError`\n",
    "   - `BookNotAvailableError`\n",
    "\n",
    "2. Implement appropriate try/except blocks in your Library class methods"
   ]
  },
  {
   "cell_type": "code",
   "execution_count": 30,
   "id": "eb7d673b",
   "metadata": {},
   "outputs": [],
   "source": [
    "## ADD CUSTOM EXCEPTIONS HERE\n",
    "class LibraryError(Exception):\n",
    "    \"\"\"Base exception for library errors\"\"\"\n",
    "    pass\n",
    "\n",
    "class BookNotFoundError(LibraryError):\n",
    "    \"\"\"Raised when a book cannot be found in the library\"\"\"\n",
    "    pass\n",
    "\n",
    "class BookAlreadyExistsError(LibraryError):\n",
    "    \"\"\"Raised when trying to add a book that already exists\"\"\"\n",
    "    pass\n",
    "\n",
    "class BookNotAvailableError(LibraryError):\n",
    "    \"\"\"Raised when trying to checkout a book that is not available\"\"\"\n",
    "    pass\n",
    "\n",
    "## Complete below\n",
    "class RobustLibrary(LibraryWithSearch):\n",
    "    def add_book(self, book):\n",
    "        if book.isbn in [b.isbn for b  in self.books]:\n",
    "            raise BookAlreadyExistsError(f\"Book with ISBN {book.isbn} already exists\")\n",
    "        self.books.append(book)\n",
    "\n",
    "    def checkout_book(self, isbn):\n",
    "        if isbn not in [b.isbn for b  in self.books]:\n",
    "            raise BookNotFoundError(f\"No book found with ISBN {isbn}\")\n",
    "        \n",
    "        for book in self.books:\n",
    "            if book.isbn == isbn:\n",
    "    \n",
    "                if not book.available:\n",
    "                    raise BookNotAvailableError(f\"Book {book.title} is currently not available\")\n",
    "                \n",
    "                print(\"Checking out book {}.\".format(book.title))\n",
    "                book.available = False\n",
    "                return book\n",
    "        \n",
    "    def return_book(self, isbn):\n",
    "\n",
    "        if isbn not in [b.isbn for b  in self.books]:\n",
    "            raise BookNotFoundError(f\"No book found with ISBN {isbn}\")\n",
    "        \n",
    "        for book in self.books:\n",
    "            if book.isbn == isbn and not book.available:\n",
    "                print(\"Returning book {}.\".format(book.title))\n",
    "                book.available = True\n",
    "                return book"
   ]
  },
  {
   "cell_type": "markdown",
   "id": "cf114af5",
   "metadata": {},
   "source": [
    "### Example usage:"
   ]
  },
  {
   "cell_type": "code",
   "execution_count": 31,
   "id": "64533390",
   "metadata": {},
   "outputs": [
    {
     "name": "stdout",
     "output_type": "stream",
     "text": [
      "Error: No book found with ISBN non-existent-isbn\n",
      "Error: Book with ISBN 978-0547928227 already exists\n"
     ]
    }
   ],
   "source": [
    "# Test your implementation\n",
    "library = RobustLibrary()\n",
    "library.add_book(book1)\n",
    "library.add_book(book2)\n",
    "\n",
    "try:\n",
    "    library.checkout_book(\"non-existent-isbn\")\n",
    "except BookNotFoundError as e:\n",
    "    print(f\"Error: {e}\")\n",
    "\n",
    "try:\n",
    "    library.add_book(book1)  # Try adding the same book twice\n",
    "except BookAlreadyExistsError as e:\n",
    "    print(f\"Error: {e}\")"
   ]
  },
  {
   "cell_type": "markdown",
   "id": "16fdb445",
   "metadata": {},
   "source": [
    "## Exercise 4: \n",
    "## Include private user accounts with appropriate use of encapsulation and namespacing\n",
    "\n",
    "Finally, let's add user account functionality with proper encapsulation and namespace management.\n",
    "\n",
    "### Requirements:\n",
    "1. Create a `User` class with:\n",
    "   - Private attributes for username and password\n",
    "   - Method to authenticate\n",
    "   - History of checked out books\n",
    "\n",
    "2. Modify the Library class to:\n",
    "   - Require user authentication for checkout/return\n",
    "   - Maintain private records of user activities"
   ]
  },
  {
   "cell_type": "code",
   "execution_count": 38,
   "id": "61a80b5b",
   "metadata": {},
   "outputs": [],
   "source": [
    "class AuthenticationError(Exception):\n",
    "    \"\"\"Raised when authentication fails\"\"\"\n",
    "    pass\n",
    "\n",
    "## Complete the code below looking at example usage for details.\n",
    "\n",
    "class User:\n",
    "    def __init__(self, username, password):\n",
    "        self.__username = username\n",
    "        self.__password = password\n",
    "\n",
    "    def get_username(self):\n",
    "        return self.__username\n",
    "    \n",
    "    def authenticate(self, password):\n",
    "        # This method checks that the password is correct\n",
    "        if password != self.__password:\n",
    "            raise AuthenticationError(f\"The password for {self.__username} is not correct!\")\n",
    "\n",
    "        return True\n",
    "\n",
    "\n",
    "\n",
    "class SecureLibrary(RobustLibrary):\n",
    "\n",
    "    def __init__(self):\n",
    "        super().__init__()\n",
    "        self._users = {}\n",
    "\n",
    "    def register_user(self, user):\n",
    "        self._users[user.get_username()] = user\n",
    "\n",
    "\n",
    "    def checkout_book(self, isbn, user, password):\n",
    "        if user not in self._users:\n",
    "            raise AuthenticationError(\"User not found\")\n",
    "        if not self._users[user].authenticate(password):\n",
    "            raise AuthenticationError(\"Invalid password\")\n",
    "        \n",
    "\n",
    "        return super().checkout_book(isbn)\n",
    "\n",
    "    "
   ]
  },
  {
   "cell_type": "markdown",
   "id": "131875dc",
   "metadata": {},
   "source": [
    "### Example usage:"
   ]
  },
  {
   "cell_type": "code",
   "execution_count": 40,
   "id": "2ab1e57c",
   "metadata": {},
   "outputs": [
    {
     "name": "stdout",
     "output_type": "stream",
     "text": [
      "Checking out book The Hobbit.\n",
      "Error: The password for john_doe is not correct!\n",
      "Error: User not found\n"
     ]
    }
   ],
   "source": [
    "# Test your implementation\n",
    "user = User(\"john_doe\", \"password123\")\n",
    "library = SecureLibrary()\n",
    "library.add_book(book1)\n",
    "library.add_book(book2)\n",
    "\n",
    "library.register_user(user)\n",
    "\n",
    "# Try checking out a book with authentication\n",
    "try:\n",
    "    library.checkout_book(\"978-0547928227\", user=\"john_doe\", password=\"password123\")\n",
    "except AuthenticationError as e:\n",
    "    print(f\"Error: {e}\")\n",
    "\n",
    "\n",
    "try:\n",
    "    library.checkout_book(\"978-0547928227\", user=\"john_doe\", password=\"wrong-password\")\n",
    "except AuthenticationError as e:\n",
    "    print(f\"Error: {e}\")\n",
    "\n",
    "\n",
    "try:\n",
    "    library.checkout_book(\"978-0547928227\", user=\"Hanna\", password=\"\")\n",
    "except AuthenticationError as e:\n",
    "    print(f\"Error: {e}\")"
   ]
  },
  {
   "cell_type": "code",
   "execution_count": null,
   "id": "7ea97d77",
   "metadata": {},
   "outputs": [],
   "source": []
  }
 ],
 "metadata": {
  "kernelspec": {
   "display_name": "Python 3",
   "language": "python",
   "name": "python3"
  },
  "language_info": {
   "codemirror_mode": {
    "name": "ipython",
    "version": 3
   },
   "file_extension": ".py",
   "mimetype": "text/x-python",
   "name": "python",
   "nbconvert_exporter": "python",
   "pygments_lexer": "ipython3",
   "version": "3.12.6"
  }
 },
 "nbformat": 4,
 "nbformat_minor": 5
}
