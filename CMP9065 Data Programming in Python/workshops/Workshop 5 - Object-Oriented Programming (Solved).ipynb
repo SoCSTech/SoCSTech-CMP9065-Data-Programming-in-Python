{
 "cells": [
  {
   "cell_type": "markdown",
   "id": "8fdc0282-e0c7-4399-ae1e-35c8862df679",
   "metadata": {},
   "source": [
    "# Workshop 5 - Object-Oriented Programming\n",
    "\n",
    "# 730202\n",
    "\n",
    "Welcome to week five! Today we'll be looking at the third primary programming paradigm (following on from procedural programming and functional programming) object-oriented programming - commonly known as OOP, including what it is, what it's for, and plenty of usage examples.\n",
    "\n",
    "- [Object-Oriented Programming](#Object-Oriented-Programming)\n",
    "    - [Classes and Objects](#Classes-and-Objects)\n",
    "    - [The Three Pillars](#The-Three-Pillars)\n",
    "        - [Inheritance](#Inheritance)\n",
    "        - [Encapsulation](#Encapsulation)\n",
    "        - [Polymorphism](#Polymorphism)"
   ]
  },
  {
   "cell_type": "markdown",
   "id": "abd43683-5a93-479a-b7c9-1f207ff8eb8d",
   "metadata": {},
   "source": [
    "Object-oriented programming, as the name suggests, is a programming paradigm based on the concept of objects and classes. Believe it or not, almost everything in Python is an object! Much like functional programming, the goal with OOP is to structure code into simple, resurable pieces of code blueprints (in this case called classes), but with OOP these are used to create individual instances called objects. As you'll see in our upcoming live coding, these classes and objects are generally used to represent real-life concepts (as an example, you might have a class that represents a person, or an animal, or a vehicle, etc). This paradigm is extremely commonly used in software development.\n",
    "\n",
    "Classes can be thought of as abstract blueprints that represent a concept or category (for example *User*, *File*, *Student*, but also *list* or *string*!), defining what ***attributes*** these concepts or categories should have - think of how every *User* has a *username*, every *Student* has a *study programme*, etc. Classes can also define what ***behaviours*** a concept or category should have - think of how you might *append* elements to a *list* in Python."
   ]
  },
  {
   "cell_type": "markdown",
   "id": "ad477319-0aeb-4511-8b94-b3ec7426a048",
   "metadata": {},
   "source": [
    "For this workshop, we will be modelling a very simple online messaging board. In the end, we will have three classes interracting with each other: `MessagingBoard`, `User` and `Moderator` (which will inherit and extend the functionality of `User`)."
   ]
  },
  {
   "cell_type": "markdown",
   "id": "4c3aeead-830b-421f-b65e-aff2d14f0f11",
   "metadata": {},
   "source": [
    "## Exercise 1\n",
    "\n",
    "Let's start simple!\n",
    "\n",
    "Define a class `MessagingBoard` which:\n",
    "- contains a **private instance attribute** `__messages` which is a list of messages\n",
    "- has an **intialisation method** `__init__`, allowing you to set `__messages` (and ensuring passed value is a list of strings!), and allowing a default value of an empty list\n",
    "- has a **method** `get_message` which allows you to access the content of a message by index (when accessing, ensure you are indexing an existing element; i.e. the element index needs to be smaller than the length of the `__messages` list)\n",
    "- has a **method** `add_message` which adds a message at the end of the list of messages (ensure the message is a a string)"
   ]
  },
  {
   "cell_type": "code",
   "execution_count": 25,
   "id": "7f24c21b-96bf-4022-a570-84ad90e938dc",
   "metadata": {},
   "outputs": [],
   "source": [
    "# hint: use the __init__ magic method - remember the 'self' argument!\n",
    "class MessageBoard:\n",
    "    def __init__(self, messages = []):\n",
    "        print(\"in the constructor\")\n",
    "        print(messages)\n",
    "        # check is messages are a list\n",
    "        assert(isinstance(messages, list))\n",
    "        # check if every element of this list is a string\n",
    "        for item in messages:\n",
    "            assert(isinstance(item, str))\n",
    "        if (messages == []):\n",
    "            print(\"empty!\")\n",
    "        self.__messages = messages.copy()\n",
    "\n",
    "    def add_message(self, message):\n",
    "        # check if message is a string\n",
    "        assert(isinstance(message, str))\n",
    "        self.__messages.append(message)\n",
    "\n",
    "    def get_message(self, index):\n",
    "        # check if element exists\n",
    "        assert(len(self.__messages) > index)\n",
    "        return self.__messages[index]\n",
    "\n",
    "    # Exercise 2 solutions:\n",
    "    def __str__(self):\n",
    "        # join all the messages together with a new line in between\n",
    "        return \"\\n\".join(self.__messages)\n",
    "\n",
    "    def modify_message(self, index, new_message):\n",
    "        # check if element exists\n",
    "        assert(len(self.__messages) > index)\n",
    "        # check if new message is a string\n",
    "        assert(isinstance(new_message, str))\n",
    "        self.__messages[index] = new_message\n",
    "    \n",
    "    def delete_message(self, index):\n",
    "        # check if element exists\n",
    "        assert(len(self.__messages) > index)\n",
    "        # remove message\n",
    "        self.__messages.pop(index)"
   ]
  },
  {
   "cell_type": "markdown",
   "id": "caf075ad-2c1a-4a19-acdc-421b70acc306",
   "metadata": {},
   "source": [
    "**TESTING CELL**"
   ]
  },
  {
   "cell_type": "code",
   "execution_count": 26,
   "id": "31a8eddf-e97f-4c67-be91-0325af8139c0",
   "metadata": {},
   "outputs": [
    {
     "name": "stdout",
     "output_type": "stream",
     "text": [
      "in the constructor\n",
      "['Happy message', 'Chilled message']\n",
      "Chilled message\n",
      "in the constructor\n",
      "[]\n",
      "empty!\n",
      "Funny message!\n"
     ]
    }
   ],
   "source": [
    "# A CORRECT SOLUTION TO EXERCISE 1\n",
    "# SHOULD RESULT IN THESE EXAMPLES WORKING\n",
    "\n",
    "# create a board with two messages\n",
    "board = MessageBoard([\"Happy message\", \"Chilled message\"])\n",
    "# print the message with index 1:\n",
    "print(board.get_message(1))\n",
    "\n",
    "#create a second board, with no messages\n",
    "other_board = MessageBoard()\n",
    "# add a message to other_board\n",
    "other_board.add_message(\"Funny message!\")\n",
    "# print the message with index 0 on the other_board\n",
    "print(other_board.get_message(0))"
   ]
  },
  {
   "cell_type": "markdown",
   "id": "26695d2a-f33d-4ad6-a12a-20ba2b13b706",
   "metadata": {},
   "source": [
    "There we go! Classes are declared with the *class* keyword followed by a symbolic name - much like you would use for variables or functions. Do bear in mind that it's convention in Python to name classes with each individual word having the first letter capitalised, unlike with variable or function definitions."
   ]
  },
  {
   "cell_type": "markdown",
   "id": "a7951d2c-02e9-4a0f-b23a-1142825b2365",
   "metadata": {},
   "source": [
    "## Exercise 2\n",
    "\n",
    "Let's extend our message board with a bit more functionality. **Go back and directly modify your solution to the previous exercise with new functionality**\n",
    "\n",
    "Let's add the following:\n",
    "- the **magic method** `__str__` allowing you to use the `print()` method on object of type `MessageBoard`. It should _return a string_ (not print it directly) which contains all the messages, separated by a new line (symbol `\\n`)\n",
    "- a **method** `delete_message` which allows you to delete a message by index (when deleting, ensure you are indexing an existing element; i.e. the element index needs to be smaller than the length of the `__messages` list)\n",
    "- a **method** `modify_message` which allows you to change (\"edit\") the content of a message by index (when accessing, ensure you are indexing an existing element; i.e. the element index needs to be smaller than the length of the `__messages` list; also ensure that the modified message is a _string_)"
   ]
  },
  {
   "cell_type": "markdown",
   "id": "a692d3d8-47c2-43ec-ba82-468c701f65af",
   "metadata": {},
   "source": [
    "**TESTING CELL**"
   ]
  },
  {
   "cell_type": "code",
   "execution_count": 27,
   "id": "01716eb1-c450-4009-8d04-04d26ebce7a1",
   "metadata": {},
   "outputs": [
    {
     "name": "stdout",
     "output_type": "stream",
     "text": [
      "in the constructor\n",
      "[]\n",
      "empty!\n",
      "\n",
      "\n",
      "Funny message\n",
      "Angry message\n",
      "\n",
      "Funny message\n"
     ]
    }
   ],
   "source": [
    "# MODIFY SOLUTIONS TO EXERCISE 1\n",
    "# TO GET THESE EXAMPLES TO WORK\n",
    "\n",
    "# create an empty message board\n",
    "board = MessageBoard()\n",
    "print(board)\n",
    "print()\n",
    "# add two messages\n",
    "board.add_message(\"Funny message\")\n",
    "board.add_message(\"Angry message\")\n",
    "# print the content of the message board\n",
    "# (and a newline for readability)\n",
    "print(board)\n",
    "print()\n",
    "# delete the message with the index 1\n",
    "board.delete_message(1)\n",
    "# print the content of the message board\n",
    "print(board)"
   ]
  },
  {
   "cell_type": "markdown",
   "id": "c8334a44-c3fe-4147-a20a-d4a1bc18f468",
   "metadata": {},
   "source": [
    "## Exercise 3\n",
    "\n",
    "Now, let's start implementing our next class - the `User` class. Objects of the `User` class will represent users of our messaging board. They will only be able to do one thing: post a message to a board, which will automatically append their user name. Also, since this is a very simple system, we will make the user names unchangeable - once it is set up in the constructor, we will not implement any getters or setters to modify or access it.\n",
    "\n",
    "So, implement a `User` class with the following:\n",
    "- a **private instance attribute** `name` storing the name of the user\n",
    "- a **initialisation method** `__init__` which creates a new user and sets their name (make sure this is a _string_!)\n",
    "- a **method** `post_message(self, board, message`) which posts the message `message` onto the `MessageBoard` `board`, using the `add_message()` method of the `MessageBoard` class. However, this function should ensure a) to append the user name to the end of the message. E.g. for a user called \"Joe\" and a message \"Hello!\", it should post \"Hello! (Joe)\" b) that `message` is a _string_ and that the `board` is of class `MessageBoard`"
   ]
  },
  {
   "cell_type": "code",
   "execution_count": 4,
   "id": "8461b324-d027-4064-a2c0-7803e0bd3d47",
   "metadata": {},
   "outputs": [],
   "source": [
    "# this class describes a user of a MessageBoard\n",
    "class User:\n",
    "    # Each user must have a name when created\n",
    "    def __init__(self, name):\n",
    "        # Ensure that name is a string\n",
    "        assert(isinstance(name, str))\n",
    "        # Name is a private/protected attribute\n",
    "        self._name = name\n",
    "\n",
    "    # A method to post a message to a message board\n",
    "    def post_message(self, board, message):\n",
    "        # Check if 'board' is indeed a MessageBoard\n",
    "        assert(isinstance(board, MessageBoard))\n",
    "        # Check is 'message' is indeed a string\n",
    "        assert(isinstance(message, str))\n",
    "        # Add the message to the MessageBoard, by calling\n",
    "        # the `add_message()` method; and also append the\n",
    "        # user name at the end of the message in brackets\n",
    "        board.add_message(message + ' (' + self._name + ')')"
   ]
  },
  {
   "cell_type": "markdown",
   "id": "c27633f1-0ae0-4fb2-aeaf-dd1b2d9922ba",
   "metadata": {},
   "source": [
    "**TESTING CELL**"
   ]
  },
  {
   "cell_type": "code",
   "execution_count": 5,
   "id": "03d6cec6-6524-4a24-a899-72fb7d5e106c",
   "metadata": {},
   "outputs": [
    {
     "name": "stdout",
     "output_type": "stream",
     "text": [
      "Funny message!\n",
      "Angry message\n",
      "Very angry message (AngrySquirrel)\n"
     ]
    }
   ],
   "source": [
    "# THIS TESTING CELL RE-USES THE `board` SET\n",
    "# UP IN THE PREVIOUS TESTING CELL\n",
    "\n",
    "# create a new user called AngrySquirrel\n",
    "user_one = User(\"AngrySquirrel\")\n",
    "# have this user post a message \"Very angry message\" to the board\n",
    "user_one.post_message(board, \"Very angry message\")\n",
    "# print the content of the message board\n",
    "print(board)"
   ]
  },
  {
   "cell_type": "markdown",
   "id": "5645a27a-60cc-4b70-be81-ea016eaa9378",
   "metadata": {},
   "source": [
    "## Exercise 4\n",
    "\n",
    "Finally, in this exercise, we will implement the `Moderator` class. `Moderator` is just an advanced type of user and can also post messages -- therefore `Moderator` should simply inherit the `User` class and all it's functionality.\n",
    "\n",
    "However, `Moderator` can also do additional things - they can \"flag messages\". We will implement a simple flagging system, where if a moderator flags a message for the first time, they append \"(FLAGGED by ModUsername) \" to that message (where the ModUsername is simply the `name` of that `User`/`Moderator`). If a moderator flags a message that has already been flagged (i.e. any message beginning with \"(FLAGGED by\", than that message is _deleted from the message board_.\n",
    "\n",
    "However, **note** that for accessing the `name` in the `Moderator` class, we will have to **change the solution to the previous exercise** by **changing this attribute from private to protected** (rename from `__name` to `_name`).\n",
    "\n",
    "So, implement a `Moderator` class by doing the following:\n",
    "- change the solution to the previous exercise to `name` is **protected** but **not private**\n",
    "- implement a `Moderator` class which inherits from `User`\n",
    "- implement a **initialisation method** `__init__` which allows setting up the `Moderator` username, which simply calls the initialisation method of the `User` class (no checks needed, since the `User` class performs them!)\n",
    "- implement a **method** `flag_message` which allows flagging a message by index. The flagging behaviour is described above (in brief: prepend the words \"(FLAGGED by ModUsername) \" if not flagged already; or delete message if it has been already flagged and begins with the text \"(FLAGGED by\")\n",
    "\n",
    "_Note:_ you might want to use the string method [`.startswith()`](https://docs.python.org/3/library/stdtypes.html#text-sequence-type-str) which checks if a string starts with another string. For example `'Have a nice day'.startswith('Have')` returns `True`."
   ]
  },
  {
   "cell_type": "code",
   "execution_count": 6,
   "id": "be760c32-5702-405f-865a-938de13e9df1",
   "metadata": {},
   "outputs": [],
   "source": [
    "class Moderator(User):\n",
    "    def __init__(self, name):\n",
    "        super().__init__(name)\n",
    "\n",
    "    def flag_message(self, board, index):\n",
    "        message = board.get_message(index)\n",
    "        if message.startswith(\"(FLAGGED by\"):\n",
    "            # add the following line to solve Exercise 5 (extension)\n",
    "            if not message.startswith(\"(FLAGGED by \" + self._name + \") \"):\n",
    "                board.delete_message(index)\n",
    "        else:\n",
    "            board.modify_message(index, \"(FLAGGED by \" + self._name + \") \" + message)"
   ]
  },
  {
   "cell_type": "markdown",
   "id": "b208bdcb-ba50-4842-8a5d-0df30cc5e720",
   "metadata": {},
   "source": [
    "**TESTING CELL**"
   ]
  },
  {
   "cell_type": "code",
   "execution_count": 7,
   "id": "1e717b16-cc3c-438a-b0cf-acdd5d73caca",
   "metadata": {},
   "outputs": [
    {
     "name": "stdout",
     "output_type": "stream",
     "text": [
      "Funny message!\n",
      "Angry message\n",
      "Very angry message (AngrySquirrel)\n",
      "Calm message (ReasonablePanda)\n",
      "\n",
      "Funny message!\n",
      "Angry message\n",
      "(FLAGGED by ReasonablePanda) Very angry message (AngrySquirrel)\n",
      "Calm message (ReasonablePanda)\n",
      "\n",
      "Funny message!\n",
      "Angry message\n",
      "Calm message (ReasonablePanda)\n"
     ]
    }
   ],
   "source": [
    "# THIS TESTING CELL CONTINUES THE EXAMPLES\n",
    "# SET UP IN THE PREVIOUS TESTING CELL\n",
    "\n",
    "# add a new Moderator with the username ReasonablePanda\n",
    "user_two = Moderator(\"ReasonablePanda\")\n",
    "# have this new user post a new message \"Calm message\"\n",
    "user_two.post_message(board, \"Calm message\")\n",
    "# print the content of the message board\n",
    "# (and a newline for readability)\n",
    "print(board)\n",
    "print()\n",
    "\n",
    "# have ReasonablePanda flag a message (the \"Very Angry Message\" by \"AngrySquirrel\")\n",
    "user_two.flag_message(board, 2)\n",
    "# print the content of the message board\n",
    "# (and a newline for readability)\n",
    "print(board)\n",
    "print()\n",
    "\n",
    "# add a new Moderator WiseOwl\n",
    "user_three = Moderator(\"WiseOwl\")\n",
    "# have WiseOwl flag the same message\n",
    "user_three.flag_message(board, 2)\n",
    "# print the content of the message board\n",
    "print(board)"
   ]
  },
  {
   "cell_type": "markdown",
   "id": "93e654e2-24c1-456c-9733-f5f7d20b8bfd",
   "metadata": {},
   "source": [
    "## Exercise 5 (extension)\n",
    "\n",
    "Finally, as an additional task, you could try **modifying the Exercise 4 solution** such that the `flag_message` functionality only removes a message if it was flagged by a **different** moderator; ensuring that the same moderator flagging the message twice has no effect."
   ]
  },
  {
   "cell_type": "markdown",
   "id": "dbfc37a9-01cd-46aa-9d8e-cdb3b6ff4b6d",
   "metadata": {},
   "source": [
    "**TESTING CELL**"
   ]
  },
  {
   "cell_type": "code",
   "execution_count": 8,
   "id": "be449b50-3a19-4895-8b4e-85fe68cdbeeb",
   "metadata": {},
   "outputs": [
    {
     "name": "stdout",
     "output_type": "stream",
     "text": [
      "Funny message!\n",
      "(FLAGGED by ReasonablePanda) Angry message\n",
      "Calm message (ReasonablePanda)\n",
      "\n",
      "Funny message!\n",
      "(FLAGGED by ReasonablePanda) Angry message\n",
      "Calm message (ReasonablePanda)\n"
     ]
    }
   ],
   "source": [
    "# ReasonablePanda flags the \"Angry message\"\n",
    "user_two.flag_message(board, 1)\n",
    "# print the content of the message board\n",
    "# (and a newline for readability)\n",
    "# (the message appears flagged)\n",
    "print(board)\n",
    "print()\n",
    "\n",
    "# ReasonablePanda flags the \"Angry message\" again\n",
    "user_two.flag_message(board, 1)\n",
    "# print the content of the message board\n",
    "# (this has no effect)\n",
    "print(board)"
   ]
  }
 ],
 "metadata": {
  "kernelspec": {
   "display_name": "Python 3 (ipykernel)",
   "language": "python",
   "name": "python3"
  },
  "language_info": {
   "codemirror_mode": {
    "name": "ipython",
    "version": 3
   },
   "file_extension": ".py",
   "mimetype": "text/x-python",
   "name": "python",
   "nbconvert_exporter": "python",
   "pygments_lexer": "ipython3",
   "version": "3.12.6"
  }
 },
 "nbformat": 4,
 "nbformat_minor": 5
}
