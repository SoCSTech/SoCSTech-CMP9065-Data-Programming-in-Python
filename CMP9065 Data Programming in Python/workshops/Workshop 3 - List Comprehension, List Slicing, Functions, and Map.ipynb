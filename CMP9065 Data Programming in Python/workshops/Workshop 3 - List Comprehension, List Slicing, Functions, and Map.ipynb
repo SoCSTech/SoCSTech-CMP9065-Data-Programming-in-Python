{
 "cells": [
  {
   "cell_type": "markdown",
   "id": "8fdc0282-e0c7-4399-ae1e-35c8862df679",
   "metadata": {},
   "source": [
    "# Workshop 3 - List Comprehension, List Slicing, Functions, and Map\n",
    "\n",
    "# 332161\n",
    "\n",
    "Welcome to week three! Today we'll be briefly recapping loops and if statements from last week, then looking a little deeper at lists and their usage, particularly list comprehension and list slicing, and then covering functions - including what they are, what they're for, and plenty of usage examples.\n",
    "\n",
    "- [Lists](#Lists)\n",
    "    - [List Comprehension](#List-Comprehension)\n",
    "    - [List Slicing](#List-Slicing)\n",
    "- [Functions](#Functions)\n",
    "- [Map](#Map)"
   ]
  },
  {
   "cell_type": "markdown",
   "id": "abd43683-5a93-479a-b7c9-1f207ff8eb8d",
   "metadata": {},
   "source": [
    "## Lists\n",
    "\n",
    "As discussed in the lecture, there are various methods of interacting with lists that we hadn't covered in previous lectures which are very useful in a wide manner of contexts. Namely list comprehension and list slicing.\n",
    "\n",
    "### List Comprehension\n",
    "\n",
    "At this point, you should be intimately familiar with the for loop syntax:"
   ]
  },
  {
   "cell_type": "code",
   "execution_count": null,
   "id": "7f24c21b-96bf-4022-a570-84ad90e938dc",
   "metadata": {},
   "outputs": [],
   "source": [
    "for x in y:\n",
    "    # do something"
   ]
  },
  {
   "cell_type": "markdown",
   "id": "26695d2a-f33d-4ad6-a12a-20ba2b13b706",
   "metadata": {},
   "source": [
    "Sometimes, however, we will want to construct a new list based on existing data. We *can* just use a loop and append() for this, as shown in the lecture, but this takes quite a few lines of code and doesn't allow us to declare the list within a statement. That's where list comprehension comes in!\n",
    "\n",
    "The code cell below already contains a list *old_vals*.  \n",
    "Using list comprehension, declare a variable *new_vals* that contains the square of the items in *old_vals*."
   ]
  },
  {
   "cell_type": "code",
   "execution_count": null,
   "id": "a343c6dd-a29c-4971-83d8-c8bcdf274bee",
   "metadata": {},
   "outputs": [],
   "source": [
    "# hint: x ** y is equivalent to \"x to the power of y\"\n",
    "old_vals = [1, 2, 3, 4, 5]"
   ]
  },
  {
   "cell_type": "markdown",
   "id": "18301f4a-5243-4fdc-9529-2ef239e2111e",
   "metadata": {},
   "source": [
    "However, this can take quite a few lines of code - as you can see - and this declaration style is not useful when you want to declare a list as part of a statement without having to assign it to a variable.\n",
    "\n",
    "Luckily, we have list comprehension! Let's compare the assignment from the previous code cell with the list comprehension equivalent:"
   ]
  },
  {
   "cell_type": "code",
   "execution_count": null,
   "id": "c5efab9a-1e52-45fa-9da8-7fdd269e3abc",
   "metadata": {},
   "outputs": [],
   "source": [
    "new_vals = [i * 2 for i in old_vals]\n",
    "new_vals"
   ]
  },
  {
   "cell_type": "markdown",
   "id": "876f2ea1-720f-4968-aa46-7491690290a5",
   "metadata": {},
   "source": [
    "As you can see, with list comprehension we can create a list in a single line. One of the main benefits of this is that we can use lists generated using list comprehension in calculations/statements without having to create a variable for the list beforehand.\n",
    "\n",
    "In the code cell below, use the *old_vals* list from the prior cell in the situations outlined by the code comments:  \n",
    "e.g. use list comprehension in a for loop, with an \"in\" statement, with *range()*, and with a condition  \n",
    "hint: these are all covered in the lecture!"
   ]
  },
  {
   "cell_type": "code",
   "execution_count": null,
   "id": "a1107af9-0b75-44dd-9e18-cc89e90ed9d3",
   "metadata": {},
   "outputs": [],
   "source": [
    "# in for loop\n",
    "\n",
    "# in \"in\" statement\n",
    "\n",
    "# use with range()\n",
    "\n",
    "# use with conditional \"in\", check for vowels!\n",
    "sentence = 'the rocket came back from mars'"
   ]
  },
  {
   "cell_type": "markdown",
   "id": "447d688e-629b-481a-a4eb-a6a91407025a",
   "metadata": {},
   "source": [
    "As you can see, list comprehension is extremely versatile. We will go through more examples of this in the following sections.\n",
    "\n",
    "### List Slicing\n",
    "\n",
    "Sometimes you want to select only certain values from a list, we can use list slicing for this:"
   ]
  },
  {
   "cell_type": "code",
   "execution_count": null,
   "id": "fa239f3a-7fe7-4be6-8158-deae32411fd8",
   "metadata": {},
   "outputs": [],
   "source": [
    "# classic list slicing\n",
    "new_vals[1:3]"
   ]
  },
  {
   "cell_type": "markdown",
   "id": "809fd506-f9e6-4668-bade-457819a74fc0",
   "metadata": {},
   "source": [
    "As you can see, the syntax is similar to list indexing, except we can specify two positional values separated by a colon to signify start and end positions. All values between those two positions are returned. The first position is inclusive, the second position is exclusive.\n",
    "\n",
    "The following code cell contains another list declaration.  \n",
    "Using list slicing, create another list containing only the 3 center values:"
   ]
  },
  {
   "cell_type": "code",
   "execution_count": null,
   "id": "28c140e0-1c8f-431c-a200-96f901c8e885",
   "metadata": {},
   "outputs": [],
   "source": [
    "vals = [0, 2, 4, 6, 8]"
   ]
  },
  {
   "cell_type": "markdown",
   "id": "3cfdf10f-fde5-419c-adc8-c1c2577fe9c3",
   "metadata": {},
   "source": [
    "You'll have noticed from the lecture that when we use a negative value for the third option, our output values are reversed. This is called a stride value, and affects how the values are \"counted\".\n",
    "\n",
    "You may also have noticed in the lecture that we don't get all of the values if we use an end position of 0, the last value isn't included! This is because syntactically we can provide no value and Python will know we mean \"from the start\" (if we miss out the start position) or \"to the end\" (if we miss out the end position).\n",
    "\n",
    "Using list slicing with a negative stride value on the list from the last code cell, create a new list with the values [8, 4, 0]:"
   ]
  },
  {
   "cell_type": "code",
   "execution_count": null,
   "id": "286789e0-aef1-4b6d-8e08-f8aa75c54fe6",
   "metadata": {},
   "outputs": [],
   "source": [
    "# remember, the third slice parameter dictates how the values are traversed"
   ]
  },
  {
   "cell_type": "markdown",
   "id": "b7725c5a-86c0-4905-8dab-57d4333c0b00",
   "metadata": {},
   "source": [
    "List slicing can be very practical. For example, let's say you have a dataset with 10,000 samples but you only want to work a subset of 100 while you develop your code, list slicing makes that very easy!"
   ]
  },
  {
   "cell_type": "markdown",
   "id": "ac79e737-4483-4210-ba53-3d978294b96e",
   "metadata": {},
   "source": [
    "## Functions\n",
    "\n",
    "Quite often in programming, you will be writing a block of code that you know you will want to re-use many times throughout your project. Whenever you have a block of code like this - that you are likely to need to use elsewhere again - it makes sense to write that code in a function.\n",
    "\n",
    "A function, like a variable, is a declarative statement. With a variable, we are assigning a symbolic name to a value. With a function, we are assigning a symbolic name to a block of code; when the functions symbolic name is called, the associated code will be ran.\n",
    "\n",
    "In the following code cell, declare a function *add_vals* which takes two integers as arguments and prints their sum:  \n",
    "Hint: be sure to call the variable after to see your results!"
   ]
  },
  {
   "cell_type": "code",
   "execution_count": null,
   "id": "307fa78b-1f39-4ce0-8b76-f3eb8bec2875",
   "metadata": {},
   "outputs": [],
   "source": [
    "# declare a simple addition function\n",
    "\n",
    "# call the function"
   ]
  },
  {
   "cell_type": "markdown",
   "id": "a20964f0-1e18-486e-bb13-ae45cdd51b82",
   "metadata": {},
   "source": [
    "We don't have to restrict the passed arguments to integers, we can use collections too!\n",
    "\n",
    "In the following code cell, declare a list of random integer values (choose these yourself). Declare a function *add_vals* which takes a list (the one you just created) and returns the average of all of the values:  \n",
    "Hint: you should return the value, not print it - be sure to call the function after."
   ]
  },
  {
   "cell_type": "code",
   "execution_count": null,
   "id": "607099d8-fd34-4779-a309-2b5f4d121b59",
   "metadata": {},
   "outputs": [],
   "source": [
    "# declare your list\n",
    "\n",
    "# declare a function that takes a list and returns the average\n",
    "\n",
    "# call the function"
   ]
  },
  {
   "cell_type": "markdown",
   "id": "795edfa8-bd6d-4b45-9605-ac33523c9bf7",
   "metadata": {},
   "source": [
    "Functions can also call other functions, and even call themselves. More on that when we cover recursion in a later lecture."
   ]
  },
  {
   "cell_type": "markdown",
   "id": "54f2ea55-e386-42be-884a-d596b545de72",
   "metadata": {},
   "source": [
    "## Map\n",
    "\n",
    "Sometimes you will want to run a block of code for every value in a collection.\n",
    "\n",
    "Let's say we have two simple collections:"
   ]
  },
  {
   "cell_type": "code",
   "execution_count": null,
   "id": "8e19b343-72d0-46e2-b975-2b7b2828eb79",
   "metadata": {},
   "outputs": [],
   "source": [
    "some_vals = [i for i in range(5)]\n",
    "more_vals = [i * 2 for i in range(5)]"
   ]
  },
  {
   "cell_type": "markdown",
   "id": "7abfe228-266a-4e2c-8047-733d25792238",
   "metadata": {},
   "source": [
    "And for every value in these collection, we want to run a simple division process, dividing the first value by the first value, the second value by the second value, and so on.\n",
    "\n",
    "Declare a function that takes two integers and provides the result of dividing the first by the second.  \n",
    "After this, using the map function, create a map object that contains the results of running that function on every pair of values in the two lists created in the prior code cell:"
   ]
  },
  {
   "cell_type": "code",
   "execution_count": null,
   "id": "6d09d6d5-18e3-4a4f-bdd6-6c5dbdaa7b45",
   "metadata": {},
   "outputs": [],
   "source": [
    "# declare a division function\n",
    "\n",
    "# use the map function on both lists"
   ]
  },
  {
   "cell_type": "markdown",
   "id": "8469fb46-c944-4104-b587-9cce962c0aec",
   "metadata": {},
   "source": [
    "Great, but this gives us a map object as a result. How can we access the values?\n",
    "\n",
    "You may remember using int(), float(), and str() to explicitly convert values. We can do this with list too.  \n",
    "In the code cell below, grab our final results by converting the map object from the last code cell into a list:"
   ]
  },
  {
   "cell_type": "code",
   "execution_count": null,
   "id": "34f0f976-2adf-4331-a456-bd187c9e6da5",
   "metadata": {},
   "outputs": [],
   "source": [
    "# convert the map object to a list"
   ]
  },
  {
   "cell_type": "markdown",
   "id": "539af24b",
   "metadata": {},
   "source": [
    "\n",
    "**Task 1:** Imagine you're working for an e-commerce company. You need to process a list of customer orders to:\n",
    "1. Calculate discounts based on order values\n",
    "2. Format order summaries for email notifications"
   ]
  },
  {
   "cell_type": "code",
   "execution_count": null,
   "id": "e83481ca",
   "metadata": {},
   "outputs": [],
   "source": [
    "# Example order data: each tuple contains (order_id, amount, customer_tier)\n",
    "orders = [\n",
    "    (1001, 150.00, 'bronze'),\n",
    "    (1002, 450.75, 'silver'),\n",
    "    (1003, 899.99, 'gold'),\n",
    "    (1004, 75.50, 'bronze'),\n",
    "    (1005, 1200.00, 'gold')\n",
    "]\n",
    "\n",
    "def calculate_discount(order):\n",
    "    \"\"\"\n",
    "    Calculate discount based on customer tier and order amount:\n",
    "    - bronze: 5% for orders over $100\n",
    "    - silver: 10% for orders over $200\n",
    "    - gold: 15% for orders over $300\n",
    "    \"\"\"\n",
    "    order_id, amount, tier = order\n",
    "    \n",
    "    if tier == 'bronze' and amount > 100:\n",
    "        discount = 0.05\n",
    "    elif tier == 'silver' and amount > 200:\n",
    "        discount = 0.10\n",
    "    elif tier == 'gold' and amount > 300:\n",
    "        discount = 0.15\n",
    "    else:\n",
    "        discount = 0\n",
    "        \n",
    "    return (order_id, amount, amount * discount)\n",
    "\n",
    "# Task 1a: Use map() to calculate discounts for all orders\n",
    "# Your code here\n",
    "\n",
    "# Task 1b: Use list comprehension to create summaries for orders with discounts > $0\n",
    "# Your code here"
   ]
  },
  {
   "cell_type": "markdown",
   "id": "97f4bc9f",
   "metadata": {},
   "source": [
    "**Task 2:** You're working with weather station data and need to process temperature readings to identify unusual patterns."
   ]
  },
  {
   "cell_type": "code",
   "execution_count": null,
   "id": "04117fa4",
   "metadata": {},
   "outputs": [],
   "source": [
    "# Sample temperature data: hourly readings for a week (168 hours)\n",
    "import random\n",
    "temp_readings = [random.uniform(15.0, 30.0) for _ in range(168)]\n",
    "\n",
    "def detect_temperature_anomaly(temperatures, window_size=24):\n",
    "    \"\"\"\n",
    "    Analyze a window of temperature readings and detect if the current temperature\n",
    "    is significantly different from the window average\n",
    "    Returns: (original_temp, is_anomaly, difference_from_average)\n",
    "    \"\"\"\n",
    "    if len(temperatures) < window_size:\n",
    "        return (temperatures[-1], False, 0)\n",
    "        \n",
    "    window = temperatures[-window_size:]\n",
    "    current_temp = window[-1]\n",
    "    window_avg = sum(window[:-1]) / (window_size - 1)\n",
    "    \n",
    "    # Consider it an anomaly if temp is 5 degrees above/below average\n",
    "    is_anomaly = abs(current_temp - window_avg) > 5\n",
    "    \n",
    "    return (current_temp, is_anomaly, current_temp - window_avg)\n",
    "\n",
    "# Task 2a: Use list slicing to create 24-hour windows of data\n",
    "# Then use map() to detect anomalies in each window\n",
    "# Your code here\n",
    "\n",
    "\n",
    "# Task 2b: Use list comprehension to create reports for anomalies only\n",
    "# Your code here"
   ]
  }
 ],
 "metadata": {
  "kernelspec": {
   "display_name": "Python 3 (ipykernel)",
   "language": "python",
   "name": "python3"
  },
  "language_info": {
   "codemirror_mode": {
    "name": "ipython",
    "version": 3
   },
   "file_extension": ".py",
   "mimetype": "text/x-python",
   "name": "python",
   "nbconvert_exporter": "python",
   "pygments_lexer": "ipython3",
   "version": "3.8.10"
  }
 },
 "nbformat": 4,
 "nbformat_minor": 5
}
