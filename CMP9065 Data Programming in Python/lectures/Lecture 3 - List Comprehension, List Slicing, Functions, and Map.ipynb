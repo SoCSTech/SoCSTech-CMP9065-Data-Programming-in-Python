{
 "cells": [
  {
   "cell_type": "markdown",
   "id": "8fdc0282-e0c7-4399-ae1e-35c8862df679",
   "metadata": {},
   "source": [
    "# Lecture 3 - List Comprehension, List Slicing, Functions, and Map\n",
    "\n",
    "Welcome to week three! Today we'll be briefly recapping loops and if statements from last week, then looking a little deeper at lists and their usage, particularly list comprehension and list slicing, and then covering functions - including what they are, what they're for, and plenty of usage examples.\n",
    "\n",
    "- [Recap](#Recap)\n",
    "- [Lists](#Lists)\n",
    "    - [List Comprehension](#List-Comprehension)\n",
    "    - [List Slicing](#List-Slicing)\n",
    "- [Functions](#Functions)\n",
    "- [Map](#Map)"
   ]
  },
  {
   "cell_type": "markdown",
   "id": "8832cbbd-139b-44c9-9260-eae1f443591e",
   "metadata": {},
   "source": [
    "## Recap\n",
    "Last week, we covered for loops and while loops, as well as if statements (if, elif, and else).\n",
    "\n",
    "Let's quickly recap those - can you predict the outputs of these code cells?"
   ]
  },
  {
   "cell_type": "code",
   "execution_count": null,
   "id": "cefc922e-e01a-49a0-a427-d64d21d6a90e",
   "metadata": {},
   "outputs": [],
   "source": [
    "vals = [1, 2, 3, 4, 5, 6]"
   ]
  },
  {
   "cell_type": "code",
   "execution_count": null,
   "id": "ffd320db-f84f-448c-9a6a-78fb97da779d",
   "metadata": {},
   "outputs": [],
   "source": [
    "for val in vals:\n",
    "    print(val)"
   ]
  },
  {
   "cell_type": "code",
   "execution_count": null,
   "id": "da7c5cb3-c14d-440c-a346-534f366423fe",
   "metadata": {},
   "outputs": [],
   "source": [
    "for val in vals:\n",
    "    print(val ** 2)"
   ]
  },
  {
   "cell_type": "code",
   "execution_count": null,
   "id": "32e1db73-6e1b-427a-bd9b-bfe71c5680cd",
   "metadata": {},
   "outputs": [],
   "source": [
    "for val in vals:\n",
    "    if val % 2 == 0:\n",
    "        print(val)"
   ]
  },
  {
   "cell_type": "code",
   "execution_count": null,
   "id": "177b7f5e-e559-45bb-8528-d4feb01490ce",
   "metadata": {},
   "outputs": [],
   "source": [
    "for val in vals:\n",
    "    if val % 2 == 0:\n",
    "        print(val * 2)\n",
    "    else:\n",
    "        print(val / 2)"
   ]
  },
  {
   "cell_type": "code",
   "execution_count": null,
   "id": "ab815f23-19f1-4c60-8658-a37f803745dc",
   "metadata": {},
   "outputs": [],
   "source": [
    "for val in vals:\n",
    "    if val % 2:\n",
    "        print(val)"
   ]
  },
  {
   "cell_type": "markdown",
   "id": "abd43683-5a93-479a-b7c9-1f207ff8eb8d",
   "metadata": {},
   "source": [
    "## Lists\n",
    "\n",
    "We've already discussed lists in a previous lecture, alongside the other collection data types in Python and the three parameters of categorising them, but there are various methods of interacting with lists that we haven't covered yet which are very useful in a wide manner of contexts. Namely, we'll be looking at list comprehension and list slicing.\n",
    "\n",
    "### List Comprehension\n",
    "\n",
    "At this point, you should be intimately familiar with the for loop syntax:"
   ]
  },
  {
   "cell_type": "code",
   "execution_count": null,
   "id": "7f24c21b-96bf-4022-a570-84ad90e938dc",
   "metadata": {},
   "outputs": [],
   "source": [
    "for x in y:\n",
    "    # do something"
   ]
  },
  {
   "cell_type": "markdown",
   "id": "26695d2a-f33d-4ad6-a12a-20ba2b13b706",
   "metadata": {},
   "source": [
    "Sometimes, however, we will want to construct a new list based on existing data. We *can* just use a loop and append() for this, like so:"
   ]
  },
  {
   "cell_type": "code",
   "execution_count": null,
   "id": "a343c6dd-a29c-4971-83d8-c8bcdf274bee",
   "metadata": {},
   "outputs": [],
   "source": [
    "old_vals = [1, 2, 3, 4, 5]\n",
    "\n",
    "new_vals = []\n",
    "for i in old_vals:\n",
    "    new_vals.append(i * 2)\n",
    "\n",
    "new_vals"
   ]
  },
  {
   "cell_type": "markdown",
   "id": "18301f4a-5243-4fdc-9529-2ef239e2111e",
   "metadata": {},
   "source": [
    "However, this can take quite a few lines of code - as you can see - and this declaration style is not useful when you want to declare a list as part of a statement without having to assign it to a variable.\n",
    "\n",
    "Luckily, we have list comprehension! Let's compare the assignment from the previous code cell with the list comprehension equivalent:"
   ]
  },
  {
   "cell_type": "code",
   "execution_count": null,
   "id": "c5efab9a-1e52-45fa-9da8-7fdd269e3abc",
   "metadata": {},
   "outputs": [],
   "source": [
    "new_vals = [i * 2 for i in old_vals]\n",
    "new_vals"
   ]
  },
  {
   "cell_type": "markdown",
   "id": "876f2ea1-720f-4968-aa46-7491690290a5",
   "metadata": {},
   "source": [
    "As you can see, with list comprehension we can create a list in a single line. One of the main benefits of this is that we can use lists generated using list comprehension in calculations/statements without having to create a variable for the list beforehand:"
   ]
  },
  {
   "cell_type": "code",
   "execution_count": null,
   "id": "a1107af9-0b75-44dd-9e18-cc89e90ed9d3",
   "metadata": {},
   "outputs": [],
   "source": [
    "# in for loop\n",
    "for i in [i * 2 for i in old_vals]:\n",
    "    print(i)\n",
    "\n",
    "# in \"in\" statement\n",
    "5 in [i * 3 for i in old_vals]\n",
    "\n",
    "# use with range()\n",
    "[i for i in range(10)]\n",
    "\n",
    "# use with conditional \"in\", check for vowels!\n",
    "sentence = 'the rocket came back from mars'\n",
    "[i for i in sentence if i in 'aeiou']"
   ]
  },
  {
   "cell_type": "markdown",
   "id": "447d688e-629b-481a-a4eb-a6a91407025a",
   "metadata": {},
   "source": [
    "As you can see, list comprehension is extremely versatile. We will go through more examples of this in the following sections.\n",
    "\n",
    "### List Slicing\n",
    "\n",
    "Sometimes you want to select only certain values from a list, we can use list slicing for this:"
   ]
  },
  {
   "cell_type": "code",
   "execution_count": null,
   "id": "fa239f3a-7fe7-4be6-8158-deae32411fd8",
   "metadata": {},
   "outputs": [],
   "source": [
    "# classic list slicing\n",
    "new_vals[1:3]"
   ]
  },
  {
   "cell_type": "markdown",
   "id": "809fd506-f9e6-4668-bade-457819a74fc0",
   "metadata": {},
   "source": [
    "As you can see, the syntax is similar to list indexing, except we can specify two positional values separated by a colon to signify start and end positions. All values between those two positions are returned. The first position is inclusive, the second position is exclusive.\n",
    "\n",
    "We can also use a third value too:"
   ]
  },
  {
   "cell_type": "code",
   "execution_count": null,
   "id": "28c140e0-1c8f-431c-a200-96f901c8e885",
   "metadata": {},
   "outputs": [],
   "source": [
    "new_vals[6::-1]"
   ]
  },
  {
   "cell_type": "markdown",
   "id": "3cfdf10f-fde5-419c-adc8-c1c2577fe9c3",
   "metadata": {},
   "source": [
    "You'll notice that when we use a negative value for the third option, our output values are reversed. This is called a stride value, and affects how the values are \"counted\".\n",
    "\n",
    "You may notice that we don't get all of the values if we use an end position of 0, the last value isn't included! This is because syntactically we can provide no value and Python will know we mean \"from the start\" (if we miss out the start position) or \"to the end\" (if we miss out the end position):"
   ]
  },
  {
   "cell_type": "code",
   "execution_count": null,
   "id": "286789e0-aef1-4b6d-8e08-f8aa75c54fe6",
   "metadata": {},
   "outputs": [],
   "source": [
    "# missing first pos\n",
    "new_vals[:0:-1]\n",
    "\n",
    "# missing second pos\n",
    "new_vals[2::-1]\n",
    "\n",
    "# missing both pos\n",
    "new_vals[::-1]"
   ]
  },
  {
   "cell_type": "markdown",
   "id": "b7725c5a-86c0-4905-8dab-57d4333c0b00",
   "metadata": {},
   "source": [
    "List slicing can be very practical. For example, let's say you have a dataset with 10,000 samples but you only want to work a subset of 100 while you develop your code, list slicing makes that very easy!"
   ]
  },
  {
   "cell_type": "markdown",
   "id": "ac79e737-4483-4210-ba53-3d978294b96e",
   "metadata": {},
   "source": [
    "## Functions\n",
    "\n",
    "Quite often in programming, you will be writing a block of code that you know you will want to re-use many times throughout your project. Whenever you have a block of code like this - that you are likely to need to use elsewhere again - it makes sense to write that code in a function.\n",
    "\n",
    "A function, like a variable, is a declarative statement. With a variable, we are assigning a symbolic name to a value. With a function, we are assigning a symbolic name to a block of code; when the functions symbolic name is called, the associated code will be ran.\n",
    "\n",
    "We can declare a function using the def syntax. Let's make a simple function to print a sum, like so:"
   ]
  },
  {
   "cell_type": "code",
   "execution_count": null,
   "id": "307fa78b-1f39-4ce0-8b76-f3eb8bec2875",
   "metadata": {},
   "outputs": [],
   "source": [
    "# declare a simple addition function\n",
    "def add_vals():\n",
    "    print(1 + 2)\n",
    "\n",
    "# call it\n",
    "add_vals()"
   ]
  },
  {
   "cell_type": "markdown",
   "id": "a20964f0-1e18-486e-bb13-ae45cdd51b82",
   "metadata": {},
   "source": [
    "As you can see, it's quite simple to create a simple addition function. What if, however, we want to be able to provide the two values that're being summed? For that, we must specify expected arguments.\n",
    "\n",
    "You may have noticed the brackets following the function declaration, within these brackets we can specify required values that can then be used as part of the function, like so:"
   ]
  },
  {
   "cell_type": "code",
   "execution_count": null,
   "id": "607099d8-fd34-4779-a309-2b5f4d121b59",
   "metadata": {},
   "outputs": [],
   "source": [
    "# declare a simple addition function that takes 2 arguments\n",
    "def add_vals(x, y):\n",
    "    print(x + y)\n",
    "\n",
    "# call it\n",
    "add_vals(3, 5)"
   ]
  },
  {
   "cell_type": "markdown",
   "id": "97c8efe6-ece7-4066-8728-c79b6d708f40",
   "metadata": {},
   "source": [
    "Just like that! These examples are using a print statement within the function, which works fine if we just want to print the resulting value, but doesn't work at all if we want to use the produced value in further code (perhaps in more computations).\n",
    "\n",
    "If we want a function to pass back its result, we need to use the *return* keyword."
   ]
  },
  {
   "cell_type": "code",
   "execution_count": null,
   "id": "c406005b-5ce3-45f4-b19f-6b127390cd0d",
   "metadata": {},
   "outputs": [],
   "source": [
    "# declare a simple addition function that takes 2 arguments and returns the result\n",
    "def add_vals(x, y):\n",
    "    return x + y\n",
    "\n",
    "# we can now use this function in calculations\n",
    "add_vals(3, 5) * 3\n",
    "\n",
    "# or even assign the result to variables!\n",
    "result = add_vals(3, 5)\n",
    "result"
   ]
  },
  {
   "cell_type": "markdown",
   "id": "795edfa8-bd6d-4b45-9605-ac33523c9bf7",
   "metadata": {},
   "source": [
    "Functions can also call other functions, and even call themselves. More on that when we cover recursion in a later lecture."
   ]
  },
  {
   "cell_type": "markdown",
   "id": "54f2ea55-e386-42be-884a-d596b545de72",
   "metadata": {},
   "source": [
    "## Map\n",
    "\n",
    "Sometimes you will want to run a block of code for every value in a collection.\n",
    "\n",
    "Let's say we have two simple collections:"
   ]
  },
  {
   "cell_type": "code",
   "execution_count": null,
   "id": "8e19b343-72d0-46e2-b975-2b7b2828eb79",
   "metadata": {},
   "outputs": [],
   "source": [
    "some_vals = [i for i in range(5)]\n",
    "more_vals = [i * 2 for i in range(5)]"
   ]
  },
  {
   "cell_type": "markdown",
   "id": "7abfe228-266a-4e2c-8047-733d25792238",
   "metadata": {},
   "source": [
    "And for every value in these collection, we want to run a simple addition process, adding the first value to the first value, the second value to the second value, and so on.\n",
    "\n",
    "We could do something with while loops:"
   ]
  },
  {
   "cell_type": "code",
   "execution_count": null,
   "id": "6d09d6d5-18e3-4a4f-bdd6-6c5dbdaa7b45",
   "metadata": {},
   "outputs": [],
   "source": [
    "# counter variable\n",
    "i = 0\n",
    "\n",
    "# empty list\n",
    "new_vals = []\n",
    "\n",
    "# while loop append\n",
    "while i < 5:\n",
    "    new_vals.append(some_vals[i] + more_vals[i])\n",
    "    i += 1\n",
    "\n",
    "new_vals"
   ]
  },
  {
   "cell_type": "markdown",
   "id": "3c64700f-9a6c-4176-b245-f4c8e0007bec",
   "metadata": {},
   "source": [
    "This works just fine, but say we want to do this multiple times throughout our code - we'd have to write this loop and declare the required variables every single time!\n",
    "\n",
    "Instead, we can write a function that does the process, and then use map:"
   ]
  },
  {
   "cell_type": "code",
   "execution_count": null,
   "id": "51110b50-f8a7-42fe-ac9a-8efb1edd8c09",
   "metadata": {},
   "outputs": [],
   "source": [
    "# define addition function\n",
    "def sum_vals(x, y):\n",
    "    return x + y\n",
    "\n",
    "# call map (pass the function and then each input) - assign to variable\n",
    "result = map(sum_vals, some_vals, more_vals)\n"
   ]
  },
  {
   "cell_type": "markdown",
   "id": "8469fb46-c944-4104-b587-9cce962c0aec",
   "metadata": {},
   "source": [
    "Great, but this gives us a map object as a result. How can we access the values?\n",
    "\n",
    "You may remember using int(), float(), and str() to explicitly convert values. We can do this with list too:"
   ]
  },
  {
   "cell_type": "code",
   "execution_count": null,
   "id": "34f0f976-2adf-4331-a456-bd187c9e6da5",
   "metadata": {},
   "outputs": [],
   "source": [
    "list(result)"
   ]
  }
 ],
 "metadata": {
  "kernelspec": {
   "display_name": "Python 3 (ipykernel)",
   "language": "python",
   "name": "python3"
  },
  "language_info": {
   "codemirror_mode": {
    "name": "ipython",
    "version": 3
   },
   "file_extension": ".py",
   "mimetype": "text/x-python",
   "name": "python",
   "nbconvert_exporter": "python",
   "pygments_lexer": "ipython3",
   "version": "3.11.3"
  }
 },
 "nbformat": 4,
 "nbformat_minor": 5
}
