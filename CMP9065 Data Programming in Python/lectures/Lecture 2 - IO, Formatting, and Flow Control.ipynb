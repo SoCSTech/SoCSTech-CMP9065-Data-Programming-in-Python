{
 "cells": [
  {
   "cell_type": "markdown",
   "id": "8fdc0282-e0c7-4399-ae1e-35c8862df679",
   "metadata": {},
   "source": [
    "# Lecture 2 - I/O, Formatting, and Flow Control\n",
    "\n",
    "Welcome to week two! Today we'll be looking at I/O, Formatting, and Flow Control - including what they are, what they're used for, and plenty of practical examples of their use.\n",
    "\n",
    "- [I/O](#I/O)\n",
    "    - [Reading Inputs](#Reading-Inputs)\n",
    "    - [File Objects](#File-Objects)\n",
    "    - [Useful Methods](#Useful-Methods)\n",
    "- [Formatting & Flow Control](#Formatting-&-Flow-Control)\n",
    "    - [Formatting](#Formatting)\n",
    "    - [Loops](#Loops)\n",
    "    - [Statements](#Statements)"
   ]
  },
  {
   "cell_type": "markdown",
   "id": "8832cbbd-139b-44c9-9260-eae1f443591e",
   "metadata": {},
   "source": [
    "## I/O\n",
    "I/O - shorthand for ***Input/Output*** - refers to the action of taking inputs or producing outputs in Python.\n",
    "\n",
    "In terms of inputs, I/O covers implementations as simple as having a user select an option or provide some input text, to as complex as providing multiple different files (e.g. spreadsheets, images, videos, etc). In terms of outputs, I/O covers implementations as simple as providing a boolean result for a given statement, to providing complex graphical or file outputs.\n",
    "\n",
    "We will be walking through reading a variety of different types of input, providing various types of outputs, and showing off a handful of useful methods for working with I/O in your own code."
   ]
  },
  {
   "cell_type": "markdown",
   "id": "abd43683-5a93-479a-b7c9-1f207ff8eb8d",
   "metadata": {},
   "source": [
    "## Reading Inputs\n",
    "\n",
    "One of the most simple ways we can read user input in Python is using the input() function.\n",
    "                          \n",
    "Let's look at some examples of using that:"
   ]
  },
  {
   "cell_type": "code",
   "execution_count": null,
   "id": "7f24c21b-96bf-4022-a570-84ad90e938dc",
   "metadata": {},
   "outputs": [],
   "source": [
    "# input()\n",
    "input('What is your name?')\n",
    "\n",
    "# assigning input()\n",
    "name = input('What is your name?')\n",
    "type(name)"
   ]
  },
  {
   "cell_type": "markdown",
   "id": "26695d2a-f33d-4ad6-a12a-20ba2b13b706",
   "metadata": {},
   "source": [
    "As you can see, the built-in Python function input() takes a string argument which is displayed to the user, and awaits a text response. When a text response is submitted with the enter/return key, the given response can be viewed or used in the program (e.g. assigning to a variable).\n",
    "\n",
    "It's important to note that the input() function processed the given response as a string, regardless of what the given input was. Let's take a look at an example of that and what repercussions that quirk entails:"
   ]
  },
  {
   "cell_type": "code",
   "execution_count": null,
   "id": "a343c6dd-a29c-4971-83d8-c8bcdf274bee",
   "metadata": {},
   "outputs": [],
   "source": [
    "input_value = input('What is your input value?')\n",
    "\n",
    "# type()\n",
    "type(input_value)\n",
    "\n",
    "# problems\n",
    "# input_value = input_value + 1 # this is equivalent to input_value += 1\n",
    "\n",
    "# conversion\n",
    "input_value = float(input_value) + 1\n",
    "print(input_value, type(input_value))"
   ]
  },
  {
   "cell_type": "markdown",
   "id": "18301f4a-5243-4fdc-9529-2ef239e2111e",
   "metadata": {},
   "source": [
    "We introduce a few new concepts here. Firstly, the in-built Python function type() prints, as the name suggests, the type of the given variable - we use type() here to show that the result of reading user input with input() is always, by default, a string. We also demonstrate simple type conversion using int(), float() and str() and how this can be useful. This is an example of ***explicit type conversion*** - there is also ***implicit type conversion*** which is when type conversion happens naturally as part of an existing process. You can also think of this as ***manual type conversion*** and ***automatic type conversion***. Let's have a look at a simple example:"
   ]
  },
  {
   "cell_type": "code",
   "execution_count": null,
   "id": "c5efab9a-1e52-45fa-9da8-7fdd269e3abc",
   "metadata": {},
   "outputs": [],
   "source": [
    "num_int = 581\n",
    "num_float = 213.23458\n",
    "\n",
    "num_result = num_int + num_float\n",
    "type(num_result)"
   ]
  },
  {
   "cell_type": "markdown",
   "id": "876f2ea1-720f-4968-aa46-7491690290a5",
   "metadata": {},
   "source": [
    "There we go. Type conversion is very useful and is often necessary to implement certain processes effectively.\n",
    "\n",
    "The above was an example of taking a simple text user input, but what if we want to take a file (or files) as an input?"
   ]
  },
  {
   "cell_type": "markdown",
   "id": "ac79e737-4483-4210-ba53-3d978294b96e",
   "metadata": {},
   "source": [
    "### File Objects\n",
    "\n",
    "***File objects*** are objects (don't worry about what those are, we'll get to it!) that represent a local file - this could be a text file, an excel file, or almost any other type of file. These file objects have several built-in methods for interacting with the file they represent.\n",
    "\n",
    "Let's look at how to create and interact with a file object:"
   ]
  },
  {
   "cell_type": "code",
   "execution_count": null,
   "id": "307fa78b-1f39-4ce0-8b76-f3eb8bec2875",
   "metadata": {},
   "outputs": [],
   "source": [
    "# create a file object, modes are \"rawx\"\n",
    "# r - read\n",
    "file_obj = open('greetings.txt', 'r')\n",
    "print(file_obj.read())\n",
    "file_obj.close()\n",
    "\n",
    "# a - append\n",
    "file_obj = open('greetings.txt', 'a')\n",
    "file_obj.write('new greeting')\n",
    "file_obj.close()\n",
    "\n",
    "# w - write\n",
    "file_obj = open('newfile.txt', 'w')\n",
    "file_obj.write('new text')\n",
    "file_obj.close()\n",
    "\n",
    "# x - eXclusive write\n",
    "file_obj = open('newfile2.txt', 'x')\n",
    "file_obj.write('new text')\n",
    "file_obj.close()"
   ]
  },
  {
   "cell_type": "markdown",
   "id": "a20964f0-1e18-486e-bb13-ae45cdd51b82",
   "metadata": {},
   "source": [
    "As you can see, it's quite simple to either create or open a file and read or write to it, and there are four modes available for your convenience.\n",
    "\n",
    "There are a few other methods we can use to interact with file objects, let's look at those:"
   ]
  },
  {
   "cell_type": "code",
   "execution_count": null,
   "id": "607099d8-fd34-4779-a309-2b5f4d121b59",
   "metadata": {},
   "outputs": [],
   "source": [
    "# read vs. readline\n",
    "file_obj = open('greetings.txt', 'r')\n",
    "print(file_obj.read())\n",
    "print(file_obj.readline())\n",
    "\n",
    "# mode check\n",
    "file_obj.mode\n",
    "\n",
    "# name check\n",
    "file_obj.name\n",
    "\n",
    "file_obj.close()"
   ]
  },
  {
   "cell_type": "markdown",
   "id": "97c8efe6-ece7-4066-8728-c79b6d708f40",
   "metadata": {},
   "source": [
    "One last thing on file objects; ***it is generally considered best practice to interact with file objects using the with keyword***, as this automatically closes the file (you don't need to remember to call .close()). Interacting with a file object using \"with\" looks like this:"
   ]
  },
  {
   "cell_type": "code",
   "execution_count": null,
   "id": "c406005b-5ce3-45f4-b19f-6b127390cd0d",
   "metadata": {},
   "outputs": [],
   "source": [
    "# demonstrating best practice using the with/as keyword pairing\n",
    "with open('greetings.txt', 'r') as file_obj:\n",
    "    print(file_obj.read())"
   ]
  },
  {
   "cell_type": "markdown",
   "id": "795edfa8-bd6d-4b45-9605-ac33523c9bf7",
   "metadata": {},
   "source": [
    "Also notice that in the above code cell, we used a for loop! More on that shortly."
   ]
  },
  {
   "cell_type": "markdown",
   "id": "54f2ea55-e386-42be-884a-d596b545de72",
   "metadata": {},
   "source": [
    "# Formatting & Flow Control\n",
    "\n",
    "## Formatting\n",
    "Sometimes (in fact, quite often) we want to control how data is displayed when we output it.\n",
    "\n",
    "Let's say we want to use print() to show a simple x + y sum:"
   ]
  },
  {
   "cell_type": "code",
   "execution_count": null,
   "id": "8e19b343-72d0-46e2-b975-2b7b2828eb79",
   "metadata": {},
   "outputs": [],
   "source": [
    "x = 3\n",
    "y = 5\n",
    "\n",
    "# x + y just shows the result\n",
    "x + y\n",
    "\n",
    "# let's try show the whole sum - oops!\n",
    "print(x + '+' + y)\n",
    "\n",
    "# we could just use commas, but requires a space between all values\n",
    "print(x, '+', y)\n",
    "print(x, '+', y, '=', 8)\n",
    "print('(', x, '+', y, ') =', 8) # spaces in places we don't want them, bad!\n",
    "print('{} + {}'.format(x, y))\n",
    "print('{} + {} = {}'.format(x, y, x + y))\n",
    "\n",
    "# .format() is a property of strings not the print command, can use it for any string declaration!\n",
    "sum_string = '{} + {} = {}'.format(x, y, x + y)"
   ]
  },
  {
   "cell_type": "markdown",
   "id": "b9e83ab8-85b3-4f2a-a956-ed1536923c98",
   "metadata": {},
   "source": [
    "## Loops\n",
    "\n",
    "Quite often, we will want to ***perform a certain task iteratively***. We could, of course, just type out the task as many times as we want it to execute, but that's ***very inefficient***, ***harms readability***, and ***cannot account for changed inputs*** (we would have to re-write the code dependent on the size of the input). That's where loops come in!\n",
    "\n",
    "There are ***two primary loop types*** - ***for loops*** and ***while loops*** - so let's take a look at those:"
   ]
  },
  {
   "cell_type": "code",
   "execution_count": 12,
   "id": "8d8db9a6-3a10-4661-99b3-5ccfeaeb6205",
   "metadata": {},
   "outputs": [
    {
     "name": "stdout",
     "output_type": "stream",
     "text": [
      "1\n",
      "2\n",
      "3\n",
      "4\n",
      "5\n",
      "1\n",
      "2\n",
      "3\n",
      "4\n",
      "5\n",
      "apple\n",
      "banana\n",
      "watermelon\n",
      "0.4\n",
      "0.35\n",
      "2.0\n",
      "apple\n",
      "banana\n",
      "watermelon\n",
      "milk\n",
      "cream\n",
      "butter\n",
      "salut\n",
      "\n",
      "hola\n",
      "\n",
      "privet\n",
      "\n",
      "ni hao\n",
      "\n",
      "ciao\n",
      "\n",
      "hallo\n",
      "\n",
      "oi\n",
      "\n",
      "hej\n",
      "\n",
      "czesc\n",
      "\n",
      "selam\n",
      "\n",
      "heimerhaba\n",
      "\n",
      "namaste\n",
      "\n",
      "new greeting\n"
     ]
    }
   ],
   "source": [
    "# create a collection (in this case, list)\n",
    "vals = [1, 2, 3, 4, 5]\n",
    "\n",
    "# loop through the collection (val can be any word, it's just a reference like a variable name)\n",
    "for val in vals:\n",
    "    print(val)\n",
    "\n",
    "# this works for a variety of different data types\n",
    "val_str = '12345'\n",
    "for val in val_str:\n",
    "    print(val)\n",
    "    \n",
    "# for dictionaries, you'll notice it loops through the keys by default\n",
    "fruits = {'apple': 0.40, 'banana': 0.35, 'watermelon': 2.00}\n",
    "for fruit in fruits:\n",
    "    print(fruit)\n",
    "\n",
    "# we can use .values() to get the values instead\n",
    "fruits = {'apple': 0.40, 'banana': 0.35, 'watermelon': 2.00}\n",
    "for value in fruits.values():\n",
    "    print(value)\n",
    "\n",
    "# we can also nest loops if needed\n",
    "products = {'fruit': ['apple', 'banana', 'watermelon'], 'dairy': ['milk', 'cream', 'butter']}\n",
    "for category in products.values():\n",
    "    for product in category:\n",
    "        print(product)\n",
    "\n",
    "# we can also loop a file object lines\n",
    "with open('greetings.txt', 'r') as greetings:\n",
    "    for greeting in greetings:\n",
    "        print(greeting)"
   ]
  },
  {
   "cell_type": "markdown",
   "id": "e986a6b3-5717-48bd-8b61-256fb7d66a79",
   "metadata": {},
   "source": [
    "In other languages, you will see this type of loop separated into two types, either ***for loops*** or ***foreach loops***. Python refers to the type we just discussed as a ***for loop***, but it actually functions like a ***foreach loop*** as in \"for each x in y\".\n",
    "\n",
    "Let's look at ***while loops*** now:"
   ]
  },
  {
   "cell_type": "code",
   "execution_count": 11,
   "id": "81721b6a-e58d-4176-a4a9-66f01806a53c",
   "metadata": {},
   "outputs": [
    {
     "name": "stdout",
     "output_type": "stream",
     "text": [
      "1\n",
      "2\n",
      "3\n",
      "4\n",
      "5\n",
      "['salut\\n', 'hola\\n', 'privet\\n', 'ni hao\\n', 'ciao\\n', 'hallo\\n', 'oi\\n', 'hej\\n', 'czesc\\n', 'selam\\n', 'heimerhaba\\n', 'namaste\\n', 'new greeting']\n"
     ]
    }
   ],
   "source": [
    "# create a collection (in this case, list)\n",
    "vals = [1, 2, 3, 4, 5]\n",
    "\n",
    "i = 0\n",
    "while i < 5:\n",
    "    print(vals[i])\n",
    "    i += 1\n"
   ]
  },
  {
   "cell_type": "markdown",
   "id": "23896122-f147-43da-8648-41accf2a9c74",
   "metadata": {},
   "source": [
    "As you can see, ***while loops*** are best used when you want a block of code to run a specific number of times or until a condition is fulfilled (unlike ***for loops*** which are used when you want a block of code to run for every value in a group of values).\n",
    "\n",
    "## Statements"
   ]
  },
  {
   "cell_type": "markdown",
   "id": "285b8a3b-a629-4940-82a4-edfe7b595c98",
   "metadata": {},
   "source": [
    "There are a multitude of useful statements we can use to control the way in which a set of code executes – this is called control flow. We’ve already covered for loops and while loops, which are an option, what else is there?\n",
    "\n",
    "Let's take a look at ***if statements***:"
   ]
  },
  {
   "cell_type": "markdown",
   "id": "ac9d236a-e597-4b2e-b3f6-f3e51546dee7",
   "metadata": {},
   "source": [
    "***Strings*** are used to represent text and can be thought of as a sequence of characters. Some programming languages have a data type specifically for individual characters, Python does not."
   ]
  },
  {
   "cell_type": "code",
   "execution_count": null,
   "id": "e6f36db0-015b-4ec3-ba52-13a9fe527526",
   "metadata": {},
   "outputs": [],
   "source": [
    "# in the workshop, you were tasked with writing a statement\n",
    "# that would check if a customers age was over 18 (if they were outside the US)\n",
    "# or over 21 (if they were inside the US)\n",
    "\n",
    "age = 21\n",
    "country = 'USA'\n",
    "\n",
    "(age >= 18 and country == 'UK') or (age >= 21 and country == 'USA')\n",
    "\n",
    "# we can make this far more readable (and allow for far more conditional checks) using if statements\n",
    "if age >= 18:\n",
    "    if country == 'USA':\n",
    "        if age >= 21:\n",
    "            print('True')\n",
    "        else:\n",
    "            print('False')\n",
    "    else:\n",
    "        print('True')\n",
    "else:\n",
    "    print('False')\n",
    "\n",
    "# when we only want to perform a binary check (2 options), we can write it on one line\n",
    "if age >= 18:\n",
    "    if country == 'USA':\n",
    "        print('True') if age >= 21 else print('False')\n",
    "    else:\n",
    "        print('True')\n",
    "else:\n",
    "    print('False')\n",
    "\n",
    "# if we are assigning a value based on a binary check (2 options), we can use the ternary operator\n",
    "if age >= 18:\n",
    "    if country == 'USA':\n",
    "        can_drink = True if age >= 21 else False\n",
    "    else:\n",
    "        can_drink = True\n",
    "else:\n",
    "    can_drink = False\n",
    "\n",
    "can_drink"
   ]
  },
  {
   "cell_type": "markdown",
   "id": "1a52e54b-6670-446f-bac5-4e61066e1a7d",
   "metadata": {},
   "source": [
    "There are two main other useful statements within Python that allow us for more options when implementing flow control."
   ]
  },
  {
   "cell_type": "code",
   "execution_count": null,
   "id": "48397e6e-4bc8-4a7a-9a19-54ebf855134e",
   "metadata": {},
   "outputs": [],
   "source": [
    "# break\n",
    "x = 0\n",
    "while True:\n",
    "    print(x)\n",
    "    \n",
    "    if x >= 5:\n",
    "        break\n",
    "    else:\n",
    "        x += 1\n",
    "\n",
    "# continue\n",
    "x = 0\n",
    "while True:\n",
    "    x += 1\n",
    "\n",
    "    if x % 2 == 0:\n",
    "        continue\n",
    "        \n",
    "    print(x)\n",
    "\n",
    "    if x >= 20:\n",
    "        break"
   ]
  }
 ],
 "metadata": {
  "kernelspec": {
   "display_name": "Python 3 (ipykernel)",
   "language": "python",
   "name": "python3"
  },
  "language_info": {
   "codemirror_mode": {
    "name": "ipython",
    "version": 3
   },
   "file_extension": ".py",
   "mimetype": "text/x-python",
   "name": "python",
   "nbconvert_exporter": "python",
   "pygments_lexer": "ipython3",
   "version": "3.12.6"
  }
 },
 "nbformat": 4,
 "nbformat_minor": 5
}
