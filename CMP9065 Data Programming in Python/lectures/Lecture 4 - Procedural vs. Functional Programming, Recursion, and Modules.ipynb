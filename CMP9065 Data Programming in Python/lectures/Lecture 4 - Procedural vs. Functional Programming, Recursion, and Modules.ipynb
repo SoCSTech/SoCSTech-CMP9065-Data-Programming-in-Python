{
 "cells": [
  {
   "cell_type": "markdown",
   "id": "8fdc0282-e0c7-4399-ae1e-35c8862df679",
   "metadata": {},
   "source": [
    "# Lecture 4 - Procedural vs. Functional Programming, Recursion, and Modules\n",
    "\n",
    "Welcome to week four! Today we'll be briefly recapping list comprehension, list slicing, and functions, then introducing some new concepts, namely looking at the differences between procedural and functional programming, introducing recursion, and demonstrating module imports - including what they are, what they're for, and plenty of usage examples.\n",
    "\n",
    "- [Recap](#Recap)\n",
    "- [Procedural vs. Functional Programming](#Procedural-vs.-Functional-Programming)\n",
    "    - [Procedural Programming](#Procedural-Programming)\n",
    "    - [Functional Programming](#Functional-Programming)\n",
    "- [Recursion](#Recursion)\n",
    "- [Modules](#Modules)"
   ]
  },
  {
   "cell_type": "markdown",
   "id": "8832cbbd-139b-44c9-9260-eae1f443591e",
   "metadata": {},
   "source": [
    "## Recap\n",
    "Last week, we covered list comprehension and list slicing, as well as functions (including how they're defined, what they're for, and how to return values from them) and the *map()* function.\n",
    "\n",
    "Let's quickly recap those - can you predict the outputs of these code cells?"
   ]
  },
  {
   "cell_type": "code",
   "execution_count": null,
   "id": "cefc922e-e01a-49a0-a427-d64d21d6a90e",
   "metadata": {},
   "outputs": [],
   "source": [
    "vals = [i * 3 for i in range(8)]\n",
    "vals"
   ]
  },
  {
   "cell_type": "code",
   "execution_count": null,
   "id": "ffd320db-f84f-448c-9a6a-78fb97da779d",
   "metadata": {},
   "outputs": [],
   "source": [
    "vals[3:7]"
   ]
  },
  {
   "cell_type": "code",
   "execution_count": null,
   "id": "da7c5cb3-c14d-440c-a346-534f366423fe",
   "metadata": {},
   "outputs": [],
   "source": [
    "vals[::-1]"
   ]
  },
  {
   "cell_type": "code",
   "execution_count": null,
   "id": "32e1db73-6e1b-427a-bd9b-bfe71c5680cd",
   "metadata": {},
   "outputs": [],
   "source": [
    "vals[::-3]"
   ]
  },
  {
   "cell_type": "code",
   "execution_count": null,
   "id": "177b7f5e-e559-45bb-8528-d4feb01490ce",
   "metadata": {},
   "outputs": [],
   "source": [
    "def odd_even(x, y):\n",
    "    x_even = True if x % 2 == 0 else False\n",
    "    y_even = True if y % 2 == 0 else False\n",
    "    return [x_even, y_even]"
   ]
  },
  {
   "cell_type": "code",
   "execution_count": null,
   "id": "ab815f23-19f1-4c60-8658-a37f803745dc",
   "metadata": {},
   "outputs": [],
   "source": [
    "x_vals = [i * 3 for i in range(6)]\n",
    "y_vals = [i * 6 for i in range(6)]\n",
    "\n",
    "list(map(odd_even, x_vals, y_vals))"
   ]
  },
  {
   "cell_type": "markdown",
   "id": "abd43683-5a93-479a-b7c9-1f207ff8eb8d",
   "metadata": {},
   "source": [
    "## Procedural vs. Functional Programming\n",
    "\n",
    "In programming, there are three primary \"programming paradigms\", referring to categories in which we can place certain programming languages based on their functionality/features. These categories are ***procedural programming languages***, ***functional programming languages***, and ***object-oriented programming languages***. It's important to note that many languages will be capable of implementing more than one of these paradigms - for example, Python is capable of all three - and the latter paradigm will be discussed in a following lecture as it is a rather broad topic (and a rather important topic). Let's go through the first two programming paradigms and discuss their differences with examples.\n",
    "\n",
    "### Procedural Programming\n",
    "\n",
    "A procedural programming language is any programming language that allows (or requires) code to be written in ***procedures*** - also commonly referred to as ***routines***, ***subroutines*** or ***functions***. As the name might suggest, a procedure is essentially a set of instructions or computational steps to be ***executed in order***. In other words, you can think of procedural programming as being all about the idea of executing code as a sequence of steps - a step-by-step plan of action that needs to be executed in order to fulfil the task your code is meant to fulfil.\n",
    "\n",
    "Procedural code is not necessarily organised in any logical groupings or object-like entities (more on this when we cover object-oriented programming in an upcoming lecture), unlike the other paradigms. That is not to say that procedural code cannot utilise functions (which are a staple of functional programming languages) or other paradigm's features (such as objects) - as you'll see in upcoming examples - but more that procedural code should encapsulate a way of thinking about writing code that follows a linear, top-down approach where each program is designed as a series of instructions.\n",
    "\n",
    "One way to think of it is...  \n",
    "Functional programming focuses on ***expressions***.  \n",
    "Procedural programming focuses on ***statements***.\n",
    "\n",
    "Let's look at some features of procedural programming:"
   ]
  },
  {
   "cell_type": "code",
   "execution_count": null,
   "id": "7f24c21b-96bf-4022-a570-84ad90e938dc",
   "metadata": {},
   "outputs": [],
   "source": [
    "# print\n",
    "print('Hello World')\n",
    "\n",
    "# int explicit conversion\n",
    "int('5')\n",
    "\n",
    "# range()\n",
    "range(5)"
   ]
  },
  {
   "cell_type": "markdown",
   "id": "26695d2a-f33d-4ad6-a12a-20ba2b13b706",
   "metadata": {},
   "source": [
    "***Predefined functions*** are functions that are accessible by the developer either through an external library (and imported, in the case of Python), or internally as part of the language. The above examples are in-built Python functions you should be familiar with - more on importing libraries (and their functions) later in this lecture (this is especially important to understand for the latter half of the module content)."
   ]
  },
  {
   "cell_type": "code",
   "execution_count": null,
   "id": "a343c6dd-a29c-4971-83d8-c8bcdf274bee",
   "metadata": {},
   "outputs": [],
   "source": [
    "# local variables\n",
    "x = 5\n",
    "y = 7\n",
    "\n",
    "# declare function\n",
    "def add_y(x):\n",
    "\n",
    "    # global declaration\n",
    "    global y\n",
    "\n",
    "    return x + y\n",
    "\n",
    "# call function\n",
    "add_y(x)\n",
    "print(y)"
   ]
  },
  {
   "cell_type": "markdown",
   "id": "18301f4a-5243-4fdc-9529-2ef239e2111e",
   "metadata": {},
   "source": [
    "***Local variables*** you should be intimately familiar with at this point, but these refer to declared variables that are scope-limited to the block of code in which they are defined (in the above example, the function cannot know what x is without being passed it as an argument). This allows functions (like in the cell above) to work on their own copy of a variable without affecting the global state; modifying x inside the function does not modify x outside the function.\n",
    "\n",
    "***Global variables*** are a new concept for the module content so far; unlike local variables, global variables can be accessed anywhere in the program (they have a global scope) - these are usually defined outside of the main function, but can be initialized from inside any local scope.\n",
    "\n",
    "Note: it is generally not recommended to use global variables where local variables can be used; you should aim to write the most \"maintainable\" code possible - that is, you need to find a balance between making things accessible while also preventing accidental collisions/modifications (more on this when we discuss public vs. private class variables when we cover object-oriented programming).  \n",
    "\n",
    "To summarise, generally a stricter namespace is better than a more lax namespace."
   ]
  },
  {
   "cell_type": "code",
   "execution_count": null,
   "id": "c5efab9a-1e52-45fa-9da8-7fdd269e3abc",
   "metadata": {},
   "outputs": [],
   "source": [
    "# define a simple function\n",
    "def add_two(x):\n",
    "    return x + 2\n",
    "\n",
    "# define a simple function\n",
    "def square(x):\n",
    "    return x ** 2\n",
    "\n",
    "# declare variable\n",
    "x = 5\n",
    "\n",
    "# call as needed\n",
    "x = add_two(x)\n",
    "x = square(x)\n",
    "x\n",
    "\n",
    "# note that you can nest calls too\n",
    "x = square(add_two(x))\n",
    "x"
   ]
  },
  {
   "cell_type": "code",
   "execution_count": null,
   "id": "807e629c",
   "metadata": {},
   "outputs": [],
   "source": [
    "\n",
    "# Task: write a function that adds 2 to num 5 times **using procedural programming**\n",
    "num = 0\n",
    "\n",
    "def procedure():\n",
    "    global num\n",
    "    for i in range(5):\n",
    "        num = add_two(num)\n",
    "\n",
    "procedure()\n",
    "\n",
    "print(num)"
   ]
  },
  {
   "cell_type": "code",
   "execution_count": null,
   "id": "099cd94f",
   "metadata": {},
   "outputs": [],
   "source": [
    "# Task: write a function that sums the elements of two lists **using procedural programming**\n",
    "\n",
    "list1 = [1, 2, 3, 4]\n",
    "list2 = [9, 8, 9, 8] \n",
    "sum = []\n",
    "\n",
    "def sum_lists(l1, l2):\n",
    "    global sum\n",
    "    for i in range(len(list1)):\n",
    "        sum.append(l1[i] + l2[i])\n",
    "\n",
    "sum_lists(list1, list2)\n",
    "\n",
    "print(sum)"
   ]
  },
  {
   "cell_type": "markdown",
   "id": "876f2ea1-720f-4968-aa46-7491690290a5",
   "metadata": {},
   "source": [
    "***Modularity*** refers to separating code/program functionality into individual groups/modules, each of which has exclusive responsibility of a certain task. The above code cell demonstrates a simple example, but you can imagine extending this concept to far more complex projects, with separate scripts for separate responsibilities (e.g. a script for handling users, a script for handling the database, a script for handling the UI, etc) each of which are split into functions which also all have their own exclusive responsibilities (e.g. adding a user, removing a user, checking user info, etc).\n",
    "\n",
    "This is a feature of both procedural and functional programming.\n",
    "\n",
    "### Functional Programming\n",
    "\n",
    "A functional programming language is any programming language that focuses on writing code based around ***functions***, as the name might suggest. In functional programming, all written functions (wherever possible) should be ***pure functions*** rather than ***impure functions*** - more on those shortly. Everything in your code using this paradigm, where reasonable/possible, should be broken down into neat, single-responsibility functions and parameters. These functions should then process the data provided to them locally (not affecting the global state) and return the result values, which are then used going forward.\n",
    "\n",
    "The principles of functional programming are centered around pure functions and their usage.\n",
    "\n",
    "Let's look at pure functions vs. impure functions:"
   ]
  },
  {
   "cell_type": "code",
   "execution_count": null,
   "id": "a1107af9-0b75-44dd-9e18-cc89e90ed9d3",
   "metadata": {},
   "outputs": [],
   "source": [
    "# import math\n",
    "import math\n",
    "\n",
    "# define function get_sin()\n",
    "def get_sin(x):\n",
    "    return math.sin(x)\n",
    "\n",
    "# call function\n",
    "get_sin(9)\n",
    "\n",
    "# define two integers\n",
    "x = 5\n",
    "y = 7\n",
    "\n",
    "# define multiplication function\n",
    "def mult(x, y):\n",
    "    return x * y\n",
    "\n",
    "# call function\n",
    "mult(x, y)"
   ]
  },
  {
   "cell_type": "markdown",
   "id": "447d688e-629b-481a-a4eb-a6a91407025a",
   "metadata": {},
   "source": [
    "The code cell above contains examples of only pure functions. What makes these functions pure? Well, pure functions should:\n",
    "\n",
    "* Return the same output for a given set of inputs\n",
    "* Have referential transparency (i.e. expressions can be replaced by other expressions which hold the same value without affecting the result)\n",
    "* Have no side effects (e.g. do not modify other variables in the wider scope)\n",
    "\n",
    "Let's look at examples of how these could be violated, thereby creating an impure function:"
   ]
  },
  {
   "cell_type": "code",
   "execution_count": null,
   "id": "fa239f3a-7fe7-4be6-8158-deae32411fd8",
   "metadata": {},
   "outputs": [],
   "source": [
    "z = 2\n",
    "\n",
    "x = 5\n",
    "y = 5\n",
    "\n",
    "# Return the same output for a given set of inputs?\n",
    "def add_vals(x, y):\n",
    "    return x + y + z\n",
    "\n",
    "add_vals(x, y)\n",
    "\n",
    "# Have referential transparency? \n",
    "def mult_vals(x, y):\n",
    "    print(\"Executing multiplication\")\n",
    "    return x * y\n",
    "\n",
    "mult_vals(x, y), x * y\n",
    "\n",
    "# Have no side effects?\n",
    "\n",
    "def div_vals(x, y):\n",
    "    global z\n",
    "    z = 5\n",
    "    return x / y / z\n",
    "\n",
    "div_vals(x, y)\n"
   ]
  },
  {
   "cell_type": "markdown",
   "id": "809fd506-f9e6-4668-bade-457819a74fc0",
   "metadata": {},
   "source": [
    "As you can see, ensuring all (where possible) functions are pure functions is a key aspect of functional programming.\n",
    "\n",
    "There are some core concepts and terminology you should be aware of that are primary features of functional programming:\n",
    "\n",
    "* Immutable data\n",
    "    * Immutable data is data that cannot be changed once initialized (the opposite being mutable data, data that can be changed once initialized). In functional programming, it's best practice to try to only use immutable data; every time you want to modify a variable, you store the new value as a new variable instead of modifying the original.\n",
    "* Avoiding shared states\n",
    "    * As demonstrated in the previous code cell, variables should not be updated from multiple places or relied on in multiple places; variables and objects should be restricted to their own scope, which aids in managing and debugging code.\n",
    "* First-class and higher-order functions\n",
    "    * A first-class function is a function that can be used like any other variable (similar to referential transparency); first class functions can be used as an argument for a function, returning as a value from a function, stored in data structures, assigned as a value to variables, used as a value in statements, etc. A higher-order function is a function that can take other functions as arguments or return other functions as a result - this is a key aspect of functional programming.\n",
    "* Recursion\n",
    "    * Let's look at recursion in our next section:"
   ]
  },
  {
   "cell_type": "code",
   "execution_count": null,
   "id": "cf28bfa4",
   "metadata": {},
   "outputs": [],
   "source": [
    "# Task: write a function that adds 2 to num 5 times **using functional programming**\n",
    "num = 0\n",
    "\n",
    "def function(num):\n",
    "    return add_two(add_two(add_two(add_two(add_two(num)))))\n",
    "\n",
    "\n",
    "print(function(num))"
   ]
  },
  {
   "cell_type": "markdown",
   "id": "c3c22d5a",
   "metadata": {},
   "source": [
    "With recursion, we will see how we can avoid calling the same function repeatedly in this way."
   ]
  },
  {
   "cell_type": "code",
   "execution_count": null,
   "id": "11d779df",
   "metadata": {},
   "outputs": [],
   "source": [
    "# Task: write a function that sums the elements of two lists **using procedural programming**\n",
    "\n",
    "list1 = [1, 2, 3, 4]\n",
    "list2 = [9, 8, 9, 8] \n",
    "\n",
    "def sum_elements(e1, e2):\n",
    "    return e1 + e2\n",
    "\n",
    "sum = list(map(sum_elements, list1, list2))\n",
    "\n",
    "print(sum)"
   ]
  },
  {
   "cell_type": "markdown",
   "id": "ac79e737-4483-4210-ba53-3d978294b96e",
   "metadata": {},
   "source": [
    "## Recursion\n",
    "\n",
    "Recursion is a common concept attributed to functional programming, primarily used as an alternative implementation method for while loops or for loops. When a function is ***recursive***, that function calls itself repeatedly until a condition (much like the condition used to initiate a while loop) no longer evaluates to True. This is a very effective and useful concept in select circumstances.\n",
    "\n",
    "Let's look a simple example of how to implement recursion, starting with a standard function:"
   ]
  },
  {
   "cell_type": "code",
   "execution_count": null,
   "id": "307fa78b-1f39-4ce0-8b76-f3eb8bec2875",
   "metadata": {},
   "outputs": [],
   "source": [
    "# declare a simple \"add one\" function\n",
    "def add_one(x):\n",
    "    return x + 1\n",
    "\n",
    "# call it\n",
    "add_one(1)"
   ]
  },
  {
   "cell_type": "markdown",
   "id": "a20964f0-1e18-486e-bb13-ae45cdd51b82",
   "metadata": {},
   "source": [
    "This is a simple function to add one to the value of the passed integer, which you should be very familiar with by this point. Let's think, how can we make this recursive? We need the function to call itself, and we need a check within the function so that it doesn't run forever.\n",
    "\n",
    "Let's take a look:"
   ]
  },
  {
   "cell_type": "code",
   "execution_count": null,
   "id": "607099d8-fd34-4779-a309-2b5f4d121b59",
   "metadata": {},
   "outputs": [],
   "source": [
    "# declare a simple \"add one\" function\n",
    "def add_one(x):\n",
    "    if x == 5:\n",
    "        return x\n",
    "    else:\n",
    "        print(x)\n",
    "        add_one(x + 1)\n",
    "\n",
    "add_one(1)"
   ]
  },
  {
   "cell_type": "markdown",
   "id": "97c8efe6-ece7-4066-8728-c79b6d708f40",
   "metadata": {},
   "source": [
    "Just like that! This is, of course, a very simple example, but it's easy to see how this can be applied to more complex use-cases. Let's try one!\n",
    "\n",
    "Let's see if we can print the fibonacci sequence:"
   ]
  },
  {
   "cell_type": "code",
   "execution_count": null,
   "id": "c406005b-5ce3-45f4-b19f-6b127390cd0d",
   "metadata": {},
   "outputs": [],
   "source": [
    "# declare a recursive \"fib\" function\n",
    "def fib(x):\n",
    "    if x in [0, 1]:\n",
    "        return x\n",
    "    else:\n",
    "        return(fib(x - 1) + fib(x - 2))\n",
    "\n",
    "# call it\n",
    "[fib(x) for x in range(15)]"
   ]
  },
  {
   "cell_type": "markdown",
   "id": "795edfa8-bd6d-4b45-9605-ac33523c9bf7",
   "metadata": {},
   "source": [
    "There! Our new fib() function returns the value at that position in the fibonacci sequence.\n",
    "\n",
    "As an example, if we call fib(3) we would hit the else, which tries to return fib(2) + fib(1) but - since these are function calls - these must execute before the return statement can be processed. Now fib(2) and fib(1) execute independently, the fib(1) simply returns 1 as per the if statement, but fib(2) once again needs to return fib(1) + fib(0). Both of these calls, however, can be resolved without needing to recurse more (as per the if statement), meaning our fib(2) call returns 1. This results in our fib(3) call returning 1 + 1 = 2. The value at position 3 in the fibonacci sequence is 3.\n",
    "\n",
    "We can visualise this more easily by going through it in a code cell:"
   ]
  },
  {
   "cell_type": "markdown",
   "id": "54f2ea55-e386-42be-884a-d596b545de72",
   "metadata": {},
   "source": [
    "## Modules\n",
    "\n",
    "Our last topic for this lecture will be modules, which refers to the process of saving python scripts (if you want to create your own modules) and importing them to use elsewhere. This is very useful as it reduces code clutter (increased readability) and further propagates the segmentation of code encouraged within the functional programming paradigm.\n",
    "\n",
    "As this involves scripts external to Jupyter Notebook, we'll look at this outside of this notebook. If you're reading this outside of the lecture, please refer to the lecture recording!"
   ]
  },
  {
   "cell_type": "code",
   "execution_count": null,
   "id": "5f55823e",
   "metadata": {},
   "outputs": [],
   "source": [
    "import operations"
   ]
  }
 ],
 "metadata": {
  "kernelspec": {
   "display_name": "Python 3",
   "language": "python",
   "name": "python3"
  },
  "language_info": {
   "codemirror_mode": {
    "name": "ipython",
    "version": 3
   },
   "file_extension": ".py",
   "mimetype": "text/x-python",
   "name": "python",
   "nbconvert_exporter": "python",
   "pygments_lexer": "ipython3",
   "version": "3.8.10"
  }
 },
 "nbformat": 4,
 "nbformat_minor": 5
}
