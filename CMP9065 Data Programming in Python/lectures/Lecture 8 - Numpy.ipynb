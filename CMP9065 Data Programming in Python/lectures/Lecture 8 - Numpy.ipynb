{
 "cells": [
  {
   "cell_type": "markdown",
   "metadata": {},
   "source": [
    "# Lecture 8 - NumPy"
   ]
  },
  {
   "cell_type": "markdown",
   "metadata": {},
   "source": [
    "In this, and the coming lectures, we will be learning different **external libraries**. The lectures will also include links to **documentation** of those libraries, and you will be expected to get comfortable with using documentation.\n",
    "\n",
    "[**NumPy**](https://numpy.org/doc/stable/) stands for \"numerical python\" and provides an efficient implementation of large, multi-dimensional arrays and matrices, along with a large collection of high-level mathematical functions to operate on these arrays.\n",
    "\n",
    "As Data Scientists, you will employ these to analyse and summarise datasets (which will be the focus of this week's workshop).\n",
    "\n",
    "We will cover the following functionality of the NumPy library in today's lecture:\n",
    "- [NumPy arrays](#NumPy-arrays)\n",
    "    - [Array dimensions](#Array-dimensions)\n",
    "    - [Creating NumPy arrays](#Creating-NumPy-arrays)\n",
    "    - [Indexing NumPy arrays](#Indexing-NumPy-arrays)\n",
    "    - [Combining NumPy arrays](#Combining-NumPy-arrays)\n",
    "- [Operations with arrays](#Operations-with-arrays)\n",
    "    - [Operations between arrays and numbers](#Operations-between-arrays-and-numbers)\n",
    "    - [Operations between arrays and arrays](#Operations-between-arrays-and-arrays)\n",
    "- [Analysing data](#Analysing-data)\n",
    "- [Basic linear algebra (extension)](#Basic-linear-algebra-(extension))\n",
    "    - [System of linear equations (extension)](#System-of-linear-equations)\n",
    "    \n",
    "_Note: You need to run every cell in this notebook to ensure the later cells run correctly. Skipping some cells might result in run-time errors in other cells._"
   ]
  },
  {
   "cell_type": "markdown",
   "metadata": {},
   "source": [
    "NumPy is an **external library**. This means you need to `import` the `numpy` module into your code to use the functionality it provides. This is typically done with:"
   ]
  },
  {
   "cell_type": "code",
   "execution_count": 5,
   "metadata": {},
   "outputs": [],
   "source": [
    "import numpy as np"
   ]
  },
  {
   "cell_type": "markdown",
   "metadata": {},
   "source": [
    "Any other alias other than `np` can be used, by `np` is standard."
   ]
  },
  {
   "cell_type": "markdown",
   "metadata": {},
   "source": [
    "## NumPy arrays\n",
    "\n",
    "Central to NumPy is the _array_ class (specifically, [`numpy.ndarray`](https://numpy.org/doc/stable/reference/generated/numpy.ndarray.html)). It provides the functionality to manipulate [_array_](https://numpy.org/doc/stable/reference/generated/numpy.ndarray.html) objects. [_Arrays_](https://numpy.org/doc/stable/reference/generated/numpy.ndarray.html) are similar to _lists_ in Python (they are **ordered**, **changeable**, and **allow duplicates**), but NumPy [_arrays_](https://numpy.org/doc/stable/reference/generated/numpy.ndarray.html) usually contain elements of the **same data type** (typically numbers).\n",
    "\n",
    "NumPy [_arrays_](https://numpy.org/doc/stable/reference/generated/numpy.ndarray.html) can be created from Python lists with [`numpy.array()`](https://numpy.org/doc/stable/reference/generated/numpy.array.html):\n",
    "\n",
    "```python\n",
    "\n",
    "array_var = np.array(list_var)\n",
    "```\n",
    "where `array_var` is the variable holding the NumPy [_array_](https://numpy.org/doc/stable/reference/generated/numpy.ndarray.html), and `list_var` is the python list.\n",
    "\n",
    "_Note: This is a simplified example of use, follow the documentation link to see the full function signature._"
   ]
  },
  {
   "cell_type": "markdown",
   "metadata": {},
   "source": [
    "##### Example\n",
    "\n",
    "Let's show creating several different python lists, and creating NumPy [_arrays_](https://numpy.org/doc/stable/reference/generated/numpy.ndarray.html) from them:\n",
    "- 5 floating point numbers:"
   ]
  },
  {
   "cell_type": "code",
   "execution_count": 6,
   "metadata": {},
   "outputs": [
    {
     "name": "stdout",
     "output_type": "stream",
     "text": [
      "<class 'float'> <class 'float'>\n",
      "<class 'numpy.float64'> <class 'numpy.float64'>\n",
      "[0.5, 1.6, 2.7, 3.8, 9.1]\n",
      "[0.5 1.6 2.7 3.8 9.1]\n",
      "<class 'numpy.ndarray'> <class 'list'>\n"
     ]
    }
   ],
   "source": [
    "flist = [0.5, 1.6, 2.7, 3.8, 9.1]\n",
    "\n",
    "print(type(flist[0]), type(flist[-1]))\n",
    "\n",
    "# create a NumPy array from Python list:\n",
    "farray = np.array(flist)\n",
    "\n",
    "print(type(farray[0]), type(farray[-1]))\n",
    "\n",
    "print(flist)\n",
    "print(farray)\n",
    "print(type(farray), type(flist))"
   ]
  },
  {
   "cell_type": "markdown",
   "metadata": {},
   "source": [
    "- a nested list, containing 3 lists of 3 integers each:"
   ]
  },
  {
   "cell_type": "code",
   "execution_count": 7,
   "metadata": {},
   "outputs": [
    {
     "name": "stdout",
     "output_type": "stream",
     "text": [
      "[[5, 1, 3], [2, 7, 1], [8, 1, 0]]\n",
      "[[5 1 3]\n",
      " [2 7 1]\n",
      " [8 1 0]]\n"
     ]
    }
   ],
   "source": [
    "nlist = [[5, 1, 3],\n",
    "         [2, 7, 1],\n",
    "         [8, 1, 0]]\n",
    "narray = np.array(nlist)\n",
    "print(nlist)\n",
    "print(narray)"
   ]
  },
  {
   "cell_type": "markdown",
   "metadata": {},
   "source": [
    "- all numbers between 500 and 1500:"
   ]
  },
  {
   "cell_type": "code",
   "execution_count": 8,
   "metadata": {},
   "outputs": [
    {
     "name": "stdout",
     "output_type": "stream",
     "text": [
      "range(500, 1500, 50)\n",
      "[ 500  550  600  650  700  750  800  850  900  950 1000 1050 1100 1150\n",
      " 1200 1250 1300 1350 1400 1450]\n"
     ]
    }
   ],
   "source": [
    "llist = range(500, 1500, 50)  \n",
    "larray = np.array(llist)\n",
    "print(llist)\n",
    "print(larray)"
   ]
  },
  {
   "cell_type": "markdown",
   "metadata": {},
   "source": [
    "- additional examples to show in the lecture:"
   ]
  },
  {
   "cell_type": "code",
   "execution_count": null,
   "metadata": {},
   "outputs": [],
   "source": []
  },
  {
   "cell_type": "markdown",
   "metadata": {},
   "source": [
    "### Array dimensions\n",
    "\n",
    "Python lists can be nested, but are most often not. Typically, they just _list_ a sequence of elements -- they are **one dimensional (1D)**.\n",
    "\n",
    "NumPy [_arrays_](https://numpy.org/doc/stable/reference/generated/numpy.ndarray.html) can also be 1D, but their power lies in handling 2D and multi-dimensional (nD) [_arrays_](https://numpy.org/doc/stable/reference/generated/numpy.ndarray.html). This can be used to represent:\n",
    "- mathematical functions\n",
    "- tabular data\n",
    "- images\n",
    "- ...\n",
    "\n",
    "With python lists, to get the number of elements in a list, you can write:\n",
    "```python\n",
    "length = len(mylist)\n",
    "```\n",
    "\n",
    "However, this would just give you a number of \"top level\" elements. For a nested list:"
   ]
  },
  {
   "cell_type": "code",
   "execution_count": 9,
   "metadata": {},
   "outputs": [
    {
     "name": "stdout",
     "output_type": "stream",
     "text": [
      "4\n",
      "5\n"
     ]
    }
   ],
   "source": [
    "# create a nested list\n",
    "list_nested = [[5, 1, 0, 2, 1],\n",
    "               [2, 7, 1, 2, 0],\n",
    "               [8, 1, 2, 2, 1],\n",
    "               [3, 1, 0, 1, 2]]\n",
    "\n",
    "# get the number of elements in the list\n",
    "print(len(list_nested))\n",
    "# get the length of the first element - which is also a list\n",
    "print(len(list_nested[1]))"
   ]
  },
  {
   "cell_type": "markdown",
   "metadata": {},
   "source": [
    "With NumPy [_arrays_](https://numpy.org/doc/stable/reference/generated/numpy.ndarray.html), you can use the [`numpy.ndarray.shape`](https://numpy.org/doc/stable/reference/generated/numpy.ndarray.shape.html) attribute to find out the size of every [_array_](https://numpy.org/doc/stable/reference/generated/numpy.ndarray.html) dimension (called  **axis** in NumPy) as a _tuple_:\n",
    "\n",
    "(_Reminder:_ Tuples are Python objects that are ordered, _unchangeable_, and allow duplicates.)"
   ]
  },
  {
   "cell_type": "code",
   "execution_count": 10,
   "metadata": {},
   "outputs": [
    {
     "name": "stdout",
     "output_type": "stream",
     "text": [
      "[[5 1 0 2 1]\n",
      " [2 7 1 2 0]\n",
      " [8 1 2 2 1]\n",
      " [3 1 0 1 2]]\n",
      "4\n",
      "(4, 5)\n",
      "20\n"
     ]
    }
   ],
   "source": [
    "# create a numpy array from the nested list in the previous example\n",
    "array_2d = np.array(list_nested)\n",
    "# print the array\n",
    "print(array_2d)\n",
    "# get the length of the array - the number of rows\n",
    "print(len(array_2d))\n",
    "# get the shape of the array - both the number of rows and columns\n",
    "print(array_2d.shape)\n",
    "# the total number of elements of the array can be obtained by multiplying all elements of the shape\n",
    "print(array_2d.shape[0]*array_2d.shape[1])"
   ]
  },
  {
   "cell_type": "markdown",
   "metadata": {},
   "source": [
    "##### Example\n",
    "\n",
    "For the nested Python list given below, and the constructed 2D [_array_](https://numpy.org/doc/stable/reference/generated/numpy.ndarray.html), let us retrieve the size of the second dimension/axis (\"how many columns are there?\") using:\n",
    "- the list `list_nested`\n",
    "- the array `array2d`"
   ]
  },
  {
   "cell_type": "code",
   "execution_count": 11,
   "metadata": {},
   "outputs": [
    {
     "name": "stdout",
     "output_type": "stream",
     "text": [
      "4\n",
      "4\n"
     ]
    }
   ],
   "source": [
    "# create a nested list\n",
    "list_nested = [[4, 2, 8, 1],\n",
    "               [3, 4, 2, 7],\n",
    "               [9, 2, 1, 4],\n",
    "               [1, 6, 3, 3],\n",
    "               [8, 5, 1, 7],\n",
    "               [9, 6, 1, 2]]\n",
    "# create a numpy array from the list\n",
    "array_2d = np.array(list_nested)\n",
    "\n",
    "# to get the number of elements in a nested list, we must index one of the elements first\n",
    "print(len(list_nested[-1]))\n",
    "\n",
    "# to get the number of columns in a numpy array, we can read the second element of shape:\n",
    "print(array_2d.shape[1])\n"
   ]
  },
  {
   "cell_type": "markdown",
   "metadata": {},
   "source": [
    "### Creating NumPy arrays\n",
    "\n",
    "You have seen NumPy [_arrays_](https://numpy.org/doc/stable/reference/generated/numpy.ndarray.html) initialised from lists.\n",
    "```python\n",
    "\n",
    "array_var = np.array(list_var)\n",
    "```\n",
    "\n",
    "Now, let's look at some other ways of creating NumPy arrays."
   ]
  },
  {
   "cell_type": "markdown",
   "metadata": {},
   "source": [
    "#### 1D arrays\n",
    "\n",
    "To create 1D [_arrays_](https://numpy.org/doc/stable/reference/generated/numpy.ndarray.html) with regularly spaced elements, you can use [`numpy.arange()`](https://numpy.org/doc/stable/reference/generated/numpy.arange.html#numpy.arange) or [`numpy.linspace()`](https://numpy.org/doc/stable/reference/generated/numpy.linspace.html#numpy.linspace)."
   ]
  },
  {
   "cell_type": "markdown",
   "metadata": {},
   "source": [
    "The syntax of [`numpy.arange()`](https://numpy.org/doc/stable/reference/generated/numpy.arange.html#numpy.arange) is similar to the python function `range`:\n",
    "> `numpy.arange([start, ]stop, [step])`\n",
    ">\n",
    "> Returns an [_array_](https://numpy.org/doc/stable/reference/generated/numpy.ndarray.html) of evenly spaced elements between `start` and `stop` where `step` is the difference between consecutive elements. By default, `start=0` and `step=1`. `stop` is not included.\n",
    "\n",
    "However, [`numpy.arange()`](https://numpy.org/doc/stable/reference/generated/numpy.arange.html#numpy.arange) can use floating-point numbers, while python's `range()` function can not.\n",
    "\n",
    "_Note: this is a simplified function signature, follow the documentation link to see the full function signature._"
   ]
  },
  {
   "cell_type": "markdown",
   "metadata": {},
   "source": [
    "##### Example\n",
    "\n",
    "Let's create some NumPy arrays with [`numpy.arange()`](https://numpy.org/doc/stable/reference/generated/numpy.arange.html#numpy.arange) and compare them to arrays created from python lists initialised with `range()`:\n",
    "- all numbers between 0 and 10:"
   ]
  },
  {
   "cell_type": "code",
   "execution_count": 13,
   "metadata": {},
   "outputs": [
    {
     "name": "stdout",
     "output_type": "stream",
     "text": [
      "[0 1 2 3 4 5 6 7 8 9]\n",
      "[0 1 2 3 4 5 6 7 8 9]\n"
     ]
    }
   ],
   "source": [
    "print(np.arange(10))\n",
    "\n",
    "print(np.array(range(10)))"
   ]
  },
  {
   "cell_type": "markdown",
   "metadata": {},
   "source": [
    "- all even numbers between 10 and 20:"
   ]
  },
  {
   "cell_type": "code",
   "execution_count": 14,
   "metadata": {},
   "outputs": [
    {
     "name": "stdout",
     "output_type": "stream",
     "text": [
      "[ 5  6  7  8  9 10 11 12 13 14]\n",
      "[ 5  6  7  8  9 10 11 12 13 14]\n"
     ]
    }
   ],
   "source": [
    "print(np.arange(5, 15))\n",
    "print(np.array(range(5, 15)))"
   ]
  },
  {
   "cell_type": "markdown",
   "metadata": {},
   "source": [
    "And here is an an example of using [`numpy.arange()`](https://numpy.org/doc/stable/reference/generated/numpy.arange.html#numpy.arange) which can not be emulated with `range()`."
   ]
  },
  {
   "cell_type": "code",
   "execution_count": 12,
   "metadata": {},
   "outputs": [
    {
     "name": "stdout",
     "output_type": "stream",
     "text": [
      "[2.  1.9 1.8 1.7 1.6 1.5 1.4 1.3 1.2 1.1]\n"
     ]
    }
   ],
   "source": [
    "print(np.arange(2, 1, -0.1))"
   ]
  },
  {
   "cell_type": "markdown",
   "metadata": {},
   "source": [
    "Instead of specifying the step, [`numpy.linspace()`](https://numpy.org/doc/stable/reference/generated/numpy.linspace.html#numpy.linspace) allows you to specify the number of elements between the first and the last:\n",
    "> `numpy.linspace(start, stop, num=50, endpoint=True)`\n",
    ">\n",
    "> Returns an array of `num` evenly spaced elements between `start` and `stop`. If `endpoint=True` (default), `stop` is included in the array, otherwise it is not.\n",
    "\n",
    "_Note: this is a simplified function signature, follow the documentation link to see the full function signature._"
   ]
  },
  {
   "cell_type": "markdown",
   "metadata": {},
   "source": [
    "##### Example\n",
    "\n",
    "Creating different NumPy arrays with [`numpy.linspace()`](https://numpy.org/doc/stable/reference/generated/numpy.linspace.html#numpy.linspace).\n",
    "- 10 evenly spaced numbers between 1 and 10:"
   ]
  },
  {
   "cell_type": "code",
   "execution_count": 29,
   "metadata": {},
   "outputs": [
    {
     "name": "stdout",
     "output_type": "stream",
     "text": [
      "[ 1.  2.  3.  4.  5.  6.  7.  8.  9. 10.]\n"
     ]
    }
   ],
   "source": [
    "print(np.linspace(1, 10, 10))"
   ]
  },
  {
   "cell_type": "markdown",
   "metadata": {},
   "source": [
    "- careful, requesting _20_ evenly spaced numbers between 1 and 10 might not have the expected result:"
   ]
  },
  {
   "cell_type": "code",
   "execution_count": 16,
   "metadata": {},
   "outputs": [
    {
     "name": "stdout",
     "output_type": "stream",
     "text": [
      "[ 1.          1.47368421  1.94736842  2.42105263  2.89473684  3.36842105\n",
      "  3.84210526  4.31578947  4.78947368  5.26315789  5.73684211  6.21052632\n",
      "  6.68421053  7.15789474  7.63157895  8.10526316  8.57894737  9.05263158\n",
      "  9.52631579 10.        ]\n"
     ]
    }
   ],
   "source": [
    "print(np.linspace(1, 10, 20))"
   ]
  },
  {
   "cell_type": "markdown",
   "metadata": {},
   "source": [
    "- you can take this into account by asking for 19 numbers:"
   ]
  },
  {
   "cell_type": "code",
   "execution_count": 17,
   "metadata": {},
   "outputs": [
    {
     "name": "stdout",
     "output_type": "stream",
     "text": [
      "[ 1.   1.5  2.   2.5  3.   3.5  4.   4.5  5.   5.5  6.   6.5  7.   7.5\n",
      "  8.   8.5  9.   9.5 10. ]\n"
     ]
    }
   ],
   "source": [
    "print(np.linspace(1, 10, 19))"
   ]
  },
  {
   "cell_type": "markdown",
   "metadata": {},
   "source": [
    "- you can also specify that the endpoint of the range is not included in the list:"
   ]
  },
  {
   "cell_type": "code",
   "execution_count": 23,
   "metadata": {},
   "outputs": [
    {
     "name": "stdout",
     "output_type": "stream",
     "text": [
      "[0.  0.5 1.  1.5 2.  2.5 3.  3.5 4.  4.5 5.  5.5 6.  6.5 7.  7.5 8.  8.5\n",
      " 9.  9.5]\n"
     ]
    }
   ],
   "source": [
    "print(np.linspace(0, 10, 20, endpoint=False))"
   ]
  },
  {
   "cell_type": "markdown",
   "metadata": {},
   "source": [
    "- using [`numpy.linspace()`](https://numpy.org/doc/stable/reference/generated/numpy.linspace.html#numpy.linspace) and [`numpy.arange()`](https://numpy.org/doc/stable/reference/generated/numpy.arange.html#numpy.arange) can often achieve the same result (but remember, arange never includes the end point):"
   ]
  },
  {
   "cell_type": "code",
   "execution_count": 27,
   "metadata": {},
   "outputs": [
    {
     "name": "stdout",
     "output_type": "stream",
     "text": [
      "[0.  0.1 0.2 0.3 0.4 0.5 0.6 0.7 0.8 0.9 1. ]\n",
      "[0.  0.1 0.2 0.3 0.4 0.5 0.6 0.7 0.8 0.9 1. ]\n"
     ]
    }
   ],
   "source": [
    "print(np.linspace(0, 1, 11))\n",
    "print(np.arange(0, 1.1, 0.1))"
   ]
  },
  {
   "cell_type": "markdown",
   "metadata": {},
   "source": [
    "- another example of the same output achieved with [`numpy.linspace()`](https://numpy.org/doc/stable/reference/generated/numpy.linspace.html#numpy.linspace) and [`numpy.arange()`](https://numpy.org/doc/stable/reference/generated/numpy.arange.html#numpy.arange):"
   ]
  },
  {
   "cell_type": "code",
   "execution_count": 28,
   "metadata": {},
   "outputs": [
    {
     "name": "stdout",
     "output_type": "stream",
     "text": [
      "[0.  0.1 0.2 0.3 0.4 0.5 0.6 0.7 0.8 0.9]\n",
      "[0.  0.1 0.2 0.3 0.4 0.5 0.6 0.7 0.8 0.9]\n"
     ]
    }
   ],
   "source": [
    "print(np.linspace(0, 1, 10, endpoint=False))\n",
    "print(np.arange(0, 1, 0.1))"
   ]
  },
  {
   "cell_type": "markdown",
   "metadata": {},
   "source": [
    "#### 2D and nD arrays\n",
    "\n",
    "To create [_arrays_](https://numpy.org/doc/stable/reference/generated/numpy.ndarray.html) of any shape containing all zeros, we can use [`numpy.zeros()`](https://numpy.org/doc/stable/reference/generated/numpy.zeros.html). Similarly, to create an [_array_](https://numpy.org/doc/stable/reference/generated/numpy.ndarray.html) of any shape filled with ones, use [`numpy.ones()`](https://numpy.org/doc/stable/reference/generated/numpy.ones.html).\n",
    "\n",
    "> `numpy.zeros(shape)`\n",
    ">\n",
    "> `numpy.ones(shape)`\n",
    ">\n",
    "> Returns a new [_array_](https://numpy.org/doc/stable/reference/generated/numpy.ndarray.html) filled with zeros/ones, of the given shape. Shape can be an int, or a tuple of ints.\n",
    "\n",
    "_Note: this is a simplified function signature, follow the documentation link to see the full function signature._\n",
    "\n",
    "Other similar functions worth checking out are [`numpy.empty()`](https://numpy.org/doc/stable/reference/generated/numpy.empty.html) and [`numpy.full()`](https://numpy.org/doc/stable/reference/generated/numpy.full.html)."
   ]
  },
  {
   "cell_type": "markdown",
   "metadata": {},
   "source": [
    "##### Example\n",
    "\n",
    "We create:\n",
    " - a 1D [_array_](https://numpy.org/doc/stable/reference/generated/numpy.ndarray.html) of length 3 filled with zeros"
   ]
  },
  {
   "cell_type": "code",
   "execution_count": 32,
   "metadata": {},
   "outputs": [
    {
     "name": "stdout",
     "output_type": "stream",
     "text": [
      "[0. 0. 0.]\n"
     ]
    }
   ],
   "source": [
    "print(np.zeros(3))"
   ]
  },
  {
   "cell_type": "markdown",
   "metadata": {},
   "source": [
    " - a 1D [_array_](https://numpy.org/doc/stable/reference/generated/numpy.ndarray.html) of length 2 filled with ones"
   ]
  },
  {
   "cell_type": "code",
   "execution_count": 30,
   "metadata": {},
   "outputs": [
    {
     "name": "stdout",
     "output_type": "stream",
     "text": [
      "[1. 1.]\n"
     ]
    }
   ],
   "source": [
    "print(np.ones(2))"
   ]
  },
  {
   "cell_type": "markdown",
   "metadata": {},
   "source": [
    " - a 2D [_array_](https://numpy.org/doc/stable/reference/generated/numpy.ndarray.html) of dimensions $3\\times2$ filled with zeros"
   ]
  },
  {
   "cell_type": "code",
   "execution_count": 31,
   "metadata": {},
   "outputs": [
    {
     "name": "stdout",
     "output_type": "stream",
     "text": [
      "[[0. 0.]\n",
      " [0. 0.]\n",
      " [0. 0.]]\n"
     ]
    }
   ],
   "source": [
    "print(np.zeros((3, 2)))"
   ]
  },
  {
   "cell_type": "markdown",
   "metadata": {},
   "source": [
    " - a 3D [_array_](https://numpy.org/doc/stable/reference/generated/numpy.ndarray.html) of dimensions $2\\times2\\times2$ (think of it as a cube) filled with ones"
   ]
  },
  {
   "cell_type": "code",
   "execution_count": 34,
   "metadata": {},
   "outputs": [
    {
     "name": "stdout",
     "output_type": "stream",
     "text": [
      "[[[1. 1.]\n",
      "  [1. 1.]]\n",
      "\n",
      " [[1. 1.]\n",
      "  [1. 1.]]]\n"
     ]
    }
   ],
   "source": [
    "print(np.ones((2,2,2)))"
   ]
  },
  {
   "cell_type": "markdown",
   "metadata": {},
   "source": [
    "We can also create an [_array_](https://numpy.org/doc/stable/reference/generated/numpy.ndarray.html) filled with _random numbers_ from the $[0.0, 1.0)$ interval using [`numpy.random.random_sample()`](https://numpy.org/doc/stable/reference/random/generated/numpy.random.random_sample.html). This function can also be used to get a random scalar (a single number).\n",
    "\n",
    "> `random.random_sample(shape=None)`\n",
    ">\n",
    ">  Returns an [_array_](https://numpy.org/doc/stable/reference/generated/numpy.ndarray.html) initialised with random numbers from $[0.0, 1.0)$ interval of the shape `shape`. If `shape` is `None`, returns a random scalar."
   ]
  },
  {
   "cell_type": "markdown",
   "metadata": {},
   "source": [
    "##### Example\n",
    "\n",
    "How can we use `numpy.random.random_sample()` to create:\n",
    "- a $3\\times2$ [_array_](https://numpy.org/doc/stable/reference/generated/numpy.ndarray.html) with random numbers from the $[0.0, 1.0)$ interval"
   ]
  },
  {
   "cell_type": "code",
   "execution_count": 36,
   "metadata": {},
   "outputs": [
    {
     "name": "stdout",
     "output_type": "stream",
     "text": [
      "[[0.4231998  0.1546934 ]\n",
      " [0.89591609 0.78740149]\n",
      " [0.54411568 0.27327126]]\n"
     ]
    }
   ],
   "source": [
    "print(np.random.random_sample((3, 2)))"
   ]
  },
  {
   "cell_type": "markdown",
   "metadata": {},
   "source": [
    "- a single random number (scalar) from the $[0.0, 1.0)$ interval"
   ]
  },
  {
   "cell_type": "code",
   "execution_count": 37,
   "metadata": {},
   "outputs": [
    {
     "name": "stdout",
     "output_type": "stream",
     "text": [
      "0.7509422736423254\n"
     ]
    }
   ],
   "source": [
    "print(np.random.random_sample())"
   ]
  },
  {
   "cell_type": "markdown",
   "metadata": {},
   "source": [
    "- a single random number from the $[5.0, 10.0)$ interval"
   ]
  },
  {
   "cell_type": "code",
   "execution_count": 39,
   "metadata": {},
   "outputs": [
    {
     "name": "stdout",
     "output_type": "stream",
     "text": [
      "7.178708862271536\n"
     ]
    }
   ],
   "source": [
    "# [0, 1) (*5)--> [0, 5) (+5)--> [5, 10)\n",
    "print(np.random.random_sample()*5 + 5)"
   ]
  },
  {
   "cell_type": "markdown",
   "metadata": {},
   "source": [
    "### Indexing NumPy arrays"
   ]
  },
  {
   "cell_type": "markdown",
   "metadata": {},
   "source": [
    "#### 1D arrays\n",
    "\n",
    "**For 1D [arrays](https://numpy.org/doc/stable/reference/generated/numpy.ndarray.html), indexing works the same as with python lists**. Let's show some of this functionality that works on both python lists and [**NumPy**](https://numpy.org/doc/stable/) [_arrays_](https://numpy.org/doc/stable/reference/generated/numpy.ndarray.html)."
   ]
  },
  {
   "cell_type": "markdown",
   "metadata": {},
   "source": [
    "##### Example\n",
    "We will create a python list `flist`, and a corresponding [**NumPy**](https://numpy.org/doc/stable/) [_array_](https://numpy.org/doc/stable/reference/generated/numpy.ndarray.html) `farray`, to showcase some of this functionality:"
   ]
  },
  {
   "cell_type": "code",
   "execution_count": 44,
   "metadata": {},
   "outputs": [],
   "source": [
    "flist = [0.5, 1.6, 2.7, 3.8, 9.1]\n",
    "farray = np.array(flist)"
   ]
  },
  {
   "cell_type": "markdown",
   "metadata": {},
   "source": [
    "- accessing a single element:"
   ]
  },
  {
   "cell_type": "code",
   "execution_count": 43,
   "metadata": {},
   "outputs": [
    {
     "name": "stdout",
     "output_type": "stream",
     "text": [
      "3.8 3.8\n"
     ]
    }
   ],
   "source": [
    "print(flist[3], farray[3])"
   ]
  },
  {
   "cell_type": "markdown",
   "metadata": {},
   "source": [
    "- accessing an element by relative indexing from the last element"
   ]
  },
  {
   "cell_type": "code",
   "execution_count": 41,
   "metadata": {},
   "outputs": [
    {
     "name": "stdout",
     "output_type": "stream",
     "text": [
      "3.8 3.8\n"
     ]
    }
   ],
   "source": [
    "print(flist[-2], farray[-2])"
   ]
  },
  {
   "cell_type": "markdown",
   "metadata": {},
   "source": [
    "- slicing"
   ]
  },
  {
   "cell_type": "code",
   "execution_count": 42,
   "metadata": {},
   "outputs": [
    {
     "name": "stdout",
     "output_type": "stream",
     "text": [
      "[1.6, 2.7] [1.6 2.7]\n"
     ]
    }
   ],
   "source": [
    "print(flist[1:3], farray[1:3])"
   ]
  },
  {
   "cell_type": "markdown",
   "metadata": {},
   "source": [
    "- combination of the above"
   ]
  },
  {
   "cell_type": "code",
   "execution_count": 46,
   "metadata": {},
   "outputs": [
    {
     "name": "stdout",
     "output_type": "stream",
     "text": [
      "[2.7, 3.8] [2.7 3.8]\n",
      "[1.6, 3.8] [1.6 3.8]\n"
     ]
    }
   ],
   "source": [
    "# slicing with back indexing\n",
    "print(flist[2:-1], farray[2:-1])\n",
    "\n",
    "# slicing with a step of 2 (skip every 2nd element)\n",
    "print(flist[1::2], farray[1::2])"
   ]
  },
  {
   "cell_type": "markdown",
   "metadata": {},
   "source": [
    "#### 2D and nD arrays\n",
    "\n",
    "However, **2D (or nD) [**NumPy**](https://numpy.org/doc/stable/) [arrays](https://numpy.org/doc/stable/reference/generated/numpy.ndarray.html) are indexed with comma separated arguments in the same square brackets**, while with a Python list, every argument goes into a separate bracket.\n",
    "\n",
    "This is because if `l` is a nested list (list of lists), then e.g. `l[3]` is a (non-nested) list. However, 1 2D [**NumPy**](https://numpy.org/doc/stable/) [_array_](https://numpy.org/doc/stable/reference/generated/numpy.ndarray.html) is single object, not a composite one, so both dimensions are indexed jointly."
   ]
  },
  {
   "cell_type": "markdown",
   "metadata": {},
   "source": [
    "##### Example"
   ]
  },
  {
   "cell_type": "code",
   "execution_count": 47,
   "metadata": {},
   "outputs": [
    {
     "name": "stdout",
     "output_type": "stream",
     "text": [
      "1\n",
      "1\n"
     ]
    }
   ],
   "source": [
    "# create a nested list and a corresponding numpy array\n",
    "list_nested = [[5, 1, 3],\n",
    "               [2, 7, 1],\n",
    "               [8, 1, 0],\n",
    "               [1, 5, 2]]\n",
    "array_2d = np.array(list_nested)\n",
    "\n",
    "# to access elements from a nested list,\n",
    "# you first index the row (\"which sub-list?\")\n",
    "# and then the column (\"which element of the sub-list\")\n",
    "# in separate square brackets [] :\n",
    "print(list_nested[1][2])\n",
    "\n",
    "# to access elements from a numpy array,\n",
    "# you index the row and column in the same\n",
    "# square brackets:\n",
    "print(array_2d[1,2])"
   ]
  },
  {
   "cell_type": "markdown",
   "metadata": {},
   "source": [
    "**[NumPy](https://numpy.org/doc/stable/) supports partial indexing** (e.g. specifying just the first dimension -- selecting only a single row from a 2D array) with the same syntax as with Python lists:"
   ]
  },
  {
   "cell_type": "code",
   "execution_count": 48,
   "metadata": {},
   "outputs": [
    {
     "name": "stdout",
     "output_type": "stream",
     "text": [
      "[2, 7, 1]\n",
      "[2 7 1]\n"
     ]
    }
   ],
   "source": [
    "print(list_nested[1])\n",
    "print(array_2d[1])"
   ]
  },
  {
   "cell_type": "markdown",
   "metadata": {},
   "source": [
    "However, in [NumPy](https://numpy.org/doc/stable/) we can also select a **single column**, or only **some columns**. A similar syntax gives unexpected results when applied directly to Python lists (you can't chain list slicing on Python lists)."
   ]
  },
  {
   "cell_type": "markdown",
   "metadata": {},
   "source": [
    "##### Example\n",
    "In this example, we first show how you can index the columns of [NumPy](https://numpy.org/doc/stable/) [_arrays_](https://numpy.org/doc/stable/reference/generated/numpy.ndarray.html), while a similar approach won't work for python lists (check the comments for a detailed explanation of why this syntax fails for python lists):"
   ]
  },
  {
   "cell_type": "code",
   "execution_count": 49,
   "metadata": {},
   "outputs": [
    {
     "name": "stdout",
     "output_type": "stream",
     "text": [
      "Select the middle column only (correct, NumPy array): [1 7 1 5]\n",
      "Select the middle column only (incorrect, Python list): [2, 7, 1]\n"
     ]
    }
   ],
   "source": [
    "# create a nested list and a corresponding array\n",
    "list_nested = [[5, 1, 3],\n",
    "               [2, 7, 1],\n",
    "               [8, 1, 0],\n",
    "               [1, 5, 2]]\n",
    "array_2d = np.array(list_nested)\n",
    "\n",
    "# You can easily index a column of a numpy array (middle column - index 1):\n",
    "print(\"Select the middle column only (correct, NumPy array):\", array_2d[:, 1])\n",
    "\n",
    "# However, a similar approach won't work for python lists.\n",
    "# A similar syntax on python lists actually first parses list_nested[:],\n",
    "# which just selects the whole list and is equal to list_nested\n",
    "# Then, it indexed the element at position 1 (0-indexed) from list_nested[:] (which is just list_nested)\n",
    "# So finally, list_nested[:][1] is same as list_nested[1], the first row, not column\n",
    "print(\"Select the middle column only (incorrect, Python list):\", list_nested[:][1])\n"
   ]
  },
  {
   "cell_type": "markdown",
   "metadata": {},
   "source": [
    "Similarly, you can also perform splicing on both the rows and columns of a [NumPy](https://numpy.org/doc/stable/) [_arrays_](https://numpy.org/doc/stable/reference/generated/numpy.ndarray.html), while a similar syntax wouldn't work for python lists:"
   ]
  },
  {
   "cell_type": "code",
   "execution_count": 50,
   "metadata": {},
   "outputs": [
    {
     "name": "stdout",
     "output_type": "stream",
     "text": [
      "Last two columns from first two rows (correct, Numpy array):\n",
      " [[1 3]\n",
      " [7 1]]\n",
      "Last two columns from first two rows (incorrect, Python list):\n",
      " [[5, 1, 3], [2, 7, 1]]\n"
     ]
    }
   ],
   "source": [
    "# Performing slicing on both rows and columns on a numpy array\n",
    "print(\"Last two columns from first two rows (correct, Numpy array):\\n\", array_2d[:2, -2:])\n",
    "\n",
    "# A similar approach doesn't work for python lists.\n",
    "# With python lists, list_nested[:2] selects the first two elements=rows, so is equal to [[5, 1, 3],[2, 7, 1]]\n",
    "# Then, list_nested[:2][-2:] selects the last two elements of the above list (which only has two elements)\n",
    "print(\"Last two columns from first two rows (incorrect, Python list):\\n\", list_nested[:2][-2:])"
   ]
  },
  {
   "cell_type": "markdown",
   "metadata": {},
   "source": [
    "We can also select only specific columns or rows within a [NumPy](https://numpy.org/doc/stable/) [_array_](https://numpy.org/doc/stable/reference/generated/numpy.ndarray.html).\n",
    "\n",
    "##### Example\n",
    "Select the first and third column."
   ]
  },
  {
   "cell_type": "code",
   "execution_count": 57,
   "metadata": {},
   "outputs": [
    {
     "name": "stdout",
     "output_type": "stream",
     "text": [
      "[[5 3]\n",
      " [2 1]\n",
      " [8 0]\n",
      " [1 2]]\n"
     ]
    }
   ],
   "source": [
    "print(array_2d[:, [0,2]])"
   ]
  },
  {
   "cell_type": "markdown",
   "metadata": {},
   "source": [
    "##### Example\n",
    "\n",
    "This can be used to re-order the rows or columns of an [_array_](https://numpy.org/doc/stable/reference/generated/numpy.ndarray.html). Re-arrangeing the `array_2d` to:\n",
    "- change the row order (0-indexed) from $0, 1, 2, 3$ to $2, 3, 0, 1$"
   ]
  },
  {
   "cell_type": "code",
   "execution_count": 53,
   "metadata": {},
   "outputs": [
    {
     "name": "stdout",
     "output_type": "stream",
     "text": [
      "[[8 1 0]\n",
      " [1 5 2]\n",
      " [5 1 3]\n",
      " [2 7 1]]\n"
     ]
    }
   ],
   "source": [
    "list_nested = [[5, 1, 3],\n",
    "               [2, 7, 1],\n",
    "               [8, 1, 0],\n",
    "               [1, 5, 2]]   \n",
    "array_2d = np.array(list_nested)\n",
    "#print(array_2d)\n",
    "print(array_2d[[2, 3, 0, 1]])"
   ]
  },
  {
   "cell_type": "markdown",
   "metadata": {},
   "source": [
    "- change the column-order (0-indexed) from $0, 1, 2$ to $1, 2, 0$"
   ]
  },
  {
   "cell_type": "code",
   "execution_count": 54,
   "metadata": {},
   "outputs": [
    {
     "name": "stdout",
     "output_type": "stream",
     "text": [
      "[[1 3 5]\n",
      " [7 1 2]\n",
      " [1 0 8]\n",
      " [5 2 1]]\n"
     ]
    }
   ],
   "source": [
    "print(array_2d[:, [1, 2, 0]])"
   ]
  },
  {
   "cell_type": "markdown",
   "metadata": {},
   "source": [
    "We can also index [NumPy](https://numpy.org/doc/stable/) [_arrays_](https://numpy.org/doc/stable/reference/generated/numpy.ndarray.html) using a list of _boolean_ values (of the same length as the corresponding dimension/axis of the array). This list of _boolean_ values is often referred to as a **mask**, instructing [NumPy](https://numpy.org/doc/stable/) which rows/columns to index and which not to.\n",
    "\n",
    "##### Example\n",
    "This can also be used to select only certain columns from an [_array_](https://numpy.org/doc/stable/reference/generated/numpy.ndarray.html). Selecting only:\n",
    "- rows (0-indexed) $0, 2$:"
   ]
  },
  {
   "cell_type": "code",
   "execution_count": 58,
   "metadata": {},
   "outputs": [
    {
     "name": "stdout",
     "output_type": "stream",
     "text": [
      "[[5 1 3]\n",
      " [8 1 0]]\n",
      "[[5 1 3]\n",
      " [8 1 0]]\n"
     ]
    }
   ],
   "source": [
    "# with boolean values\n",
    "print(array_2d[[True, False, True, False]])\n",
    "\n",
    "# remember, we can achieve a similar thing directly indexing rows 0 and 2:\n",
    "print(array_2d[[0,2]])"
   ]
  },
  {
   "cell_type": "markdown",
   "metadata": {},
   "source": [
    "- columns $0, 1$:"
   ]
  },
  {
   "cell_type": "code",
   "execution_count": 59,
   "metadata": {},
   "outputs": [
    {
     "name": "stdout",
     "output_type": "stream",
     "text": [
      "[[5 1]\n",
      " [2 7]\n",
      " [8 1]\n",
      " [1 5]]\n",
      "[[5 1]\n",
      " [2 7]\n",
      " [8 1]\n",
      " [1 5]]\n"
     ]
    }
   ],
   "source": [
    "# with boolean values\n",
    "print(array_2d[:, [True, True, False]])\n",
    "\n",
    "# or directly indexing columns\n",
    "print(array_2d[:, [0, 1]])"
   ]
  },
  {
   "cell_type": "markdown",
   "metadata": {},
   "source": [
    "#### Mask indexing\n",
    "\n",
    "However, indexing [NumPy](https://numpy.org/doc/stable/) [_arrays_](https://numpy.org/doc/stable/reference/generated/numpy.ndarray.html) using _boolean lists_ is very powerful, if you think of them as **masks**. This is because it is possible to **construct masks based on logical operators**, which are calculated on our original [_array_](https://numpy.org/doc/stable/reference/generated/numpy.ndarray.html). \n",
    "\n",
    "For example, we create an [_array_](https://numpy.org/doc/stable/reference/generated/numpy.ndarray.html) containing 100 random numbers between $0$ and $1$, and then select only the elements which are greater than a certain value, e.g. $0.5$:"
   ]
  },
  {
   "cell_type": "code",
   "execution_count": 61,
   "metadata": {},
   "outputs": [
    {
     "name": "stdout",
     "output_type": "stream",
     "text": [
      "[ True  True False False False  True  True False False False  True False\n",
      " False  True False  True  True False False  True  True  True  True  True\n",
      " False False False  True False  True  True  True False False False  True\n",
      " False  True  True False False  True  True  True  True False  True  True\n",
      "  True False  True False  True  True False  True False  True  True  True\n",
      " False False  True False  True  True  True False False False False  True\n",
      " False  True  True  True False  True  True False  True False  True  True\n",
      " False  True  True  True False False  True  True  True  True False  True\n",
      " False False False False]\n",
      "[0.55745361 0.58563705 0.80510558 0.5470383  0.97769603 0.63769222\n",
      " 0.67443581 0.91000532 0.79743828 0.69046491 0.63045057 0.77359459\n",
      " 0.9676163  0.83451198 0.6509786  0.78357799 0.53471326 0.78783467\n",
      " 0.60604922 0.66135947 0.91329615 0.56180666 0.63718939 0.52723785\n",
      " 0.90662316 0.68421641 0.78456469 0.50948199 0.75780893 0.70895903\n",
      " 0.89417158 0.73317513 0.74225943 0.86538064 0.60082574 0.95141342\n",
      " 0.942574   0.88394822 0.77253068 0.58731989 0.9327436  0.80599789\n",
      " 0.79309604 0.59391796 0.77958173 0.99801216 0.8519203  0.83446323\n",
      " 0.86058159 0.75013756 0.54715822 0.56460827 0.56606914 0.65883378\n",
      " 0.9239247 ]\n",
      "(55,)\n"
     ]
    }
   ],
   "source": [
    "# create an array containing 100 random numbers between 0 and 1\n",
    "many_numbers = np.random.random_sample(100)\n",
    "#print(many_numbers)\n",
    "\n",
    "# determine the mask containing the positions of numbers greater than 0.5\n",
    "big_number_positions = many_numbers > 0.5\n",
    "\n",
    "# as we can see, this mask is a boolean array with 100 elements:\n",
    "print(big_number_positions)\n",
    "\n",
    "# we can now use this mask to index only the numbers greater than 0.5:\n",
    "print(many_numbers[big_number_positions])\n",
    "\n",
    "# you can also do mask indexing directly, without storing the\n",
    "# mask in a separate variable:\n",
    "less_numbers = many_numbers[many_numbers > 0.5]\n",
    "print(less_numbers.shape)"
   ]
  },
  {
   "cell_type": "markdown",
   "metadata": {},
   "source": [
    "In general, comparing a [NumPy](https://numpy.org/doc/stable/) [_array_](https://numpy.org/doc/stable/reference/generated/numpy.ndarray.html) to a number produces a **mask array**.\n",
    "\n",
    "> A *mask array* is an [_array_](https://numpy.org/doc/stable/reference/generated/numpy.ndarray.html) containing only _boolean_ (`True`/`False`) values. \n",
    "> It can be used to index any [_array_](https://numpy.org/doc/stable/reference/generated/numpy.ndarray.html) of the same shape.\n",
    "\n",
    "This means we can use a mask [_array_](https://numpy.org/doc/stable/reference/generated/numpy.ndarray.html) to index the original [_array_](https://numpy.org/doc/stable/reference/generated/numpy.ndarray.html) used to create the mask (like above), but also a different [_array_](https://numpy.org/doc/stable/reference/generated/numpy.ndarray.html)."
   ]
  },
  {
   "cell_type": "markdown",
   "metadata": {},
   "source": [
    "##### Example\n",
    "\n",
    "This example shows:\n",
    "- creating an [_array_](https://numpy.org/doc/stable/reference/generated/numpy.ndarray.html) of ordered numbers between 0 and 99 `sequential_numbers`\n",
    "- creating a mask based on the [_array_](https://numpy.org/doc/stable/reference/generated/numpy.ndarray.html) of random numbers from the previous example (`many_numbers`); this [_array_](https://numpy.org/doc/stable/reference/generated/numpy.ndarray.html) will be `True` where the element of `many_numbers` is higher than $0.8$, `False` otherwise\n",
    "- select all elements of the ordered [_array_](https://numpy.org/doc/stable/reference/generated/numpy.ndarray.html) `sequential_numbers` where the corresponding element of `many_numbers` is larger than $0.8$"
   ]
  },
  {
   "cell_type": "code",
   "execution_count": 62,
   "metadata": {},
   "outputs": [
    {
     "name": "stdout",
     "output_type": "stream",
     "text": [
      "[ 0  1  2  3  4  5  6  7  8  9 10 11 12 13 14 15 16 17 18 19 20 21 22 23\n",
      " 24 25 26 27 28 29 30 31 32 33 34 35 36 37 38 39 40 41 42 43 44 45 46 47\n",
      " 48 49 50 51 52 53 54 55 56 57 58 59 60 61 62 63 64 65 66 67 68 69 70 71\n",
      " 72 73 74 75 76 77 78 79 80 81 82 83 84 85 86 87 88 89 90 91 92 93 94 95\n",
      " 96 97 98 99]\n",
      "[ 5 10 16 23 27 41 46 55 59 64 65 66 74 75 82 83 85 86 95] (19,)\n"
     ]
    }
   ],
   "source": [
    "sequential_numbers = np.arange(100)\n",
    "print(sequential_numbers)\n",
    "mask = many_numbers > 0.8\n",
    "sequential_numbers[mask]\n",
    "print(sequential_numbers[mask], sequential_numbers[mask].shape)"
   ]
  },
  {
   "cell_type": "markdown",
   "metadata": {},
   "source": [
    "A **one-dimensional mask can also be used to index a 2D [array](https://numpy.org/doc/stable/reference/generated/numpy.ndarray.html)**, and retrieve only rows of interest:\n",
    "\n",
    "_Note: When working with data, **rows** often correspond to individual samples (e.g. one customer, one product), while the **columns** correspond to measured/monitored characteristics (e.g. age, average monthly spend, price...)._"
   ]
  },
  {
   "cell_type": "code",
   "execution_count": 63,
   "metadata": {},
   "outputs": [
    {
     "name": "stdout",
     "output_type": "stream",
     "text": [
      "[[ 0.5 10.   1.7]\n",
      " [ 0.2 15.   6.3]\n",
      " [ 0.3 15.   6.8]]\n"
     ]
    }
   ],
   "source": [
    "samples = np.array([[0.5, 10, 1.7],\n",
    "                    [0.2, 15, 6.3],\n",
    "                    [0.7, 17, 5.2],\n",
    "                    [0.1, 12, 2.8],\n",
    "                    [0.3, 15, 6.8]])\n",
    "labels = np.array(['A', 'A', 'B', 'B', 'A'])\n",
    "mask = (labels == 'A')\n",
    "#mask = [True, True, False, False, True]\n",
    "#print(mask)\n",
    "print(samples[mask])"
   ]
  },
  {
   "cell_type": "markdown",
   "metadata": {},
   "source": [
    "##### Examples"
   ]
  },
  {
   "cell_type": "markdown",
   "metadata": {},
   "source": [
    "A more complex example -- selecting all rows where the second column is higher equal to 15:"
   ]
  },
  {
   "cell_type": "code",
   "execution_count": 108,
   "metadata": {},
   "outputs": [
    {
     "name": "stdout",
     "output_type": "stream",
     "text": [
      "[[ 0.2 15.   6.3]\n",
      " [ 0.7 17.   5.2]\n",
      " [ 0.3 15.   6.8]]\n",
      "[[ 0.2 15.   6.3]\n",
      " [ 0.7 17.   5.2]\n",
      " [ 0.3 15.   6.8]]\n"
     ]
    }
   ],
   "source": [
    "mask = (samples[:,1] >= 15)\n",
    "print(samples[mask])\n",
    "\n",
    "print(samples[samples[:, 1] >= 15])\n",
    "\n",
    "#print(samples[mask]) # equal to samples[mask, :]"
   ]
  },
  {
   "cell_type": "markdown",
   "metadata": {},
   "source": [
    "Or the reverse: select (all the rows from) all the columns where the third row is higher than 5:"
   ]
  },
  {
   "cell_type": "code",
   "execution_count": 112,
   "metadata": {},
   "outputs": [
    {
     "name": "stdout",
     "output_type": "stream",
     "text": [
      "[[10.   1.7]\n",
      " [15.   6.3]\n",
      " [17.   5.2]\n",
      " [12.   2.8]\n",
      " [15.   6.8]]\n",
      "[[10.   1.7]\n",
      " [15.   6.3]\n",
      " [17.   5.2]\n",
      " [12.   2.8]\n",
      " [15.   6.8]]\n"
     ]
    }
   ],
   "source": [
    "mask = samples[2] > 5\n",
    "print(samples[:, mask])\n",
    "\n",
    "print(samples[:, samples[2] > 5])"
   ]
  },
  {
   "cell_type": "markdown",
   "metadata": {},
   "source": [
    "**Masks can also be combined.** Selecting all rows where the second column is higher than 16 or the first column is higher than 0.4:"
   ]
  },
  {
   "cell_type": "code",
   "execution_count": 114,
   "metadata": {},
   "outputs": [
    {
     "name": "stdout",
     "output_type": "stream",
     "text": [
      "[[ 0.2 15.   6.3]\n",
      " [ 0.7 17.   5.2]\n",
      " [ 0.3 15.   6.8]]\n"
     ]
    }
   ],
   "source": [
    "mask = (samples[:, 1] > 14) & (samples[:, 0] < 20)\n",
    "\n",
    "\n",
    "print(samples[mask]) # print(samples[mask])"
   ]
  },
  {
   "cell_type": "markdown",
   "metadata": {},
   "source": [
    "All columns where first row is higher than 0.1 and last row is lower than than 10:"
   ]
  },
  {
   "cell_type": "code",
   "execution_count": 115,
   "metadata": {},
   "outputs": [
    {
     "name": "stdout",
     "output_type": "stream",
     "text": [
      "[[0.5 1.7]\n",
      " [0.2 6.3]\n",
      " [0.7 5.2]\n",
      " [0.1 2.8]\n",
      " [0.3 6.8]]\n"
     ]
    }
   ],
   "source": [
    "mask = (samples[0, :] > 0.1) & (samples[-1, :] < 10)\n",
    "print(samples[:, mask])"
   ]
  },
  {
   "cell_type": "markdown",
   "metadata": {},
   "source": [
    "### Combining NumPy arrays\n",
    "\n",
    "We have now shown how to select only parts of [NumPy](https://numpy.org/doc/stable/) [_arrays_](https://numpy.org/doc/stable/reference/generated/numpy.ndarray.html). How can we join them together?\n",
    "\n",
    "The function [`numpy.concatenate()`](https://numpy.org/doc/stable/reference/generated/numpy.concatenate.html) can be used to join two or more arrays, along any axis (the first, by default):\n",
    "\n",
    "> `numpy.concatenate((a1, a2, ...), axis=0)`\n",
    ">\n",
    "> Returns a new [_array_](https://numpy.org/doc/stable/reference/generated/numpy.ndarray.html) joining the [_arrays_](https://numpy.org/doc/stable/reference/generated/numpy.ndarray.html) `a1`, `a2`, ... along `axis`  (first by default)."
   ]
  },
  {
   "cell_type": "code",
   "execution_count": 64,
   "metadata": {},
   "outputs": [
    {
     "name": "stdout",
     "output_type": "stream",
     "text": [
      "[[ 1  2  3]\n",
      " [ 2  3  4]\n",
      " [10 11 12]\n",
      " [11 12 13]]\n",
      "\n",
      "[[ 1  2  3 10 11 12]\n",
      " [ 2  3  4 11 12 13]]\n"
     ]
    }
   ],
   "source": [
    "a = np.array([[1, 2, 3],\n",
    "              [2, 3, 4]])\n",
    "b = np.array([[10, 11, 12],\n",
    "              [11, 12, 13]])\n",
    "#print(a)\n",
    "#print(b)\n",
    "\n",
    "c = np.concatenate((a, b)) # same as np.concatenate((a, b), axis=0)\n",
    "print(c)\n",
    "print()\n",
    "\n",
    "d = np.concatenate((a,c,b), axis=0)\n",
    "#print(d)\n",
    "#print()\n",
    "\n",
    "e = np.concatenate((a, b), axis=1)\n",
    "print(e)"
   ]
  },
  {
   "cell_type": "markdown",
   "metadata": {},
   "source": [
    "##### Example\n",
    "\n",
    "Let's look at the sample [_array_](https://numpy.org/doc/stable/reference/generated/numpy.ndarray.html) again, and re-arrange it so that it first contains samples with the label -1, followed by all samples with the label 1:"
   ]
  },
  {
   "cell_type": "code",
   "execution_count": 65,
   "metadata": {},
   "outputs": [
    {
     "name": "stdout",
     "output_type": "stream",
     "text": [
      "[[ 0.5 10.   1.7]\n",
      " [ 0.2 15.   6.3]\n",
      " [ 0.3 15.   6.8]\n",
      " [ 0.7 17.   5.2]\n",
      " [ 0.1 12.   2.8]]\n"
     ]
    }
   ],
   "source": [
    "samples = np.array([[0.5, 10, 1.7],\n",
    "                    [0.2, 15, 6.3],\n",
    "                    [0.7, 17, 5.2],\n",
    "                    [0.1, 12, 2.8],\n",
    "                    [0.3, 15, 6.8]])\n",
    "labels = np.array([-1, -1, 1, 1, -1])\n",
    "\n",
    "# select only samples where the label is -1\n",
    "neg = samples[labels == -1]\n",
    "# and only samples where the label is +1\n",
    "pos = samples[labels ==  1]\n",
    "\n",
    "# then, create a rearranged array where the positive samples follow the negative\n",
    "rearranged = np.concatenate((neg, pos))\n",
    "print(rearranged)"
   ]
  },
  {
   "cell_type": "markdown",
   "metadata": {},
   "source": [
    "What if we just want to add a new sample, e.g. $[0.2, 13, 4.1]$ to the list of samples?\n",
    "\n",
    "We could use for example [`np.vstack()`](https://numpy.org/doc/stable/reference/generated/numpy.vstack.html):\n",
    "> `numpy.vstack((a1, a2, ...))`\n",
    ">\n",
    "> Returns an new array with `a1`, `a2`, ... combined along the _vertical_ (first) axis. It will \"reshape\" 1D arrays of shape (N,) into shape (1, N).\n",
    "\n",
    "There are many other functions for combining arrays. [`numpy.concatenate()`](https://numpy.org/doc/stable/reference/generated/numpy.concatenate.html#numpy.concatenate) and [`numpy.stack()`](https://numpy.org/doc/stable/reference/generated/numpy.stack.html#numpy.stack) are more general, while [`numpy.vstack()`](https://numpy.org/doc/stable/reference/generated/numpy.vstack.html), [`numpy.hstack()`](https://numpy.org/doc/stable/reference/generated/numpy.hstack.html#numpy.hstack) and [`numpy.dstack()`](https://numpy.org/doc/stable/reference/generated/numpy.dstack.html#numpy.dstack) are for specific use-cases."
   ]
  },
  {
   "cell_type": "markdown",
   "metadata": {},
   "source": [
    "##### Example\n",
    "\n",
    "Let's add a new sample `[0.2, 13, 4.1]` to the above array `samples`:\n",
    "- using `numpy.vstack()`,\n",
    "- using `numpy.concatenate()`."
   ]
  },
  {
   "cell_type": "code",
   "execution_count": 66,
   "metadata": {},
   "outputs": [
    {
     "name": "stdout",
     "output_type": "stream",
     "text": [
      "[[ 0.5 10.   1.7]\n",
      " [ 0.2 15.   6.3]\n",
      " [ 0.7 17.   5.2]\n",
      " [ 0.1 12.   2.8]\n",
      " [ 0.3 15.   6.8]\n",
      " [ 0.2 13.   4.1]]\n",
      "[[ 0.5 10.   1.7]\n",
      " [ 0.2 15.   6.3]\n",
      " [ 0.7 17.   5.2]\n",
      " [ 0.1 12.   2.8]\n",
      " [ 0.3 15.   6.8]\n",
      " [ 0.2 13.   4.1]]\n"
     ]
    }
   ],
   "source": [
    "new_sample = np.array([0.2, 13, 4.1])\n",
    "\n",
    "# with vstack, we can directly add a new row to the array\n",
    "print(np.vstack((samples, new_sample)))\n",
    "\n",
    "# concatenate combines two arrays, so we have to nest the sample inside brackets [] :\n",
    "print(np.concatenate((samples, [new_sample])))"
   ]
  },
  {
   "cell_type": "markdown",
   "metadata": {},
   "source": [
    "## Operations with arrays\n",
    "\n",
    "[NumPy](https://numpy.org/doc/stable/) provides functionality of operations on [_arrays_](https://numpy.org/doc/stable/reference/generated/numpy.ndarray.html). This refers to **operations that change the data in the [_arrays_](https://numpy.org/doc/stable/reference/generated/numpy.ndarray.html)**. "
   ]
  },
  {
   "cell_type": "markdown",
   "metadata": {},
   "source": [
    "### Operations between [_arrays_](https://numpy.org/doc/stable/reference/generated/numpy.ndarray.html) and numbers\n",
    "\n",
    "[NumPy](https://numpy.org/doc/stable/) supports element-wise addition, subtraction, multiplication and division by a scalar (number)."
   ]
  },
  {
   "cell_type": "markdown",
   "metadata": {},
   "source": [
    "##### Examples\n",
    "\n",
    "Let's show some examples on 1D and 2D [_arrays_](https://numpy.org/doc/stable/reference/generated/numpy.ndarray.html) and compare them to list-comprehension on python lists.\n",
    "\n",
    "We can see that using performing the same operation on [NumPy](https://numpy.org/doc/stable/) [_arrays_](https://numpy.org/doc/stable/reference/generated/numpy.ndarray.html) has a much simpler syntax. This is more obvious for more complex examples. Let's show a list of increasingly complex operations between [_arrays_](https://numpy.org/doc/stable/reference/generated/numpy.ndarray.html), lists and numbers:\n",
    "- adding a number to all elements of a 1D [_array_](https://numpy.org/doc/stable/reference/generated/numpy.ndarray.html) compared to the same operation using list comperhension on a single list:"
   ]
  },
  {
   "cell_type": "code",
   "execution_count": 132,
   "metadata": {},
   "outputs": [
    {
     "name": "stdout",
     "output_type": "stream",
     "text": [
      "[2.5, 3.6, 4.7, 5.8, 11.1]\n",
      "[ 2.5  3.6  4.7  5.8 11.1]\n"
     ]
    }
   ],
   "source": [
    "flist = [0.5, 1.6, 2.7, 3.8, 9.1]\n",
    "farray = np.array(flist)\n",
    "\n",
    "flist = [e+2 for e in flist]\n",
    "\n",
    "farray += 2\n",
    "\n",
    "print(flist)\n",
    "print(farray)"
   ]
  },
  {
   "cell_type": "markdown",
   "metadata": {},
   "source": [
    "- adding a number of all elements of a 2D [_array_](https://numpy.org/doc/stable/reference/generated/numpy.ndarray.html) is even simpler compared to doing the same with list comperhension for a nested list:"
   ]
  },
  {
   "cell_type": "code",
   "execution_count": 133,
   "metadata": {},
   "outputs": [
    {
     "name": "stdout",
     "output_type": "stream",
     "text": [
      "[[10  6  8]\n",
      " [ 7 12  6]\n",
      " [13  6  5]]\n",
      "[[10, 6, 8], [7, 12, 6], [13, 6, 5]]\n"
     ]
    }
   ],
   "source": [
    "nlist = [[5, 1, 3],\n",
    "         [2, 7, 1],\n",
    "         [8, 1, 0]]\n",
    "\n",
    "narray = np.array(nlist)\n",
    "\n",
    "narray = narray+5\n",
    "\n",
    "nlist = [[num+5 for num in line] for line in nlist]\n",
    "\n",
    "print(narray)\n",
    "print(nlist)"
   ]
  },
  {
   "cell_type": "markdown",
   "metadata": {},
   "source": [
    "### Operations between arrays and arrays\n",
    "\n",
    "With the same syntax, we can perform addition and subraction between [_arrays_](https://numpy.org/doc/stable/reference/generated/numpy.ndarray.html). As above, as the complexity of our operations increases, the advantage of [NumPy](https://numpy.org/doc/stable/) over basic python lists becomes more clear:"
   ]
  },
  {
   "cell_type": "markdown",
   "metadata": {},
   "source": [
    "##### Example\n",
    "\n",
    "Adding two 1D [_arrays_](https://numpy.org/doc/stable/reference/generated/numpy.ndarray.html) of the same length together with [NumPy](https://numpy.org/doc/stable/) and using python list comperhension."
   ]
  },
  {
   "cell_type": "code",
   "execution_count": 67,
   "metadata": {},
   "outputs": [
    {
     "name": "stdout",
     "output_type": "stream",
     "text": [
      "[2.2, 3.7, 12.7, 7.3, 15.3]\n",
      "[ 2.2  3.7 12.7  7.3 15.3]\n"
     ]
    }
   ],
   "source": [
    "flist = [0.5, 1.6, 2.7, 3.8, 9.1]\n",
    "farray = np.array(flist)\n",
    "\n",
    "flist2 = [1.7, 2.1, 10.0, 3.5, 6.2]\n",
    "farray2 = np.array(flist2)\n",
    "\n",
    "flsum = [e1 + e2 for e1, e2 in zip(flist, flist2)]\n",
    "fasum = farray + farray2\n",
    "\n",
    "print(flsum)\n",
    "print(fasum)"
   ]
  },
  {
   "cell_type": "markdown",
   "metadata": {},
   "source": [
    "##### Example\n",
    "\n",
    "We can also do operations between two 2D [_arrays_](https://numpy.org/doc/stable/reference/generated/numpy.ndarray.html) (matrices) easily in NumPy, where Python list comperhension gets quite complicated."
   ]
  },
  {
   "cell_type": "code",
   "execution_count": 68,
   "metadata": {},
   "outputs": [
    {
     "name": "stdout",
     "output_type": "stream",
     "text": [
      "[[6, 3, 6], [6, 12, 7], [15, 9, 9]]\n",
      "[[ 6  3  6]\n",
      " [ 6 12  7]\n",
      " [15  9  9]]\n"
     ]
    }
   ],
   "source": [
    "nlist = [[5, 1, 3],\n",
    "         [2, 7, 1],\n",
    "         [8, 1, 0]]\n",
    "\n",
    "narray = np.array(nlist)\n",
    "nlist2 = [[1, 2, 3],\n",
    "          [4, 5, 6],\n",
    "          [7, 8, 9]]\n",
    "narray2 = np.array(nlist2)\n",
    "\n",
    "nlsum = [[n1+n2 for n1, n2 in zip(l1, l2)] for l1, l2 in zip(nlist, nlist2)]\n",
    "nasum = narray+narray2\n",
    "\n",
    "print(nlsum)\n",
    "print(nasum)"
   ]
  },
  {
   "cell_type": "markdown",
   "metadata": {},
   "source": [
    "##### Example\n",
    "\n",
    "All elements of [NumPy](https://numpy.org/doc/stable/) we have shown so far interact. For example, we can combine operations on [_arrays_](https://numpy.org/doc/stable/reference/generated/numpy.ndarray.html) together with mask-indexing to produce a more complex mask selection.\n",
    "\n",
    "In this example, we select all rows from an [_array_](https://numpy.org/doc/stable/reference/generated/numpy.ndarray.html) where the sum of the 2nd and 3rd column is higher than 10:"
   ]
  },
  {
   "cell_type": "code",
   "execution_count": 71,
   "metadata": {},
   "outputs": [
    {
     "name": "stdout",
     "output_type": "stream",
     "text": [
      "[[ 4  7  4  1]\n",
      " [ 3  9  2  3]\n",
      " [ 5 12  0  1]]\n"
     ]
    }
   ],
   "source": [
    "myarray = np.array([[1, 5, 2, 5],\n",
    "                    [4, 7, 4, 1],\n",
    "                    [3, 9, 2, 3],\n",
    "                    [5, 12, 0, 1],\n",
    "                    [3, 4, 5, 3]])\n",
    "mask = (myarray[:, 1] + myarray[:, 2]) > 10\n",
    "print(myarray[mask])\n",
    "# This can also be done directly in one line as:\n",
    "#print(myarray[myarray[:, 1]+myarray[:, 2] > 10])"
   ]
  },
  {
   "cell_type": "markdown",
   "metadata": {},
   "source": [
    "## Analysing data\n",
    "\n",
    "So far we have shown binary operations between [_arrays_](https://numpy.org/doc/stable/reference/generated/numpy.ndarray.html) and numbers (_math: matrices and scalars_), and binary operations on arrays (addition, subtraction, multiplication).\n",
    "\n",
    "Now, let's showcase some NumPy functionality which is typicaly applied not to whole [_arrays_](https://numpy.org/doc/stable/reference/generated/numpy.ndarray.html), but rather individual **axis** (dimensions) of an [_array_](https://numpy.org/doc/stable/reference/generated/numpy.ndarray.html). These can often help us summarise our data.\n",
    "\n",
    "We'll start work on a square 5x7 [_array_](https://numpy.org/doc/stable/reference/generated/numpy.ndarray.html) of random numbers:"
   ]
  },
  {
   "cell_type": "code",
   "execution_count": 72,
   "metadata": {},
   "outputs": [
    {
     "name": "stdout",
     "output_type": "stream",
     "text": [
      "[[0.93069611 0.2740849  0.81099762 0.7488599  0.1035448  0.12187852]\n",
      " [0.79732488 0.59416377 0.27161424 0.31343012 0.52251548 0.72937514]\n",
      " [0.3481141  0.290982   0.2460256  0.71982228 0.65326331 0.18355738]\n",
      " [0.66245286 0.70495429 0.03185434 0.38100865 0.68634185 0.13236255]]\n"
     ]
    }
   ],
   "source": [
    "A = np.random.random_sample((4, 6))\n",
    "print(A)"
   ]
  },
  {
   "cell_type": "markdown",
   "metadata": {},
   "source": [
    "##### Example\n",
    "\n",
    "Let us find the maximal value in each row, in each column, and in the whole [_array_](https://numpy.org/doc/stable/reference/generated/numpy.ndarray.html).\n",
    "\n",
    "This can be done with [`numpy.amax()`](https://numpy.org/doc/stable/reference/generated/numpy.amax.html) function (and to calculate the minimum, you can similarly use [`numpy.amin()`](https://numpy.org/doc/stable/reference/generated/numpy.amin.html):\n",
    "> `numpy.amax(a, axis=None)`\n",
    ">\n",
    "> `numpy.amin(a, axis=None)`\n",
    ">\n",
    "> Returns an [_array_](https://numpy.org/doc/stable/reference/generated/numpy.ndarray.html) of maximum/minimum values along the axis `axis`. If `axis` is `None`, the maximum of the whole [_array_](https://numpy.org/doc/stable/reference/generated/numpy.ndarray.html) is returned\n",
    "\n",
    "_Note: This is a simplified function signature._"
   ]
  },
  {
   "cell_type": "code",
   "execution_count": 73,
   "metadata": {
    "scrolled": true
   },
   "outputs": [
    {
     "name": "stdout",
     "output_type": "stream",
     "text": [
      "[0.68464699 0.46604624 0.34012295 0.54078024 0.49141636 0.2917934 ]\n",
      "[0.49834364 0.5380706  0.40696078 0.43316242]\n",
      "0.4691343615652044\n"
     ]
    }
   ],
   "source": [
    "col_max = np.mean(A, axis = 0)\n",
    "print(col_max)\n",
    "row_max = np.mean(A, axis = 1)\n",
    "print(row_max)\n",
    "global_max = np.mean(A)\n",
    "print(global_max)"
   ]
  },
  {
   "cell_type": "markdown",
   "metadata": {},
   "source": [
    "[NumPy](https://numpy.org/doc/stable/) offers a range of other functions which allow you to summarise the information in different axis. Let's look at some more of them.\n",
    "\n",
    "To add all numbers per row/column or the whole [_array_](https://numpy.org/doc/stable/reference/generated/numpy.ndarray.html), you can use [`numpy.sum()`](https://numpy.org/doc/stable/reference/generated/numpy.sum.html).\n",
    "\n",
    "The get the mean of all numbers in a row/column/[_array_](https://numpy.org/doc/stable/reference/generated/numpy.ndarray.html), you can use [`numpy.mean()`](https://numpy.org/doc/stable/reference/generated/numpy.mean.html).\n",
    "\n",
    "_Reminder:_ An (arithmetic) mean of several scalars (denoted by $\\mu$ in maths) is calculated by summing them together and then dividing by the total number of scalars, e.g. the mean of $1, 2, 3, 4, 5$:\n",
    "$$\\mu=\\frac{1+2+3+4+5}{5} = \\frac{15}{5} = 3$$\n",
    "\n",
    "To get the standard deviation per row/column/[_array_](https://numpy.org/doc/stable/reference/generated/numpy.ndarray.html), you can use [`numpy.std()`](https://numpy.org/doc/stable/reference/generated/numpy.std.html).\n",
    "\n",
    "_Reminder:_ The standard deviation of several scalars is a measure of how \"spread out\" these scalars are around the mean. This is calculated by shifting all scalars by their mean (to obtain \"deviations from the mean\"), and taking a square root of the average of *squared* deviations from the mean. If our samples are again $1, 2, 3, 4, 5$, with $\\mu=3$, we have for the standard deviation:\n",
    "\n",
    "$$\n",
    "\\begin{align}\n",
    "\\sigma &= \\sqrt{\\frac{\\sum{(x_i-\\mu)^2}}{N}} \\\\\n",
    "&= \\sqrt{\\frac{(1-3)^2+(2-3)^2+(3-3)^2+(4-3)^2+(5-3)^2}{5}} \\\\\n",
    "&= \\sqrt{\\frac{(-2)^2+(-1)^2+0^2+1^2+2^2}{5}} \\\\\n",
    "&= \\sqrt{\\frac{4+1+0+1+4}{5}} \\\\\n",
    "&= \\sqrt{\\frac{10}{5}} \\\\\n",
    "&= \\sqrt{2} \\approx 1.4\n",
    "\\end{align}\n",
    "$$"
   ]
  },
  {
   "cell_type": "markdown",
   "metadata": {},
   "source": [
    "##### Example\n",
    "\n",
    "Of two sets of scalars with the same mean, the one with a bigger standard deviation will be more \"spread out\":\n",
    "$$\n",
    "\\mathbf{x} = \\{1, 2, 3, 4, 5\\}\\\\\n",
    "\\mu_\\mathbf{x} =3, \\sigma_\\mathbf{x} \\approx 1.4\n",
    "$$\n",
    "\n",
    "$$\n",
    "\\mathbf{y} = \\{-2, 1, 3, 5, 8\\}\\\\\n",
    "\\mu_\\mathbf{y} = 3, \\sigma_\\mathbf{y} \\approx 3.4\n",
    "$$\n",
    "\n",
    "Use [NumPy](https://numpy.org/doc/stable/) to calculate the mean and standard deviation of two sets: $\\{1, 2, 3, 4, 5\\}$ and $\\{-2, 1, 3, 5, 8\\}$."
   ]
  },
  {
   "cell_type": "code",
   "execution_count": 148,
   "metadata": {},
   "outputs": [
    {
     "name": "stdout",
     "output_type": "stream",
     "text": [
      "3.0\n",
      "3.0 1.4142135623730951\n",
      "3.0 3.40587727318528\n"
     ]
    }
   ],
   "source": [
    "x = np.array([1, 2, 3, 4, 5])\n",
    "y = np.array([-2, 1, 3, 5, 8])\n",
    "print(np.sum(x)/len(x))\n",
    "print(np.mean(x), np.std(x))\n",
    "print(np.mean(y), np.std(y))"
   ]
  },
  {
   "cell_type": "markdown",
   "metadata": {},
   "source": [
    "##### Example \n",
    "\n",
    "Calculate the mean of every column and row in a 2D [_array_](https://numpy.org/doc/stable/reference/generated/numpy.ndarray.html)."
   ]
  },
  {
   "cell_type": "code",
   "execution_count": 156,
   "metadata": {},
   "outputs": [
    {
     "name": "stdout",
     "output_type": "stream",
     "text": [
      "[45. 46. 47. 48. 49. 50. 51. 52. 53. 54.]\n",
      "[ 4.5 14.5 24.5 34.5 44.5 54.5 64.5 74.5 84.5 94.5]\n"
     ]
    }
   ],
   "source": [
    "A = np.arange(100).reshape(10,-1)\n",
    "#.reshape(10, 10)\n",
    "#print(A)\n",
    "col_mean = np.mean(A, axis=0)\n",
    "print(col_mean)\n",
    "row_mean = np.mean(A, axis=1)\n",
    "print(row_mean)"
   ]
  },
  {
   "cell_type": "markdown",
   "metadata": {},
   "source": [
    "_Note:_ In the above example, we have used [`ndarray.reshape`](https://numpy.org/doc/stable/reference/generated/numpy.ndarray.reshape.html) to re-arrange a 1D [_array_](https://numpy.org/doc/stable/reference/generated/numpy.ndarray.html) into 2D. It can be used to reshape any [_array_](https://numpy.org/doc/stable/reference/generated/numpy.ndarray.html) into an arbitrary number of dimensions, as long as the number of elements match. This is a **method of the [_array_](https://numpy.org/doc/stable/reference/generated/numpy.ndarray.html) class**, not a separate [NumPy](https://numpy.org/doc/stable/) function:\n",
    "> `ndarray.reshape(newshape)`\n",
    ">\n",
    "> Return a new view of the array with dimensions given by `newshape`.\n",
    "\n",
    "The opposite of `numpy.reshape` is [`ndarray.flatten`](https://numpy.org/doc/stable/reference/generated/numpy.ndarray.flatten.html) which can be used to \"unroll\" an [_array_](https://numpy.org/doc/stable/reference/generated/numpy.ndarray.html) of any shape into a 1D [_array_](https://numpy.org/doc/stable/reference/generated/numpy.ndarray.html):\n",
    "> `ndarray.flatten()`\n",
    ">\n",
    "> Returns a changed, flattened view of the given [_array_](https://numpy.org/doc/stable/reference/generated/numpy.ndarray.html)"
   ]
  },
  {
   "cell_type": "code",
   "execution_count": 44,
   "metadata": {},
   "outputs": [
    {
     "name": "stdout",
     "output_type": "stream",
     "text": [
      "(5, 5)\n",
      "(25,)\n"
     ]
    }
   ],
   "source": [
    "A = np.random.random_sample((5, 5))\n",
    "print(A.shape)\n",
    "A = A.flatten()\n",
    "print(A.shape)"
   ]
  },
  {
   "cell_type": "markdown",
   "metadata": {},
   "source": [
    "##### Example\n",
    "\n",
    "Calculating $\\pi$ using Gregory–Leibniz series. The value of $\\pi$ can be written as the following infinite sum:\n",
    "\n",
    "$$\n",
    "\\pi=\\sum_{i=1}^{\\infty}{\\frac{(-1)^{i+1}4}{2i-1}}\n",
    "$$\n",
    "\n",
    "Let's try and write a [NumPy](https://numpy.org/doc/stable/) function that estimates the value of $\\pi$ using the first $n$ terms of the above series."
   ]
  },
  {
   "cell_type": "code",
   "execution_count": 157,
   "metadata": {},
   "outputs": [
    {
     "name": "stdout",
     "output_type": "stream",
     "text": [
      "Six decimal places of pi: 3.141593\n",
      "Six decimal places of G-L series (1 term): 4.000000\n",
      "Six decimal places of G-L series (5 terms): 3.339683\n",
      "Six decimal places of G-L series (10 terms): 3.041840\n",
      "Six decimal places of G-L series (15 terms): 3.208186\n",
      "Six decimal places of G-L series (20 terms): 3.091624\n",
      "Six decimal places of G-L series (25 terms): 3.181577\n",
      "Six decimal places of G-L series (30 terms): 3.108269\n",
      "Six decimal places of G-L series (35 terms): 3.170158\n",
      "Six decimal places of G-L series (40 terms): 3.116597\n",
      "Six decimal places of G-L series (45 terms): 3.163812\n",
      "Six decimal places of G-L series (50 terms): 3.121595\n",
      "Six decimal places of G-L series (55 terms): 3.159773\n",
      "Six decimal places of G-L series (60 terms): 3.124927\n",
      "Six decimal places of G-L series (65 terms): 3.156976\n",
      "Six decimal places of G-L series (70 terms): 3.127308\n",
      "Six decimal places of G-L series (75 terms): 3.154925\n",
      "Six decimal places of G-L series (80 terms): 3.129093\n",
      "Six decimal places of G-L series (85 terms): 3.153357\n",
      "Six decimal places of G-L series (90 terms): 3.130482\n",
      "Six decimal places of G-L series (95 terms): 3.152119\n",
      "Six decimal places of G-L series (100 terms): 3.131593\n",
      "Six decimal places of G-L series (200 terms): 3.136593\n",
      "Six decimal places of G-L series (300 terms): 3.138259\n",
      "Six decimal places of G-L series (400 terms): 3.139093\n",
      "Six decimal places of G-L series (500 terms): 3.139593\n",
      "Six decimal places of G-L series (600 terms): 3.139926\n",
      "Six decimal places of G-L series (700 terms): 3.140164\n",
      "Six decimal places of G-L series (800 terms): 3.140343\n",
      "Six decimal places of G-L series (900 terms): 3.140482\n",
      "Six decimal places of G-L series (5000 terms): 3.141393\n"
     ]
    }
   ],
   "source": [
    "def estimate_pi(n):\n",
    "    i = np.arange(1, n+1) # remember, last element not included in arrange\n",
    "    pi = np.sum((-1)**(i+1)*4 / (2*i-1))\n",
    "    return pi\n",
    "\n",
    "print(\"Six decimal places of pi: {:.6f}\".format(np.pi))\n",
    "\n",
    "print(\"Six decimal places of G-L series (1 term): {:.6f}\".format(estimate_pi(1)))\n",
    "\n",
    "for i in range(5, 100, 5):\n",
    "    print(\"Six decimal places of G-L series ({} terms): {:.6f}\".format(i, estimate_pi(i)))\n",
    "    \n",
    "for i in range(100, 1000, 100):\n",
    "    print(\"Six decimal places of G-L series ({} terms): {:.6f}\".format(i, estimate_pi(i)))\n",
    "    \n",
    "print(\"Six decimal places of G-L series (5000 terms): {:.6f}\".format(estimate_pi(5000)))"
   ]
  },
  {
   "cell_type": "markdown",
   "metadata": {},
   "source": [
    "## Basic linear algebra (extension)\n",
    "\n",
    "NumPy stands for Numerical Python -- and is very useful for performing mathematical operations with matrices. The above example (addition of two matrices) is a basic example of that. Let's go through some more complicated matrix operations.\n",
    "\n",
    "Let's first introduce matrices as used in maths, and (mathematically) define some basic operations with them:\n",
    "\n",
    "$$\n",
    "M=\n",
    "\\begin{bmatrix}\n",
    "5 & 3 & 1 \\\\\n",
    "2 & 4 & 6\n",
    "\\end{bmatrix}\n",
    "$$\n",
    "\n",
    "$$\n",
    "N=\n",
    "\\begin{bmatrix}\n",
    "1 & 2 \\\\\n",
    "3 & 4\n",
    "\\end{bmatrix}\n",
    "$$\n",
    "\n",
    "Both M and N define two-dimensional (2D) matrices. The matrix $M$ has dimensions $2\\times3$ (in general, $\\texttt{rows} \\times \\texttt{columns}$). The matrix $N$ has dimensions $2x2$; we can also call it a _square_ matrix of dimension 2."
   ]
  },
  {
   "cell_type": "code",
   "execution_count": 36,
   "metadata": {},
   "outputs": [
    {
     "name": "stdout",
     "output_type": "stream",
     "text": [
      "(2, 3)\n",
      "(2, 2)\n"
     ]
    }
   ],
   "source": [
    "M = np.array([[5, 3, 1],\n",
    "              [2, 4, 6]])\n",
    "N = np.array([[1, 2],\n",
    "              [3, 4]])\n",
    "print(M.shape)\n",
    "print(N.shape)"
   ]
  },
  {
   "cell_type": "markdown",
   "metadata": {},
   "source": [
    "If either the number of rows or the number of columns is $1$, we talk about **vectors** instead. Vectors are usually denoted by lower case letters.\n",
    "\n",
    "A **column-vector** has only 1 column, and several rows (effectively, it is a matrix of dimensions $(n\\times1)$. For example, a column-vector of length 4:\n",
    "$$\n",
    "v_1 =\n",
    "\\begin{bmatrix}\n",
    "5 \\\\\n",
    "4 \\\\\n",
    "8 \\\\\n",
    "1\n",
    "\\end{bmatrix}\n",
    "$$\n",
    "\n",
    "A **row-vector** has only 1 row, and several columns (effectively, it is a matrix of dimensions $(1\\times n)$. For example, a row-vector of length 5:\n",
    "$$\n",
    "v_2 =\n",
    "\\begin{bmatrix}\n",
    "4 & 2 & 1 & 9 & 3\n",
    "\\end{bmatrix}\n",
    "$$"
   ]
  },
  {
   "cell_type": "code",
   "execution_count": 37,
   "metadata": {},
   "outputs": [
    {
     "name": "stdout",
     "output_type": "stream",
     "text": [
      "(4, 1)\n",
      "(1, 5)\n"
     ]
    }
   ],
   "source": [
    "v1 = np.array([[5],\n",
    "               [4],\n",
    "               [8],\n",
    "               [1]])\n",
    "v2 = np.array([[4, 2, 1, 9, 3]])\n",
    "print(v1.shape)\n",
    "print(v2.shape)"
   ]
  },
  {
   "cell_type": "markdown",
   "metadata": {},
   "source": [
    "_Note:_ When working with vectors in NumPy, the dimension of size $1$ is often avoided all together (initialising from a non-nested list):"
   ]
  },
  {
   "cell_type": "code",
   "execution_count": 38,
   "metadata": {},
   "outputs": [
    {
     "name": "stdout",
     "output_type": "stream",
     "text": [
      "[ 5 10 15 20]\n",
      "(4,)\n"
     ]
    }
   ],
   "source": [
    "v1d = np.array([5, 10, 15, 20])\n",
    "print(v1d)\n",
    "print(v1d.shape)"
   ]
  },
  {
   "cell_type": "markdown",
   "metadata": {},
   "source": [
    "**Transposing** a matrix means swapping it's rows and columns. So if a matrix $M$ has dimensions $(m\\times n)$, the transposed matrix $M^\\top$ will have dimensions $(n \\times m)$:\n",
    "$$\n",
    "M=\n",
    "\\begin{bmatrix}\n",
    "5 & 3 & 1 \\\\\n",
    "2 & 4 & 6\n",
    "\\end{bmatrix} \\\\\n",
    "M^\\top=\n",
    "\\begin{bmatrix}\n",
    "5 & 2 \\\\\n",
    "3 & 4 \\\\\n",
    "1 & 6\n",
    "\\end{bmatrix} \\\\\n",
    "$$\n",
    "\n",
    "This can be done with the NumPy function [`numpy.transpose`](https://numpy.org/doc/stable/reference/generated/numpy.transpose.html):\n",
    "> `numpy.transpose(a)`\n",
    ">\n",
    "> Returns a transpose of the matrix `a`\n",
    "\n",
    "_Note: This is a simplified function signature._"
   ]
  },
  {
   "cell_type": "code",
   "execution_count": 39,
   "metadata": {},
   "outputs": [
    {
     "name": "stdout",
     "output_type": "stream",
     "text": [
      "[[5 3 1]\n",
      " [2 4 6]]\n",
      "[[5 2]\n",
      " [3 4]\n",
      " [1 6]]\n"
     ]
    }
   ],
   "source": [
    "print(M)\n",
    "print(np.transpose(M))"
   ]
  },
  {
   "cell_type": "markdown",
   "metadata": {},
   "source": [
    "Transposing a column-vector results in a row-vector, and the other way around. It is common to write column-vectors as transposed row-vectors:\n",
    "$$\n",
    "v_1 =\n",
    "\\begin{bmatrix}\n",
    "5 \\\\\n",
    "4 \\\\\n",
    "8 \\\\\n",
    "1\n",
    "\\end{bmatrix} = \n",
    "\\begin{bmatrix}\n",
    "5 & 4 & 8 & 1\n",
    "\\end{bmatrix}^\\top\n",
    "$$\n",
    "\n",
    "This gives us another way to define column-vectors in NumPy:"
   ]
  },
  {
   "cell_type": "code",
   "execution_count": 40,
   "metadata": {},
   "outputs": [
    {
     "name": "stdout",
     "output_type": "stream",
     "text": [
      "[[5]\n",
      " [4]\n",
      " [8]\n",
      " [1]]\n",
      "(4, 1)\n"
     ]
    }
   ],
   "source": [
    "v1again = np.transpose(np.array([[5, 4, 8, 1]]))\n",
    "print(v1again)\n",
    "print(v1again.shape)"
   ]
  },
  {
   "cell_type": "markdown",
   "metadata": {},
   "source": [
    "We can only **add and subtract** matrices of the same dimensions. This is done element-wise. For example, addition of square matrices:\n",
    "$$\n",
    "A=\n",
    "\\begin{bmatrix}\n",
    "1 & 2 \\\\\n",
    "3 & 4\n",
    "\\end{bmatrix},\n",
    "B=\n",
    "\\begin{bmatrix}\n",
    "9 & 7 \\\\\n",
    "8 & 6\n",
    "\\end{bmatrix}\n",
    "\\\\\n",
    "A + B = \n",
    "\\begin{bmatrix}\n",
    "1 & 2 \\\\\n",
    "3 & 4\n",
    "\\end{bmatrix}+\n",
    "\\begin{bmatrix}\n",
    "9 & 7 \\\\\n",
    "8 & 6\n",
    "\\end{bmatrix}=\n",
    "\\begin{bmatrix}\n",
    "1+9 & 2+7 \\\\\n",
    "8+3 & 6+4\n",
    "\\end{bmatrix}=\n",
    "\\begin{bmatrix}\n",
    "10 & 9 \\\\\n",
    "11 & 10\n",
    "\\end{bmatrix}\n",
    "$$"
   ]
  },
  {
   "cell_type": "code",
   "execution_count": 41,
   "metadata": {},
   "outputs": [
    {
     "name": "stdout",
     "output_type": "stream",
     "text": [
      "[[10  9]\n",
      " [11 10]]\n"
     ]
    }
   ],
   "source": [
    "A = np.array([[1, 2],\n",
    "              [3, 4]])\n",
    "B = np.array([[9, 7],\n",
    "              [8, 6]])\n",
    "print(A+B)"
   ]
  },
  {
   "cell_type": "markdown",
   "metadata": {},
   "source": [
    "Or, subtraction of non-square matrices:\n",
    "$$\n",
    "C=\n",
    "\\begin{bmatrix}\n",
    "10 & 15 \\\\\n",
    "5 & 25 \\\\\n",
    "30 & 20\n",
    "\\end{bmatrix},\n",
    "D=\n",
    "\\begin{bmatrix}\n",
    "2 & 3 \\\\\n",
    "4 & 5 \\\\\n",
    "6 & 7\n",
    "\\end{bmatrix}\n",
    "\\\\\n",
    "C - D = \n",
    "\\begin{bmatrix}\n",
    "10 & 15 \\\\\n",
    "5 & 25 \\\\\n",
    "30 & 20\n",
    "\\end{bmatrix}-\n",
    "\\begin{bmatrix}\n",
    "2 & 3 \\\\\n",
    "4 & 5 \\\\\n",
    "6 & 7\n",
    "\\end{bmatrix}=\n",
    "\\begin{bmatrix}\n",
    "10-2 & 15-3 \\\\\n",
    "5-4 & 25-5 \\\\\n",
    "30-6 & 20-7\n",
    "\\end{bmatrix}=\n",
    "\\begin{bmatrix}\n",
    "8 & 12 \\\\\n",
    "1 & 20 \\\\\n",
    "24 & 13\n",
    "\\end{bmatrix}\n",
    "$$"
   ]
  },
  {
   "cell_type": "code",
   "execution_count": 42,
   "metadata": {},
   "outputs": [
    {
     "name": "stdout",
     "output_type": "stream",
     "text": [
      "[[ 8 12]\n",
      " [ 1 20]\n",
      " [24 13]]\n"
     ]
    }
   ],
   "source": [
    "C = np.array([[10, 15],\n",
    "              [5, 25],\n",
    "              [30, 20]])\n",
    "D = np.array([[2, 3],\n",
    "              [4, 5],\n",
    "              [6, 7]])\n",
    "print(C-D)"
   ]
  },
  {
   "cell_type": "markdown",
   "metadata": {},
   "source": [
    "Matrices can also be **multiplied**, but only when they have dimensions $(\\texttt{rows}_1 \\times \\texttt{columns}_1$), $(\\texttt{rows}_2 \\times \\texttt{columns}_2)$, such that $\\texttt{columns}_1 = \\texttt{rows}_2$. The resulting matrix dimensions are $(\\texttt{rows}_1 \\times \\texttt{columns}_2)$\n",
    "\n",
    "This is done like so:\n",
    "$$\n",
    "\\begin{align}\n",
    "\\begin{bmatrix}\n",
    "1 & 2 & 4 \\\\\n",
    "7 & 5 & 3\n",
    "\\end{bmatrix}\\times\n",
    "\\begin{bmatrix}\n",
    "2 & 3 \\\\\n",
    "4 & 5 \\\\\n",
    "6 & 7\n",
    "\\end{bmatrix}=&\\\\\n",
    "&\\begin{bmatrix}\n",
    "\\phantom{-2\\times1 + 4\\times2 + 6\\times}2 & \\phantom{3\\times1 + 5\\times2 + 7\\times}3 \\\\\n",
    "\\phantom{-2\\times1 + 4\\times2 + 6\\times}4 & \\phantom{3\\times1 + 5\\times2 + 7\\times}5 \\\\\n",
    "\\phantom{-2\\times1 + 4\\times2 + 6\\times}6 & \\phantom{3\\times1 + 5\\times2 + 7\\times}7\n",
    "\\end{bmatrix} \\\\\n",
    "\\begin{bmatrix}\n",
    "1 & 2 & 4 \\\\\n",
    "7 & 5 & 3\n",
    "\\end{bmatrix}\n",
    "&\\begin{bmatrix}\n",
    "2\\times1 + 4\\times2 + 6\\times4 & 3\\times1 + 5\\times2 + 7\\times4 \\\\\n",
    "2\\times7 + 4\\times5 + 6\\times3 & 3\\times7 + 5\\times5 + 7\\times3\n",
    "\\end{bmatrix} \\\\\n",
    "=&\\begin{bmatrix}\n",
    "\\phantom{2\\times1 + 4\\times2 + 6\\times}34 & \\phantom{3\\times1 + 5\\times2 + 7\\times}41 \\\\\n",
    "\\phantom{2\\times1 + 4\\times2 + 6\\times}52 & \\phantom{3\\times1 + 5\\times2 + 7\\times}67\n",
    "\\end{bmatrix}\n",
    "\\end{align}\n",
    "$$\n",
    "\n",
    "In Numpy, we can use the function [`numpy.matmul`](https://numpy.org/doc/stable/reference/generated/numpy.matmul.html) to perform matrix multiplication:\n",
    "> `numpy.matmul(x1, x2)`\n",
    "> \n",
    "> Returns the result of multiplication between matrices or vectors `x1` and `x2`. Scalars (numbers) not allowed.\n",
    "\n",
    "_Note: This is a simplified function signature._"
   ]
  },
  {
   "cell_type": "code",
   "execution_count": 43,
   "metadata": {},
   "outputs": [
    {
     "name": "stdout",
     "output_type": "stream",
     "text": [
      "[[34 41]\n",
      " [52 67]]\n"
     ]
    }
   ],
   "source": [
    "X = np.array([[1, 2, 4], \n",
    "              [7, 5, 3]])\n",
    "Y = np.array([[2, 3],\n",
    "              [4, 5], \n",
    "              [6, 7]])\n",
    "A = np.matmul(X, Y)\n",
    "print(A)"
   ]
  },
  {
   "cell_type": "markdown",
   "metadata": {},
   "source": [
    "If we multiply any matrix $A$ with a **diagonal matrix** containing the value $1$ on the diagonals and $0$ otherwise (called the **identity** matrix $I$), the original matrix $A$ does not change (like multipying scalars by $1$):\n",
    "    \n",
    "$$\n",
    "A I = I A = A \\\\\n",
    "\\begin{bmatrix}\n",
    "34 & 41 \\\\\n",
    "52 & 67\n",
    "\\end{bmatrix} \\times\n",
    "\\begin{bmatrix}\n",
    "1 & 0 \\\\\n",
    "0 & 1\n",
    "\\end{bmatrix} =\n",
    "\\begin{bmatrix}\n",
    "1 & 0 \\\\\n",
    "0 & 1\n",
    "\\end{bmatrix} \\times\n",
    "\\begin{bmatrix}\n",
    "34 & 41 \\\\\n",
    "52 & 67\n",
    "\\end{bmatrix}\n",
    "= \\begin{bmatrix}\n",
    "34 & 41 \\\\\n",
    "52 & 67\n",
    "\\end{bmatrix}\n",
    "$$\n",
    "    \n",
    "This also works for non-square matrices (take care of matrix dimensions!):\n",
    "$$\n",
    "\\begin{bmatrix}\n",
    "1 & 2 & 4 \\\\\n",
    "7 & 5 & 3\n",
    "\\end{bmatrix} \\times\n",
    "\\begin{bmatrix}\n",
    "1 & 0 & 0\\\\\n",
    "0 & 1 & 0\\\\\n",
    "0 & 0 & 1\n",
    "\\end{bmatrix} = \n",
    "\\begin{bmatrix}\n",
    "1 & 2 & 4 \\\\\n",
    "7 & 5 & 3\n",
    "\\end{bmatrix}\n",
    "$$\n",
    "    \n",
    "You can initialise identity matrix in NumPy with [`numpy.eye`](https://numpy.org/doc/stable/reference/generated/numpy.eye.html#numpy.eye):\n",
    "> `numpy.eye(rows, [columns])`\n",
    ">\n",
    "> Returns an identity matrix with dimensions (`rows`$\\times$`columns`). By default, number of columns is equal to the number of rows, and a square identity matrix is created.\n",
    "\n",
    "_Note: This is a simplified function signature._"
   ]
  },
  {
   "cell_type": "code",
   "execution_count": 44,
   "metadata": {},
   "outputs": [
    {
     "name": "stdout",
     "output_type": "stream",
     "text": [
      "Identity matrices:\n",
      "[[1. 0.]\n",
      " [0. 1.]]\n",
      "[[1. 0. 0.]\n",
      " [0. 1. 0.]\n",
      " [0. 0. 1.]]\n",
      "[[1. 0.]\n",
      " [0. 1.]\n",
      " [0. 0.]\n",
      " [0. 0.]]\n",
      "Compare A to AI:\n",
      "True\n",
      "Compare X to XI (non-square):\n",
      "True\n"
     ]
    }
   ],
   "source": [
    "I2by2 = np.eye(2)\n",
    "I3by3 = np.eye(3)\n",
    "I4by2 = np.eye(4, 2)\n",
    "\n",
    "print(\"Identity matrices:\")\n",
    "print(I2by2)\n",
    "print(I3by3)\n",
    "print(I4by2)\n",
    "\n",
    "print(\"Compare A to AI:\")\n",
    "print(np.array_equal(A, np.matmul(A, I2by2)))\n",
    "\n",
    "print(\"Compare X to XI (non-square):\")\n",
    "print(np.array_equal(X, np.matmul(X,I3by3)))\n"
   ]
  },
  {
   "cell_type": "markdown",
   "metadata": {},
   "source": [
    "To compare the two matrices (the matrix $A$ with the result of multiplying $A$ and identity), we used [`numpy.array_equal`](https://numpy.org/doc/stable/reference/generated/numpy.array_equal.html):\n",
    "> `numpy.array_equal(a1, a2)`\n",
    ">\n",
    "> Returns `True` if the arrays are equal.\n",
    "\n",
    "_Note: This is a simplified function signature._"
   ]
  },
  {
   "cell_type": "markdown",
   "metadata": {},
   "source": [
    "It is **not possible to divide** two matrices. Instead, we can **multipy by the inverse**.\n",
    "\n",
    "An **inverse** is a matrix $A^{-1}$ which, when multiplied with $A$, results in the identity matrix $I$. (We will not show the formula to calculate it, but you can check that the following holds:)\n",
    "    \n",
    "$$\n",
    "A=\n",
    "\\begin{bmatrix}\n",
    "10 & 4 \\\\\n",
    "2 & 1\n",
    "\\end{bmatrix},\n",
    "A^{-1} = \n",
    "\\begin{bmatrix}\n",
    "0.5 & -2 \\\\\n",
    "-1 & 5\n",
    "\\end{bmatrix}\n",
    "\\\\\n",
    "A \\times A^{-1} = \n",
    "\\begin{bmatrix}\n",
    "10 & 4 \\\\\n",
    "2 & 1\n",
    "\\end{bmatrix}\\times\n",
    "\\begin{bmatrix}\n",
    "0.5 & -2 \\\\\n",
    "-1 & 5\n",
    "\\end{bmatrix}=\n",
    "\\begin{bmatrix}\n",
    "1 & 0 \\\\\n",
    "0 & 1\n",
    "\\end{bmatrix} = I\n",
    "$$\n",
    "\n",
    "_Note:_ Some matrices don't have an inverse.\n",
    "\n",
    "To calculate an inverse in NumPy, we can use [`numpy.linalg.inv`](https://numpy.org/doc/stable/reference/generated/numpy.linalg.inv.html):\n",
    "> `linalg.inv(a)`\n",
    ">\n",
    "> Returns an inverse of matrix `a` if `a` is square and has an inverse.\n",
    "\n",
    "_Note: This is a simplified function signature._"
   ]
  },
  {
   "cell_type": "code",
   "execution_count": 45,
   "metadata": {},
   "outputs": [
    {
     "name": "stdout",
     "output_type": "stream",
     "text": [
      "[[ 0.5 -2. ]\n",
      " [-1.   5. ]]\n",
      "Check multiplying with inverse gives identity:\n",
      "True\n",
      "True\n"
     ]
    }
   ],
   "source": [
    "A = np.array([[10, 4],\n",
    "              [2, 1]])\n",
    "Ainv = np.linalg.inv(A)\n",
    "print(Ainv)\n",
    "\n",
    "print(\"Check multiplying with inverse gives identity:\")\n",
    "print(np.array_equal(np.eye(2), np.matmul(A, Ainv)))\n",
    "print(np.array_equal(np.eye(2), np.matmul(Ainv, A)))"
   ]
  },
  {
   "cell_type": "markdown",
   "metadata": {},
   "source": [
    "When working in matrices, there is a distinction between multiplying by some matrix **from the left** or **from the right**. So, while it is always true that multiplying a matrix with it's inverse (from left or right) gives identity:\n",
    "$$\n",
    "A \\times A^{-1} = A^{-1} \\times A = I\n",
    "$$\n",
    "\n",
    "Order can not be swapped when multiplying any two matrices in general:\n",
    "$$\n",
    "X \\times Y \\neq Y \\times X\n",
    "$$\n",
    "\n",
    "In fact, often, only one of the products is defined. If $X$ has dimensions $(n, k)$ and $Y$ has dimensions $(k, m)$, it is always possible to calculate $X\\times Y$. However, $Y\\times X$ only exists if $n=m$."
   ]
  },
  {
   "cell_type": "markdown",
   "metadata": {},
   "source": [
    "### System of linear equations (extension)\n",
    "\n",
    "In general, if we have a system of $n$ unknowns, or variables, we need $n$ equations to attempt to solve them. If all the unknowns are linear (so, no squared values) in all the equations, this is called a **system of linear equations:**\n",
    "\n",
    "$$\n",
    "3 x_1 +   x_2 - 2 x_3 = -3 \\\\\n",
    "- x_1 + 2 x_2 + x_3 = 0  \\\\\n",
    "2 x_1 - 2 x_2 - x_3 = 2  \\\\\n",
    "$$\n",
    "\n",
    "We can write this in matrix form:\n",
    "\n",
    "$$\n",
    "\\begin{bmatrix}\n",
    "3 & 1 & -2 \\\\\n",
    "-1 & 2 & 1 \\\\\n",
    "2 & -2 & -1\n",
    "\\end{bmatrix} \\times\n",
    "\\begin{bmatrix}\n",
    "x_1 \\\\\n",
    "x_2 \\\\\n",
    "x_3\n",
    "\\end{bmatrix} =\n",
    "\\begin{bmatrix}\n",
    "-3 \\\\\n",
    "0 \\\\\n",
    "2\n",
    "\\end{bmatrix}\n",
    "$$\n",
    "\n",
    "Now, if we substitute:\n",
    "$$\n",
    "A = \\begin{bmatrix}\n",
    "3 & 1 & -2 \\\\\n",
    "-1 & 2 & 1 \\\\\n",
    "2 & -2 & -1\n",
    "\\end{bmatrix},\n",
    "X = \\begin{bmatrix}\n",
    "x_1 \\\\\n",
    "x_2 \\\\\n",
    "x_3\n",
    "\\end{bmatrix},\n",
    "B = \\begin{bmatrix}\n",
    "-3 \\\\\n",
    "0 \\\\\n",
    "2\n",
    "\\end{bmatrix}\n",
    "$$\n",
    "\n",
    "We can get:\n",
    "$$\n",
    "A X = B \\\\\n",
    "A^{-1} A X = A^{-1} B \\\\\n",
    "X = A ^{-1} B\n",
    "$$\n",
    "\n",
    "Now, if we know that:\n",
    "$$\n",
    "A^{-1} = \n",
    "\\begin{bmatrix}\n",
    "0 & 1 & 1 \\\\\n",
    "\\frac{1}{5} & \\frac{1}{5} & -\\frac{1}{5} \\\\\n",
    "-\\frac{2}{5} & \\frac{8}{5} & \\frac{7}{8}\n",
    "\\end{bmatrix}\n",
    "$$\n",
    "\n",
    "We can calculate:\n",
    "$$\n",
    "\\begin{align}\n",
    "X &= A ^{-1} B \\\\\n",
    "X &= \n",
    "\\begin{bmatrix}\n",
    "0 & 1 & 1 \\\\\n",
    "\\frac{1}{5} & \\frac{1}{5} & -\\frac{1}{5} \\\\\n",
    "-\\frac{2}{5} & \\frac{8}{5} & \\frac{7}{8}\n",
    "\\end{bmatrix} \\times\n",
    "\\begin{bmatrix}\n",
    "-3 \\\\\n",
    "0 \\\\\n",
    "2\n",
    "\\end{bmatrix} \\\\\n",
    "X &= \\begin{bmatrix}\n",
    "2 \\\\\n",
    "-1 \\\\\n",
    "4\n",
    "\\end{bmatrix} \\\\\n",
    "\\begin{bmatrix}\n",
    "x_1 \\\\\n",
    "x_2 \\\\\n",
    "x_3 \n",
    "\\end{bmatrix} &= \\begin{bmatrix}\n",
    "2 \\\\\n",
    "-1 \\\\\n",
    "4\n",
    "\\end{bmatrix} \\\\\n",
    "x_1 = 2, x_2 &= -1, x_3 = 4\n",
    "\\end{align}\n",
    "$$"
   ]
  },
  {
   "cell_type": "code",
   "execution_count": 46,
   "metadata": {},
   "outputs": [
    {
     "name": "stdout",
     "output_type": "stream",
     "text": [
      "[ 2. -1.  4.]\n"
     ]
    }
   ],
   "source": [
    "A = np.array([[3, 1, -2],\n",
    "              [-1, 2, 1],\n",
    "              [2, -2, -1]])\n",
    "\n",
    "B = np.array([-3, 0, 2])\n",
    "B = np.transpose(B)\n",
    "\n",
    "X = np.matmul(np.linalg.inv(A), B)\n",
    "\n",
    "print(X)"
   ]
  },
  {
   "cell_type": "markdown",
   "metadata": {},
   "source": [
    "We can also check that using these values satisfy the given system of linear equations:\n",
    "\n",
    "$$\n",
    "A X = B \\\\\n",
    "A = \\begin{bmatrix}\n",
    "3 & 1 & -2 \\\\\n",
    "-1 & 2 & 1 \\\\\n",
    "2 & -2 & -1\n",
    "\\end{bmatrix},\n",
    "X = \\begin{bmatrix}\n",
    "x_1 \\\\\n",
    "x_2 \\\\\n",
    "x_3\n",
    "\\end{bmatrix}=\n",
    "\\begin{bmatrix}\n",
    "2 \\\\\n",
    "-1 \\\\\n",
    "4\n",
    "\\end{bmatrix}\n",
    "$$\n",
    "<br><br>\n",
    "$$\n",
    "\\begin{align}\n",
    "A X &= \\begin{bmatrix}\n",
    "3 & 1 & -2 \\\\\n",
    "-1 & 2 & 1 \\\\\n",
    "2 & -2 & -1\n",
    "\\end{bmatrix}\n",
    "\\begin{bmatrix}\n",
    "2 \\\\\n",
    "-1 \\\\\n",
    "4\n",
    "\\end{bmatrix} \\\\\n",
    "&= \\begin{bmatrix}\n",
    "3\\times2 & 1\\times(-1) & -2\\times4 \\\\\n",
    "-1\\times2 & 2\\times(-1) & 1\\times4 \\\\\n",
    "2\\times2 & -2\\times(-1) & -1\\times4\n",
    "\\end{bmatrix} \\\\ \n",
    "&= \\begin{bmatrix}\n",
    "6-1-8 \\\\\n",
    "-2-2+4 \\\\\n",
    "4+2-4\n",
    "\\end{bmatrix}\\\\\n",
    "&= \\begin{bmatrix}\n",
    "-3 \\\\\n",
    "0 \\\\\n",
    "2\n",
    "\\end{bmatrix} \\\\\n",
    "&= B\n",
    "\\end{align}\n",
    "$$\n"
   ]
  },
  {
   "cell_type": "code",
   "execution_count": 47,
   "metadata": {},
   "outputs": [
    {
     "name": "stdout",
     "output_type": "stream",
     "text": [
      "[-3.  0.  2.]\n"
     ]
    }
   ],
   "source": [
    "print(np.matmul(A, X))"
   ]
  }
 ],
 "metadata": {
  "kernelspec": {
   "display_name": "Python 3 (ipykernel)",
   "language": "python",
   "name": "python3"
  },
  "language_info": {
   "codemirror_mode": {
    "name": "ipython",
    "version": 3
   },
   "file_extension": ".py",
   "mimetype": "text/x-python",
   "name": "python",
   "nbconvert_exporter": "python",
   "pygments_lexer": "ipython3",
   "version": "3.12.6"
  }
 },
 "nbformat": 4,
 "nbformat_minor": 4
}
