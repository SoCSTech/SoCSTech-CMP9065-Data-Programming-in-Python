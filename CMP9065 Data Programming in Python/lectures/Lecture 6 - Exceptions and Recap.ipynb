{
 "cells": [
  {
   "cell_type": "markdown",
   "id": "8fdc0282-e0c7-4399-ae1e-35c8862df679",
   "metadata": {},
   "source": [
    "# Lecture 6 - Exceptions and Recap\n",
    "\n",
    "As Object-Oriented Programming can be a bit of a complex topic when first approached, we focused on ensuring that made sense to you last week and, as such, didn't get around to covering exceptions, so we'll be starting with that. Afterwards, we'll be going through a recap of the arguably more important (or more complex) topics we've covered over the past 6 weeks of content.\n",
    "\n",
    "- [Exceptions](#Exceptions)\n",
    "- [Recap](#Recap)\n",
    "    - [Data Types](#Data-Types)\n",
    "    - [Functions](#Functions)\n",
    "    - [Recursion](#Recursion)\n",
    "    - [Object-Oriented Programming](#Object-Oriented-Programming)\n",
    "    - [Namespaces](#Namespaces)"
   ]
  },
  {
   "cell_type": "markdown",
   "id": "8832cbbd-139b-44c9-9260-eae1f443591e",
   "metadata": {},
   "source": [
    "## Exceptions\n",
    "During your Python learning journey so far, it's very likely you've encountered **exceptions**. In this case, an \"exception\" refers to an **error that has been detected during execution** of your code. To demonstrate a very simple example of an exception, we can try to divide by zero:"
   ]
  },
  {
   "cell_type": "code",
   "execution_count": null,
   "id": "cefc922e-e01a-49a0-a427-d64d21d6a90e",
   "metadata": {},
   "outputs": [],
   "source": [
    "# divide by zero statement\n",
    "1 / 0"
   ]
  },
  {
   "cell_type": "markdown",
   "id": "e77356ca-2980-4f25-8e47-63d7edb11841",
   "metadata": {},
   "source": [
    "When the above code cell is ran, we can see that we get a **ZeroDivisionError** - this is an exception! ZeroDivisionError is also the type of exception, and there are various types, including (but not limited to) **NameError**, **TypeError**, **FloatingPointError** etc. You should recall that we discussed inheritance in the context of OOP in a prior lecture - all of these exception types inherit from a parent class **Exception**!\n",
    "\n",
    "It's also important to note that whatever code we choose to write after the line that produces an exception is never executed:"
   ]
  },
  {
   "cell_type": "code",
   "execution_count": null,
   "id": "da7c5cb3-c14d-440c-a346-534f366423fe",
   "metadata": {},
   "outputs": [],
   "source": [
    "# divide by zero statement\n",
    "1 / 0\n",
    "\n",
    "# print statement that is never reached\n",
    "print('this print statement is never reached')"
   ]
  },
  {
   "cell_type": "markdown",
   "id": "61ea2fa4-7b6a-4e20-97ae-f34afa13de03",
   "metadata": {},
   "source": [
    "This shows that whenever an exception is encountered during code execution, all execution halts and the produced exception is displayed to the user.\n",
    "\n",
    "Despite what you'll be familiar with so far, encountering exceptions does not need to be \"fatal\" (in that the code stops executing when encountered) - we can choose to **handle the exception**. To do this, we can use the **try**/**except** statement pair. Let's try the divide by zero example again with an except block printing that an error occurred:"
   ]
  },
  {
   "cell_type": "code",
   "execution_count": null,
   "id": "177b7f5e-e559-45bb-8528-d4feb01490ce",
   "metadata": {},
   "outputs": [],
   "source": [
    "# try block with divide by zero\n",
    "try:\n",
    "    1 / 0\n",
    "# except block with print statement\n",
    "except:\n",
    "    print('Oops! An error occured.')"
   ]
  },
  {
   "cell_type": "markdown",
   "id": "dd992e47-176c-4853-9661-8dd670da9dbf",
   "metadata": {},
   "source": [
    "You can see that the above code block, instead of producing a **ZeroDivisionError** exception and halting execution, simply executes the code in the except block and then continues execution. This is extremely useful as execution is never halted, causing no unsightly closing of the application for the user (if you imagine you're programming a piece of software). You can also use the except block to **provide information to the user** that may be useful for reporting the error to developers - a key feature of except blocks that helps with that is their ability to **respond only to specific exception types**. We can use the **Exception** base type as an easy catch-all, which we can then use to access various pieces of information about the exception:"
   ]
  },
  {
   "cell_type": "code",
   "execution_count": null,
   "id": "71f58699-0abe-4ced-9c25-65a007606c93",
   "metadata": {},
   "outputs": [],
   "source": [
    "# try block with divide by zero\n",
    "try:\n",
    "    1 / 0\n",
    "# except block with \"Exception as e\", print e, type(e), and e.args\n",
    "except Exception as e:\n",
    "    print(e)\n",
    "    print(type(e))\n",
    "    print(e.args)"
   ]
  },
  {
   "cell_type": "markdown",
   "id": "890c0483-4b8e-49f1-8c9b-647b0e0464b3",
   "metadata": {},
   "source": [
    "In this case **Exception** is the general catch-all case as it's the base class for all exception types, we can also refer to the **specific exception type** we want to catch:"
   ]
  },
  {
   "cell_type": "code",
   "execution_count": null,
   "id": "c3345a17-9931-480f-81e6-499906f4cf06",
   "metadata": {},
   "outputs": [],
   "source": [
    "# try block with divide by zero\n",
    "try:\n",
    "    1 / 0\n",
    "# except block with ZeroDivisionError as e, print e, type(e), and e.args\n",
    "except ZeroDivisionError as e:\n",
    "    print(e)\n",
    "    print(type(e))\n",
    "    print(e.args)"
   ]
  },
  {
   "cell_type": "markdown",
   "id": "1888c06a-0be5-403c-9e2b-990cae947477",
   "metadata": {},
   "source": [
    "Look at the Python documentation to check all the built-in error types available: https://docs.python.org/3.12/library/exceptions.html\n",
    "\n",
    "We should use specific exception types wherever possible (to both ensure each exception type we're likely to encounter is caught, and to ensure each exception type has information displayed for the user). Do be wary, however, that you can cause an unhandled exception by not catching the correct exception type (bear in mind that not providing an exception type catches all exception types):"
   ]
  },
  {
   "cell_type": "code",
   "execution_count": null,
   "id": "b92dae1f-c749-4194-8789-be1c30ece8a3",
   "metadata": {},
   "outputs": [],
   "source": [
    "# try block with divide by zero\n",
    "try:\n",
    "    1 / 0\n",
    "# except block with ValueError as e and pass\n",
    "except ValueError as e:\n",
    "    print('hi')"
   ]
  },
  {
   "cell_type": "markdown",
   "id": "684efcad-362e-420b-a454-bf0c4e66de25",
   "metadata": {},
   "source": [
    "To handle different exception types, you can use **multiple except blocks** with a single try block:"
   ]
  },
  {
   "cell_type": "code",
   "execution_count": null,
   "id": "d1449e2a-ad29-485a-b213-dd0fc313bbb3",
   "metadata": {},
   "outputs": [],
   "source": [
    "# try block with divide by zero, open non-existent file, and convert string to int\n",
    "try:\n",
    "    1 / 0\n",
    "    open('fakefile.txt')\n",
    "    int('hello')\n",
    "# except block with ZeroDivisionError as e and print type(e)\n",
    "except ZeroDivisionError as e:\n",
    "    print(type(e))\n",
    "# except block with FileNotFoundError as e and print type(e)\n",
    "except FileNotFoundError as e:\n",
    "    print(type(e))\n",
    "# except block with ValueError as e and print type(e)\n",
    "except ValueError as e:\n",
    "    print(type(e))"
   ]
  },
  {
   "cell_type": "markdown",
   "id": "055abb5e-3b79-46ba-afc5-9a4f805ca4e2",
   "metadata": {},
   "source": [
    "You can see that as we comment out lines in the try block (so as to only cause one exception at a time), different except blocks are hit. This is very useful for handling specific exceptions in different ways, but if you want to handle several exceptions in the same fashion, you can use a tuple:"
   ]
  },
  {
   "cell_type": "code",
   "execution_count": null,
   "id": "2b0b0b7a-5dcd-45e6-8732-ef73b81a377b",
   "metadata": {},
   "outputs": [],
   "source": [
    "# try block with divide by zero, open non-existent file, and convert string to int\n",
    "try:\n",
    "    1 / 0\n",
    "    open('fakefile.txt')\n",
    "    int('hello')\n",
    "# except block with (ZeroDivisionError, FileNotFoundError, ValueError) as e and print type(e)\n",
    "except (ZeroDivisionError, FileNotFoundError, ValueError) as e:\n",
    "    print(type(e))"
   ]
  },
  {
   "cell_type": "markdown",
   "id": "bf43bb19-7ac2-4015-8f09-4728a00d3e5e",
   "metadata": {},
   "source": [
    "You may have noticed in a prior code block we called **e.args** to get the arguments - what do arguments refer to in this context? Well, we can force any exception to occur using the **raise** keyword, which we can supply arguments to. This is very useful functionality as the arguments can be related to the exception encountered, providing key information to the developer regarding the exception. Let's look at how to raise an exception with arguments, both with a standard Exception base class and a more specific type:"
   ]
  },
  {
   "cell_type": "code",
   "execution_count": null,
   "id": "a9f87a78-b76d-4fe4-809d-45ea2374db9b",
   "metadata": {},
   "outputs": [],
   "source": [
    "# try block with raise Exception with 2 args\n",
    "try:\n",
    "    raise Exception('args1', 'args2')\n",
    "# except block with print(e.args)\n",
    "except Exception as e:\n",
    "    print(e.args)\n",
    "\n",
    "# try block with raise ValueError with 2 args\n",
    "try:\n",
    "    raise ValueError('args1', 'args2')\n",
    "# except block with print(e.args)\n",
    "except Exception as e:\n",
    "    print(type(e))"
   ]
  },
  {
   "cell_type": "markdown",
   "id": "2e0f94eb-89d2-4705-8759-7533ba7d30a9",
   "metadata": {},
   "source": [
    "Lastly, we can also create our own exception types by creating a class derived from the Exception class below. "
   ]
  },
  {
   "cell_type": "code",
   "execution_count": null,
   "id": "f4c10965-cae7-47c3-ac36-6cf783521aa4",
   "metadata": {},
   "outputs": [],
   "source": [
    "# define empty class MyCustomError\n",
    "class MyCustomError(Exception):\n",
    "    pass\n",
    "\n",
    "# try block with raise MyCustomError, pass 1 string args\n",
    "try:\n",
    "    raise MyCustomError('Oops!')\n",
    "# except block catching Exception as e, print(e)\n",
    "except Exception as e:\n",
    "    print(e)"
   ]
  },
  {
   "cell_type": "markdown",
   "id": "77fb65eb",
   "metadata": {},
   "source": [
    "\n",
    "The Python doc also provides tutorials that explains with examples or a discoursive manner how to use the language; for example, here is a tutorial on user-defines exceptions and clean-up actions with the try statement: https://docs.python.org/3.12/tutorial/errors.html#tut-userexceptions "
   ]
  },
  {
   "cell_type": "code",
   "execution_count": null,
   "id": "6ac9489d",
   "metadata": {},
   "outputs": [],
   "source": []
  },
  {
   "cell_type": "markdown",
   "id": "abd43683-5a93-479a-b7c9-1f207ff8eb8d",
   "metadata": {},
   "source": [
    "## Recap\n",
    "\n",
    "In the 6 weeks of taught content so far, we've covered Python from the ground up covering a wide variety of concepts ranging from **simple variable declarations** to **full usage of the object-oriented programming paradigm**. Some of these topics, particularly in an accelerated module like Data Programming in Python, can be a little more difficult to fully grasp compared to others. In this recap, we'll cover briefly **some of the main topics** that are commonly considered more difficult (or more important) amongst the topics covered so far. These will include **data types**, **functions**, **recursion**, **object-oriented programming** and **namespaces**. \n",
    "\n",
    "Although these topics have already been taught, there may be a few examples that have not been shown in the previous weeks (due to time limitations), so pay attention! This recap will take the form of a set of \"can you predict the output\" code blocks, much like recaps from prior weeks. Nevertheless, I will explain the code cell in any instance where you don't seem sure about what the output could be (or how we got that output), so please ask if you're not sure about anything! Also, we will try and look at the documentations together so that you become familiar with exploring it on your own.\n"
   ]
  },
  {
   "cell_type": "markdown",
   "id": "385ac677",
   "metadata": {},
   "source": [
    "### Data Types\n",
    "\n",
    "#### Sequence types \n",
    "https://docs.python.org/3.12/library/stdtypes.html#sequence-types-list-tuple-range "
   ]
  },
  {
   "cell_type": "code",
   "execution_count": null,
   "id": "f7d2bff9",
   "metadata": {},
   "outputs": [],
   "source": [
    "# list\n",
    "colours = [\"red\", \"blue\", \"pink\", \"green\"]\n",
    "for el in colours:\n",
    "    print(el)\n",
    "\n",
    "colours.append(\"yellow\")\n",
    "\n",
    "print(colours)\n",
    "\n",
    "last = colours.pop()\n",
    "\n",
    "print(last)\n",
    "\n",
    "print(colours)"
   ]
  },
  {
   "cell_type": "code",
   "execution_count": null,
   "id": "180f87ff",
   "metadata": {},
   "outputs": [],
   "source": [
    "# slicing\n",
    "print(colours[-1])\n",
    "\n",
    "print(colours[:3])\n",
    "\n",
    "print(colours[1:3])\n",
    "\n",
    "print(colours[::-1])"
   ]
  },
  {
   "cell_type": "code",
   "execution_count": null,
   "id": "dc817e58",
   "metadata": {},
   "outputs": [],
   "source": [
    "# tuples\n",
    "colours = (\"red\", \"blue\", \"pink\", \"green\")\n",
    "for el in colours:\n",
    "    print(el)\n",
    "\n",
    "colours.append(\"yellow\")\n",
    "\n",
    "print(colours)\n",
    "\n",
    "last = colours.pop()\n",
    "\n",
    "print(last)\n",
    "\n",
    "print(colours)"
   ]
  },
  {
   "cell_type": "markdown",
   "id": "88745d68",
   "metadata": {},
   "source": [
    "#### Set and Dict\n",
    "\n",
    "Set: https://docs.python.org/3.12/library/stdtypes.html#set-types-set-frozenset\n",
    "\n",
    "Dict: https://docs.python.org/3.12/library/stdtypes.html#mapping-types-dict \n",
    "\n"
   ]
  },
  {
   "cell_type": "code",
   "execution_count": null,
   "id": "cd67e097",
   "metadata": {},
   "outputs": [],
   "source": [
    "# set\n",
    "colours = {\"red\", \"blue\", \"pink\", \"green\"}\n",
    "for el in colours:\n",
    "    print(el)\n",
    "\n",
    "# colours.append(\"blue\")\n",
    "colours.add(\"blue\")\n",
    "\n",
    "print(colours)\n",
    "\n",
    "elem = colours.pop()\n",
    "\n",
    "print(elem)\n",
    "\n",
    "print(colours)"
   ]
  },
  {
   "cell_type": "code",
   "execution_count": null,
   "id": "c0eb2b7d",
   "metadata": {},
   "outputs": [],
   "source": [
    "# dict\n",
    "colours = {\"red\": \"ff0000\", \"blue\": \"0000ff\", \"pink\":  \"ffc4ff\", \"green\": \"00ff00\"}\n",
    "for key in colours:\n",
    "    print(key)\n",
    "\n",
    "for values in colours.values():\n",
    "    print(values)\n",
    "\n",
    "\n",
    "for k, v in colours.items():\n",
    "    print(k, v)\n",
    "\n",
    "# colours.append(\"blue\")\n",
    "colours[\"blue\"] = \"0000ff\"\n",
    "colours.update({\n",
    "    \"blue\": \"0000ff\"\n",
    "})\n",
    "\n",
    "print(colours)\n",
    "\n",
    "elem = colours.get(\"red\")\n",
    "\n",
    "print(elem)\n",
    "\n",
    "print(colours)"
   ]
  },
  {
   "cell_type": "markdown",
   "id": "097d6eeb",
   "metadata": {},
   "source": [
    "### None\n",
    "https://docs.python.org/3.12/library/constants.html#None"
   ]
  },
  {
   "cell_type": "code",
   "execution_count": null,
   "id": "e8639d8b",
   "metadata": {},
   "outputs": [],
   "source": [
    "variable = None\n",
    "print(type(variable))"
   ]
  },
  {
   "cell_type": "markdown",
   "id": "d33bba04",
   "metadata": {},
   "source": [
    "\n",
    "## Functions\n",
    "\n",
    "We define functions in Python using the **def** keyword, followed by a symbolic name, and a set of brackets containing any arguments we want to pass. We can use the **return** keyword to pass back the result of any calculations performed,  These are all examples of valid functions, plus the syntax for calling those functions:"
   ]
  },
  {
   "cell_type": "code",
   "execution_count": null,
   "id": "7f24c21b-96bf-4022-a570-84ad90e938dc",
   "metadata": {},
   "outputs": [],
   "source": [
    "# simple \"hello\" print function\n",
    "def print_hello():\n",
    "    print('hello')\n",
    "\n",
    "# call\n",
    "print_hello()\n",
    "\n",
    "# simple x + y sum function\n",
    "def simple_sum(x, y):\n",
    "    return x + y\n",
    "\n",
    "# call with 2 args\n",
    "print(simple_sum(1, 2))\n",
    "\n",
    "# simple x + y + z sum function with default value for z\n",
    "def placeholder_sum(x, y, z = 0):\n",
    "    return x + y + z\n",
    "\n",
    "# call with 3 args\n",
    "print(placeholder_sum(1, 2, 3))\n",
    "\n",
    "# call with 2 args\n",
    "print(placeholder_sum(1, 2))"
   ]
  },
  {
   "cell_type": "markdown",
   "id": "26695d2a-f33d-4ad6-a12a-20ba2b13b706",
   "metadata": {},
   "source": [
    "What will the output of these functions (and their respective calls) be?"
   ]
  },
  {
   "cell_type": "code",
   "execution_count": null,
   "id": "a343c6dd-a29c-4971-83d8-c8bcdf274bee",
   "metadata": {},
   "outputs": [],
   "source": [
    "def greet():\n",
    "    return 'Hey there, nice to meet you!'\n",
    "\n",
    "greet()"
   ]
  },
  {
   "cell_type": "code",
   "execution_count": null,
   "id": "8e4f71b5-e058-4347-bb01-033deed66725",
   "metadata": {},
   "outputs": [],
   "source": [
    "def can_drink(age):\n",
    "    if age >= 18:\n",
    "        return \"Yes, the customer can drink!\"\n",
    "    else:\n",
    "        return \"No, the customer can't drink!\"\n",
    "\n",
    "customer_age = 23\n",
    "can_drink(customer_age)"
   ]
  },
  {
   "cell_type": "code",
   "execution_count": null,
   "id": "7d5f94a8-a88e-4344-959b-046fc8822654",
   "metadata": {},
   "outputs": [],
   "source": [
    "def can_drink(age):\n",
    "    return \"Yes, the customer can drink!\" if age >= 18 else \"No, the customer can't drink!\"\n",
    "\n",
    "can_drink(16)"
   ]
  },
  {
   "cell_type": "code",
   "execution_count": null,
   "id": "679a0ad1-ffc3-47b0-abe2-e66265173c72",
   "metadata": {},
   "outputs": [],
   "source": [
    "def raise_to(x, pow = 2):\n",
    "    return x ** pow\n",
    "\n",
    "raise_to(3)"
   ]
  },
  {
   "cell_type": "code",
   "execution_count": null,
   "id": "b5335447",
   "metadata": {},
   "outputs": [],
   "source": [
    "def something(var):\n",
    "    pass\n",
    "\n",
    "print(something(5.6))\n",
    "\n",
    "def sum(var1=None, var2=None):\n",
    "    if var1 is None or var2 is None:\n",
    "        raise Exception(\"arguments not passed!\")\n",
    "    res = var1+var2\n",
    "\n",
    "print(sum())"
   ]
  },
  {
   "cell_type": "markdown",
   "id": "18301f4a-5243-4fdc-9529-2ef239e2111e",
   "metadata": {},
   "source": [
    "## Recursion\n",
    "\n",
    "Recursion refers simply to functions that call themselves, primarily until a certain condition is met - this method of execution is highly comparable to while loops. This is not applicable to many cases, but is extremely effective in the cases that it is suitable for. These are all examples of valid recursive functions:"
   ]
  },
  {
   "cell_type": "code",
   "execution_count": null,
   "id": "c5efab9a-1e52-45fa-9da8-7fdd269e3abc",
   "metadata": {},
   "outputs": [],
   "source": [
    "# simple add_one recursive function taking x\n",
    "def add_one(x):\n",
    "    # condition, return x\n",
    "    if x == 5:\n",
    "        return x\n",
    "    # else print, call with x + 1\n",
    "    else:\n",
    "        print(x)\n",
    "        add_one(x + 1)\n",
    "\n",
    "add_one(1)\n",
    "\n",
    "# simple recursive_double function taking x\n",
    "def recursive_double(x):\n",
    "    # condition, return x\n",
    "    if x >= 100:\n",
    "        return x\n",
    "    # else print, call with x * 2\n",
    "    else:\n",
    "        print(x)\n",
    "        recursive_double(x * 2)\n",
    "\n",
    "recursive_double(1)"
   ]
  },
  {
   "cell_type": "markdown",
   "id": "876f2ea1-720f-4968-aa46-7491690290a5",
   "metadata": {},
   "source": [
    "What will the output of these recursive functions (and their respective calls) be?"
   ]
  },
  {
   "cell_type": "code",
   "execution_count": null,
   "id": "a1107af9-0b75-44dd-9e18-cc89e90ed9d3",
   "metadata": {},
   "outputs": [],
   "source": [
    "def sr(x):\n",
    "    if len(x) == 0:\n",
    "        return x\n",
    "    else:\n",
    "        return sr(x[1:]) + x[0]\n",
    "\n",
    "sr('Hello, nice to meet you!')"
   ]
  },
  {
   "cell_type": "code",
   "execution_count": null,
   "id": "d8145e59-506e-4691-b43a-bfc2211301d0",
   "metadata": {},
   "outputs": [],
   "source": [
    "def pw(x, y):\n",
    "    if y == 0:\n",
    "        return 1\n",
    "    elif x == 0:\n",
    "        return 0\n",
    "    elif y == 1:\n",
    "        return x\n",
    "    else:\n",
    "        return x * pw(x, y - 1)\n",
    "\n",
    "pw(2, 4)"
   ]
  },
  {
   "cell_type": "code",
   "execution_count": null,
   "id": "10f9c167-65bd-4233-9ac3-e2915d4f242d",
   "metadata": {},
   "outputs": [],
   "source": [
    "def sumd(x):\n",
    "    if x == 0:\n",
    "        return 0\n",
    "    else:\n",
    "        return int(x % 10) + sumd(int(x / 10))\n",
    "\n",
    "sumd(123)"
   ]
  },
  {
   "cell_type": "code",
   "execution_count": null,
   "id": "5c5c6d5e-faed-4ec6-9484-cc11408fbc24",
   "metadata": {},
   "outputs": [],
   "source": [
    "def gcd(x, y):\n",
    "    low = min(x, y)\n",
    "    high = max(x, y)\n",
    "\n",
    "    if low == 0:\n",
    "        return high\n",
    "    elif low == 1:\n",
    "        return 1\n",
    "    else:\n",
    "        return gcd(low, high % low)\n",
    "\n",
    "gcd(36, 72)"
   ]
  },
  {
   "cell_type": "markdown",
   "id": "447d688e-629b-481a-a4eb-a6a91407025a",
   "metadata": {},
   "source": [
    "## Object-Oriented Programming"
   ]
  },
  {
   "cell_type": "markdown",
   "id": "809fd506-f9e6-4668-bade-457819a74fc0",
   "metadata": {},
   "source": [
    "Object-Oriented Programming is a programming paradigm revolving around the usage of classes and objects, as well as the key concepts (known as pillars) inheritance, encapsulation, and polymorphism. These are all examples of valid classes and objects:"
   ]
  },
  {
   "cell_type": "code",
   "execution_count": null,
   "id": "1f70d2e8-b56d-446d-8491-25d675b9fd57",
   "metadata": {},
   "outputs": [],
   "source": [
    "# simple class car with initialiser, 2 instance attributes wheels and doors\n",
    "class Car:\n",
    "    def __init__(self, wheels, doors):\n",
    "        self.wheels = wheels\n",
    "        self.doors = doors\n",
    "\n",
    "# create object (instance of Car)\n",
    "my_car = Car(4, 5)\n",
    "\n",
    "# access instance attributes wheels and doors\n",
    "my_car.wheels, my_car.doors\n",
    "\n",
    "# simple class vehicle with initialiser, 2 instance attributes wheels and top_speed\n",
    "# and method desc that prints desc\n",
    "class Vehicle:\n",
    "    def __init__(self, wheels, top_speed):\n",
    "        self.wheels = wheels\n",
    "        self.top_speed = top_speed\n",
    "\n",
    "    def desc(self):\n",
    "        print('This is a vehicle.')\n",
    "\n",
    "# simple class bike with base class vehicle with initialiser, 2 instance attributes wheels and top_speed\n",
    "# and method desc that prints super desc and desc\n",
    "class Bike(Vehicle):\n",
    "    def __init__(self, wheels, top_speed):\n",
    "        super().__init__(wheels, top_speed)\n",
    "\n",
    "    def desc(self):\n",
    "        super().desc()\n",
    "        print('This is a bike.')\n",
    "\n",
    "# create vehicle instance and call desc\n",
    "my_vehicle = Vehicle(4, 120)\n",
    "my_vehicle.desc()\n",
    "\n",
    "# create bike instance and call desc\n",
    "my_bike = Bike(2, 25)\n",
    "my_bike.desc()"
   ]
  },
  {
   "cell_type": "markdown",
   "id": "890844a8-9a52-494e-beab-742269a12f39",
   "metadata": {},
   "source": [
    "What will the output of the following classes and respective object/instance calls be?"
   ]
  },
  {
   "cell_type": "code",
   "execution_count": null,
   "id": "11fa2d14-aa60-4f59-a3f9-0be46be2a06c",
   "metadata": {},
   "outputs": [],
   "source": [
    "class Banana:\n",
    "    def type(self):\n",
    "        return 'Fruit'\n",
    "\n",
    "    def colour(self):\n",
    "        return 'Yellow'\n",
    "\n",
    "    def __repr__(self):\n",
    "        return 'Banana'\n",
    "\n",
    "class Cauliflower:\n",
    "    def type(self):\n",
    "        return 'Vegetable'\n",
    "\n",
    "    def colour(self):\n",
    "        return 'White'\n",
    "\n",
    "    def __repr__(self):\n",
    "        return 'Cauliflower'\n",
    "\n",
    "banana = Banana()\n",
    "cauliflower = Cauliflower()\n",
    "\n",
    "for i in [banana, cauliflower]:\n",
    "    print(f'A {i} is a {i.colour()} {i.type()}')"
   ]
  },
  {
   "cell_type": "code",
   "execution_count": null,
   "id": "ad02795c-aeef-4b57-9852-f418020a602d",
   "metadata": {},
   "outputs": [],
   "source": [
    "class StaffMember:\n",
    "    def __init__(self, name, salary, field):\n",
    "        self.__name = name\n",
    "        self.__salary = salary\n",
    "        self.__field = field\n",
    "\n",
    "    def get_name(self):\n",
    "        return self.__name\n",
    "        \n",
    "    def get_salary(self):\n",
    "        return self.__salary\n",
    "\n",
    "    def get_field(self):\n",
    "        return self.__field\n",
    "\n",
    "j_doe = StaffMember('John Doe', 87000, 'Machine Learning')\n",
    "\n",
    "print(f'{j_doe.get_name()} works in {j_doe.get_field()} and earns ${j_doe.get_salary()}/year.')"
   ]
  },
  {
   "cell_type": "code",
   "execution_count": null,
   "id": "5e11ce73-00e3-4f4e-b1a1-2d41511e7953",
   "metadata": {},
   "outputs": [],
   "source": [
    "class Member:\n",
    "    def __init__(self, name, age):\n",
    "        self.__name = name\n",
    "        self.__age = age\n",
    "    \n",
    "    def greet(self):\n",
    "        return (f'Hello, my name is {self.__name}, I am {self.__age} years old, and I am a Member.')\n",
    "\n",
    "class Administrator(Member):\n",
    "    def __init__(self, name, age, access_level):\n",
    "        super().__init__(name, age)\n",
    "        self.__access_level = access_level\n",
    "\n",
    "    def greet(self):\n",
    "        return (f'{super().greet()} I am also an Administrator with access level {self.__access_level}.')\n",
    "\n",
    "john_doe = Member(\"John\", 23)\n",
    "print(john_doe.greet())\n",
    "\n",
    "jane_doe = Administrator(\"Jane\", 28, 3)\n",
    "print(jane_doe.greet())"
   ]
  },
  {
   "cell_type": "markdown",
   "id": "6c1b3a45",
   "metadata": {},
   "source": [
    "isinstance built-in function: https://docs.python.org/3.12/library/functions.html#isinstance\n"
   ]
  },
  {
   "cell_type": "code",
   "execution_count": null,
   "id": "61093f98",
   "metadata": {},
   "outputs": [],
   "source": [
    "print(\n",
    "    isinstance(jane_doe, Administrator)\n",
    ")\n",
    "\n",
    "print(\n",
    "    isinstance(jane_doe, Member)\n",
    ")"
   ]
  },
  {
   "cell_type": "markdown",
   "id": "7180ab27",
   "metadata": {},
   "source": [
    "## Namespaces\n",
    "\n",
    "Finally, we are going to do a quick recap on the scope of variables with functions and classes.\n"
   ]
  },
  {
   "cell_type": "code",
   "execution_count": null,
   "id": "3beccece",
   "metadata": {},
   "outputs": [],
   "source": [
    "# example 1\n",
    "number = 19\n",
    "\n",
    "def add_ten():\n",
    "    print(number)\n",
    "    number += 10\n",
    "\n",
    "add_ten()\n",
    "print(number)\n",
    "\n",
    "# example 2\n",
    "number = 19\n",
    "\n",
    "def add_ten():\n",
    "    global number\n",
    "    number += 10\n",
    "\n",
    "add_ten()\n",
    "print(number)\n",
    "\n",
    "# example 3\n",
    "colours = [\"red\", \"blue\", \"pink\", \"green\"]\n",
    "\n",
    "def add_colour():\n",
    "    colours.append(\"yellow\")\n",
    "\n",
    "add_colour()\n",
    "print(colours)\n",
    "\n",
    "# example 2\n",
    "colours = [\"red\", \"blue\", \"pink\", \"green\"]\n",
    "\n",
    "def add_colour():\n",
    "    colours += \"yellow\"\n",
    "\n",
    "add_colour()\n",
    "print(colours)\n",
    "\n"
   ]
  },
  {
   "cell_type": "markdown",
   "id": "58b33763",
   "metadata": {},
   "source": [
    "https://docs.python.org/3/faq/programming.html#why-am-i-getting-an-unboundlocalerror-when-the-variable-has-a-value\n"
   ]
  },
  {
   "cell_type": "code",
   "execution_count": null,
   "id": "55baf0ce",
   "metadata": {},
   "outputs": [],
   "source": [
    "class Human:\n",
    "    type = \"human\" # class attribute\n",
    "\n",
    "class Adult(Human):\n",
    "    type = \"adult\"\n",
    "\n",
    "    def __init__(self, name):\n",
    "        self.name = name # instance attribute\n",
    "\n",
    "class Child(Human):\n",
    "    type = \"child\"\n",
    "\n",
    "print(Human.type)\n",
    "print(Child.type)\n",
    "\n",
    "adult = Adult(\"Hanna\")\n",
    "print(adult.name)"
   ]
  },
  {
   "cell_type": "code",
   "execution_count": null,
   "id": "a2312f84",
   "metadata": {},
   "outputs": [],
   "source": [
    "class Human:\n",
    "    __type = \"human\" # private attribute\n",
    "\n",
    "class Adult(Human):\n",
    "    type = \"adult\"\n",
    "\n",
    "    def __init__(self, name):\n",
    "        self.__name = name \n",
    "\n",
    "class Child(Human):\n",
    "    type = \"child\"\n",
    "\n",
    "    def __init__(self):\n",
    "        print(self.__type)\n",
    "\n",
    "print(Human.__type)\n",
    "print(Child())\n",
    "\n",
    "adult = Adult(\"Hanna\")\n",
    "print(adult.name)"
   ]
  },
  {
   "cell_type": "code",
   "execution_count": null,
   "id": "c1f4865f",
   "metadata": {},
   "outputs": [],
   "source": [
    "class Human:\n",
    "    _type = \"human\" # protected attribute\n",
    "\n",
    "class Adult(Human):\n",
    "    type = \"adult\"\n",
    "\n",
    "    def __init__(self, name):\n",
    "        self._name = name \n",
    "\n",
    "class Child(Human):\n",
    "    type = \"child\"\n",
    "\n",
    "    def __init__(self):\n",
    "        print(self._type)\n",
    "\n",
    "print(Human._type)\n",
    "print(Child())\n",
    "\n",
    "adult = Adult(\"Hanna\")\n",
    "print(adult._name)"
   ]
  },
  {
   "cell_type": "code",
   "execution_count": null,
   "id": "bfd730a4",
   "metadata": {},
   "outputs": [],
   "source": []
  }
 ],
 "metadata": {
  "kernelspec": {
   "display_name": "Python 3",
   "language": "python",
   "name": "python3"
  },
  "language_info": {
   "codemirror_mode": {
    "name": "ipython",
    "version": 3
   },
   "file_extension": ".py",
   "mimetype": "text/x-python",
   "name": "python",
   "nbconvert_exporter": "python",
   "pygments_lexer": "ipython3",
   "version": "3.12.6"
  }
 },
 "nbformat": 4,
 "nbformat_minor": 5
}
